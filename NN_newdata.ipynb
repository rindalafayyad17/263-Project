{
  "nbformat": 4,
  "nbformat_minor": 0,
  "metadata": {
    "colab": {
      "name": "NN_newdata.ipynb",
      "provenance": [],
      "collapsed_sections": []
    },
    "kernelspec": {
      "name": "python3",
      "display_name": "Python 3"
    },
    "language_info": {
      "name": "python"
    }
  },
  "cells": [
    {
      "cell_type": "code",
      "execution_count": 1,
      "metadata": {
        "colab": {
          "base_uri": "https://localhost:8080/"
        },
        "id": "_GEDsIaMGY_5",
        "outputId": "294a8c15-676b-4138-95fd-134cdcf6a6da"
      },
      "outputs": [
        {
          "output_type": "stream",
          "name": "stdout",
          "text": [
            "Collecting category_encoders\n",
            "  Downloading category_encoders-2.4.0-py2.py3-none-any.whl (86 kB)\n",
            "\u001b[?25l\r\u001b[K     |███▉                            | 10 kB 17.2 MB/s eta 0:00:01\r\u001b[K     |███████▋                        | 20 kB 8.7 MB/s eta 0:00:01\r\u001b[K     |███████████▍                    | 30 kB 5.9 MB/s eta 0:00:01\r\u001b[K     |███████████████▏                | 40 kB 4.7 MB/s eta 0:00:01\r\u001b[K     |███████████████████             | 51 kB 3.7 MB/s eta 0:00:01\r\u001b[K     |██████████████████████▊         | 61 kB 4.3 MB/s eta 0:00:01\r\u001b[K     |██████████████████████████▌     | 71 kB 4.8 MB/s eta 0:00:01\r\u001b[K     |██████████████████████████████▎ | 81 kB 5.4 MB/s eta 0:00:01\r\u001b[K     |████████████████████████████████| 86 kB 2.9 MB/s \n",
            "\u001b[?25hRequirement already satisfied: scikit-learn>=0.20.0 in /usr/local/lib/python3.7/dist-packages (from category_encoders) (1.0.2)\n",
            "Requirement already satisfied: numpy>=1.14.0 in /usr/local/lib/python3.7/dist-packages (from category_encoders) (1.21.6)\n",
            "Requirement already satisfied: pandas>=0.21.1 in /usr/local/lib/python3.7/dist-packages (from category_encoders) (1.3.5)\n",
            "Requirement already satisfied: patsy>=0.5.1 in /usr/local/lib/python3.7/dist-packages (from category_encoders) (0.5.2)\n",
            "Requirement already satisfied: statsmodels>=0.9.0 in /usr/local/lib/python3.7/dist-packages (from category_encoders) (0.10.2)\n",
            "Requirement already satisfied: scipy>=1.0.0 in /usr/local/lib/python3.7/dist-packages (from category_encoders) (1.4.1)\n",
            "Requirement already satisfied: python-dateutil>=2.7.3 in /usr/local/lib/python3.7/dist-packages (from pandas>=0.21.1->category_encoders) (2.8.2)\n",
            "Requirement already satisfied: pytz>=2017.3 in /usr/local/lib/python3.7/dist-packages (from pandas>=0.21.1->category_encoders) (2022.1)\n",
            "Requirement already satisfied: six in /usr/local/lib/python3.7/dist-packages (from patsy>=0.5.1->category_encoders) (1.15.0)\n",
            "Requirement already satisfied: joblib>=0.11 in /usr/local/lib/python3.7/dist-packages (from scikit-learn>=0.20.0->category_encoders) (1.1.0)\n",
            "Requirement already satisfied: threadpoolctl>=2.0.0 in /usr/local/lib/python3.7/dist-packages (from scikit-learn>=0.20.0->category_encoders) (3.1.0)\n",
            "Installing collected packages: category-encoders\n",
            "Successfully installed category-encoders-2.4.0\n"
          ]
        },
        {
          "output_type": "stream",
          "name": "stderr",
          "text": [
            "/usr/local/lib/python3.7/dist-packages/statsmodels/tools/_testing.py:19: FutureWarning: pandas.util.testing is deprecated. Use the functions in the public API at pandas.testing instead.\n",
            "  import pandas.util.testing as tm\n"
          ]
        }
      ],
      "source": [
        "import os\n",
        "import pandas as pd\n",
        "import numpy as np\n",
        "import random\n",
        "import matplotlib.pyplot as plt\n",
        "from sklearn import preprocessing\n",
        "from scipy import stats\n",
        "from scipy.stats import zscore\n",
        "from math import radians, cos, sin, asin, sqrt\n",
        "import pydot\n",
        "import seaborn as sns\n",
        "import keras\n",
        "import tensorflow as tf\n",
        "from tensorflow.keras import backend as K\n",
        "from tensorflow.keras import datasets, layers, models\n",
        "import os, shutil\n",
        "from sklearn.preprocessing import OneHotEncoder\n",
        "from sklearn.model_selection import train_test_split\n",
        "!pip install category_encoders\n",
        "import category_encoders as ce\n",
        "from sklearn.metrics import confusion_matrix\n",
        "from sklearn.metrics import accuracy_score, precision_score, recall_score, f1_score\n",
        "from sklearn.metrics import classification_report"
      ]
    },
    {
      "cell_type": "code",
      "source": [
        "# load in data \n",
        "url = 'https://raw.githubusercontent.com/rindalafayyad17/263-Project/main/diabetes_012_health_indicators_BRFSS2015.csv'\n",
        "diabetes = pd.read_csv(url)"
      ],
      "metadata": {
        "id": "T_tnBUyVGgL7"
      },
      "execution_count": 2,
      "outputs": []
    },
    {
      "cell_type": "code",
      "source": [
        "diabetes.shape"
      ],
      "metadata": {
        "colab": {
          "base_uri": "https://localhost:8080/"
        },
        "id": "wS65xYKSGk3H",
        "outputId": "17e4cb11-d389-4844-f6f1-505cfa4d3fe5"
      },
      "execution_count": 3,
      "outputs": [
        {
          "output_type": "execute_result",
          "data": {
            "text/plain": [
              "(253680, 22)"
            ]
          },
          "metadata": {},
          "execution_count": 3
        }
      ]
    },
    {
      "cell_type": "code",
      "source": [
        "# check the counts for 0 no diabetes, 1 prediabetic, 2 diabetic\n",
        "diabetes['Diabetes_012'].value_counts()"
      ],
      "metadata": {
        "colab": {
          "base_uri": "https://localhost:8080/"
        },
        "id": "Kzfh5ABuGoAl",
        "outputId": "93d4c188-b0aa-4cb7-b55c-06064bbaa561"
      },
      "execution_count": 4,
      "outputs": [
        {
          "output_type": "execute_result",
          "data": {
            "text/plain": [
              "0.0    213703\n",
              "2.0     35346\n",
              "1.0      4631\n",
              "Name: Diabetes_012, dtype: int64"
            ]
          },
          "metadata": {},
          "execution_count": 4
        }
      ]
    },
    {
      "cell_type": "code",
      "source": [
        "# reclassify the prediabetic as diabetic instead \n",
        "diabetes[diabetes['Diabetes_012'] == 0.0] = 1.0\n"
      ],
      "metadata": {
        "id": "dzOv8anwG6TZ"
      },
      "execution_count": 6,
      "outputs": []
    },
    {
      "cell_type": "code",
      "source": [
        "# check the counts for 0 no diabetes, 1 prediabetic, 2 diabetic\n",
        "diabetes['Diabetes_012'].value_counts()"
      ],
      "metadata": {
        "colab": {
          "base_uri": "https://localhost:8080/"
        },
        "id": "v1VhAyXSHSez",
        "outputId": "746a3213-0a1c-4130-826b-1a2d2bec6269"
      },
      "execution_count": 7,
      "outputs": [
        {
          "output_type": "execute_result",
          "data": {
            "text/plain": [
              "1.0    218334\n",
              "2.0     35346\n",
              "Name: Diabetes_012, dtype: int64"
            ]
          },
          "metadata": {},
          "execution_count": 7
        }
      ]
    },
    {
      "cell_type": "code",
      "source": [
        "#using category encoders instead\n",
        "ce_OHE = ce.OneHotEncoder(cols=['Age','Education', 'Income'])\n",
        "\n",
        "diabetes_final = ce_OHE.fit_transform(diabetes)\n",
        "print(diabetes_final.head())\n",
        "diabetes_final.shape"
      ],
      "metadata": {
        "colab": {
          "base_uri": "https://localhost:8080/"
        },
        "id": "u2smfJd7HXVu",
        "outputId": "c3ed5040-e1bd-4ef6-875f-0f28e2823be8"
      },
      "execution_count": 8,
      "outputs": [
        {
          "output_type": "stream",
          "name": "stdout",
          "text": [
            "   Diabetes_012  HighBP  HighChol  CholCheck  BMI  Smoker  Stroke  \\\n",
            "0           1.0     1.0       1.0        1.0  1.0     1.0     1.0   \n",
            "1           1.0     1.0       1.0        1.0  1.0     1.0     1.0   \n",
            "2           1.0     1.0       1.0        1.0  1.0     1.0     1.0   \n",
            "3           1.0     1.0       1.0        1.0  1.0     1.0     1.0   \n",
            "4           1.0     1.0       1.0        1.0  1.0     1.0     1.0   \n",
            "\n",
            "   HeartDiseaseorAttack  PhysActivity  Fruits  ...  Education_5  Education_6  \\\n",
            "0                   1.0           1.0     1.0  ...            0            0   \n",
            "1                   1.0           1.0     1.0  ...            0            0   \n",
            "2                   1.0           1.0     1.0  ...            0            0   \n",
            "3                   1.0           1.0     1.0  ...            0            0   \n",
            "4                   1.0           1.0     1.0  ...            0            0   \n",
            "\n",
            "   Income_1  Income_2  Income_3  Income_4  Income_5  Income_6  Income_7  \\\n",
            "0         1         0         0         0         0         0         0   \n",
            "1         1         0         0         0         0         0         0   \n",
            "2         1         0         0         0         0         0         0   \n",
            "3         1         0         0         0         0         0         0   \n",
            "4         1         0         0         0         0         0         0   \n",
            "\n",
            "   Income_8  \n",
            "0         0  \n",
            "1         0  \n",
            "2         0  \n",
            "3         0  \n",
            "4         0  \n",
            "\n",
            "[5 rows x 46 columns]\n"
          ]
        },
        {
          "output_type": "execute_result",
          "data": {
            "text/plain": [
              "(253680, 46)"
            ]
          },
          "metadata": {},
          "execution_count": 8
        }
      ]
    },
    {
      "cell_type": "code",
      "source": [
        "# need to make training, validation and test split\n",
        "features = diabetes_final.drop('Diabetes_012', axis = 1)\n",
        "\n",
        "# reshape labels and encode them\n",
        "ce_OHE = ce.OneHotEncoder(cols=['Diabetes_012'])\n",
        "labels = ce_OHE.fit_transform(diabetes_final)\n",
        "labels = labels.iloc[:,0:2]"
      ],
      "metadata": {
        "id": "ThwRU9U-Hap4"
      },
      "execution_count": 11,
      "outputs": []
    },
    {
      "cell_type": "code",
      "source": [
        "# split into training and testing set \n",
        "X_train, X_test, y_train, y_test = train_test_split(features, labels,\n",
        "    test_size=0.2, shuffle = True, random_state = 356)\n",
        "\n",
        "# Use the same function above to spliut the training into train and validation set\n",
        "X_train, X_val, y_train, y_val = train_test_split(X_train, y_train, \n",
        "    test_size=0.25, random_state= 356) # 0.25 x 0.8 = 0.2"
      ],
      "metadata": {
        "id": "tqKYTUoAHeRa"
      },
      "execution_count": 15,
      "outputs": []
    },
    {
      "cell_type": "code",
      "source": [
        "features.head()"
      ],
      "metadata": {
        "colab": {
          "base_uri": "https://localhost:8080/",
          "height": 236
        },
        "id": "WiD9pXpXIEEp",
        "outputId": "6bf6a7de-8895-4b8f-c4f8-9388eaa188f9"
      },
      "execution_count": 20,
      "outputs": [
        {
          "output_type": "execute_result",
          "data": {
            "text/plain": [
              "   HighBP  HighChol  CholCheck  BMI  Smoker  Stroke  HeartDiseaseorAttack  \\\n",
              "0     1.0       1.0        1.0  1.0     1.0     1.0                   1.0   \n",
              "1     1.0       1.0        1.0  1.0     1.0     1.0                   1.0   \n",
              "2     1.0       1.0        1.0  1.0     1.0     1.0                   1.0   \n",
              "3     1.0       1.0        1.0  1.0     1.0     1.0                   1.0   \n",
              "4     1.0       1.0        1.0  1.0     1.0     1.0                   1.0   \n",
              "\n",
              "   PhysActivity  Fruits  Veggies  ...  Education_5  Education_6  Income_1  \\\n",
              "0           1.0     1.0      1.0  ...            0            0         1   \n",
              "1           1.0     1.0      1.0  ...            0            0         1   \n",
              "2           1.0     1.0      1.0  ...            0            0         1   \n",
              "3           1.0     1.0      1.0  ...            0            0         1   \n",
              "4           1.0     1.0      1.0  ...            0            0         1   \n",
              "\n",
              "   Income_2  Income_3  Income_4  Income_5  Income_6  Income_7  Income_8  \n",
              "0         0         0         0         0         0         0         0  \n",
              "1         0         0         0         0         0         0         0  \n",
              "2         0         0         0         0         0         0         0  \n",
              "3         0         0         0         0         0         0         0  \n",
              "4         0         0         0         0         0         0         0  \n",
              "\n",
              "[5 rows x 45 columns]"
            ],
            "text/html": [
              "\n",
              "  <div id=\"df-164c7968-2f23-403f-b0ba-a6b16e4479fa\">\n",
              "    <div class=\"colab-df-container\">\n",
              "      <div>\n",
              "<style scoped>\n",
              "    .dataframe tbody tr th:only-of-type {\n",
              "        vertical-align: middle;\n",
              "    }\n",
              "\n",
              "    .dataframe tbody tr th {\n",
              "        vertical-align: top;\n",
              "    }\n",
              "\n",
              "    .dataframe thead th {\n",
              "        text-align: right;\n",
              "    }\n",
              "</style>\n",
              "<table border=\"1\" class=\"dataframe\">\n",
              "  <thead>\n",
              "    <tr style=\"text-align: right;\">\n",
              "      <th></th>\n",
              "      <th>HighBP</th>\n",
              "      <th>HighChol</th>\n",
              "      <th>CholCheck</th>\n",
              "      <th>BMI</th>\n",
              "      <th>Smoker</th>\n",
              "      <th>Stroke</th>\n",
              "      <th>HeartDiseaseorAttack</th>\n",
              "      <th>PhysActivity</th>\n",
              "      <th>Fruits</th>\n",
              "      <th>Veggies</th>\n",
              "      <th>...</th>\n",
              "      <th>Education_5</th>\n",
              "      <th>Education_6</th>\n",
              "      <th>Income_1</th>\n",
              "      <th>Income_2</th>\n",
              "      <th>Income_3</th>\n",
              "      <th>Income_4</th>\n",
              "      <th>Income_5</th>\n",
              "      <th>Income_6</th>\n",
              "      <th>Income_7</th>\n",
              "      <th>Income_8</th>\n",
              "    </tr>\n",
              "  </thead>\n",
              "  <tbody>\n",
              "    <tr>\n",
              "      <th>0</th>\n",
              "      <td>1.0</td>\n",
              "      <td>1.0</td>\n",
              "      <td>1.0</td>\n",
              "      <td>1.0</td>\n",
              "      <td>1.0</td>\n",
              "      <td>1.0</td>\n",
              "      <td>1.0</td>\n",
              "      <td>1.0</td>\n",
              "      <td>1.0</td>\n",
              "      <td>1.0</td>\n",
              "      <td>...</td>\n",
              "      <td>0</td>\n",
              "      <td>0</td>\n",
              "      <td>1</td>\n",
              "      <td>0</td>\n",
              "      <td>0</td>\n",
              "      <td>0</td>\n",
              "      <td>0</td>\n",
              "      <td>0</td>\n",
              "      <td>0</td>\n",
              "      <td>0</td>\n",
              "    </tr>\n",
              "    <tr>\n",
              "      <th>1</th>\n",
              "      <td>1.0</td>\n",
              "      <td>1.0</td>\n",
              "      <td>1.0</td>\n",
              "      <td>1.0</td>\n",
              "      <td>1.0</td>\n",
              "      <td>1.0</td>\n",
              "      <td>1.0</td>\n",
              "      <td>1.0</td>\n",
              "      <td>1.0</td>\n",
              "      <td>1.0</td>\n",
              "      <td>...</td>\n",
              "      <td>0</td>\n",
              "      <td>0</td>\n",
              "      <td>1</td>\n",
              "      <td>0</td>\n",
              "      <td>0</td>\n",
              "      <td>0</td>\n",
              "      <td>0</td>\n",
              "      <td>0</td>\n",
              "      <td>0</td>\n",
              "      <td>0</td>\n",
              "    </tr>\n",
              "    <tr>\n",
              "      <th>2</th>\n",
              "      <td>1.0</td>\n",
              "      <td>1.0</td>\n",
              "      <td>1.0</td>\n",
              "      <td>1.0</td>\n",
              "      <td>1.0</td>\n",
              "      <td>1.0</td>\n",
              "      <td>1.0</td>\n",
              "      <td>1.0</td>\n",
              "      <td>1.0</td>\n",
              "      <td>1.0</td>\n",
              "      <td>...</td>\n",
              "      <td>0</td>\n",
              "      <td>0</td>\n",
              "      <td>1</td>\n",
              "      <td>0</td>\n",
              "      <td>0</td>\n",
              "      <td>0</td>\n",
              "      <td>0</td>\n",
              "      <td>0</td>\n",
              "      <td>0</td>\n",
              "      <td>0</td>\n",
              "    </tr>\n",
              "    <tr>\n",
              "      <th>3</th>\n",
              "      <td>1.0</td>\n",
              "      <td>1.0</td>\n",
              "      <td>1.0</td>\n",
              "      <td>1.0</td>\n",
              "      <td>1.0</td>\n",
              "      <td>1.0</td>\n",
              "      <td>1.0</td>\n",
              "      <td>1.0</td>\n",
              "      <td>1.0</td>\n",
              "      <td>1.0</td>\n",
              "      <td>...</td>\n",
              "      <td>0</td>\n",
              "      <td>0</td>\n",
              "      <td>1</td>\n",
              "      <td>0</td>\n",
              "      <td>0</td>\n",
              "      <td>0</td>\n",
              "      <td>0</td>\n",
              "      <td>0</td>\n",
              "      <td>0</td>\n",
              "      <td>0</td>\n",
              "    </tr>\n",
              "    <tr>\n",
              "      <th>4</th>\n",
              "      <td>1.0</td>\n",
              "      <td>1.0</td>\n",
              "      <td>1.0</td>\n",
              "      <td>1.0</td>\n",
              "      <td>1.0</td>\n",
              "      <td>1.0</td>\n",
              "      <td>1.0</td>\n",
              "      <td>1.0</td>\n",
              "      <td>1.0</td>\n",
              "      <td>1.0</td>\n",
              "      <td>...</td>\n",
              "      <td>0</td>\n",
              "      <td>0</td>\n",
              "      <td>1</td>\n",
              "      <td>0</td>\n",
              "      <td>0</td>\n",
              "      <td>0</td>\n",
              "      <td>0</td>\n",
              "      <td>0</td>\n",
              "      <td>0</td>\n",
              "      <td>0</td>\n",
              "    </tr>\n",
              "  </tbody>\n",
              "</table>\n",
              "<p>5 rows × 45 columns</p>\n",
              "</div>\n",
              "      <button class=\"colab-df-convert\" onclick=\"convertToInteractive('df-164c7968-2f23-403f-b0ba-a6b16e4479fa')\"\n",
              "              title=\"Convert this dataframe to an interactive table.\"\n",
              "              style=\"display:none;\">\n",
              "        \n",
              "  <svg xmlns=\"http://www.w3.org/2000/svg\" height=\"24px\"viewBox=\"0 0 24 24\"\n",
              "       width=\"24px\">\n",
              "    <path d=\"M0 0h24v24H0V0z\" fill=\"none\"/>\n",
              "    <path d=\"M18.56 5.44l.94 2.06.94-2.06 2.06-.94-2.06-.94-.94-2.06-.94 2.06-2.06.94zm-11 1L8.5 8.5l.94-2.06 2.06-.94-2.06-.94L8.5 2.5l-.94 2.06-2.06.94zm10 10l.94 2.06.94-2.06 2.06-.94-2.06-.94-.94-2.06-.94 2.06-2.06.94z\"/><path d=\"M17.41 7.96l-1.37-1.37c-.4-.4-.92-.59-1.43-.59-.52 0-1.04.2-1.43.59L10.3 9.45l-7.72 7.72c-.78.78-.78 2.05 0 2.83L4 21.41c.39.39.9.59 1.41.59.51 0 1.02-.2 1.41-.59l7.78-7.78 2.81-2.81c.8-.78.8-2.07 0-2.86zM5.41 20L4 18.59l7.72-7.72 1.47 1.35L5.41 20z\"/>\n",
              "  </svg>\n",
              "      </button>\n",
              "      \n",
              "  <style>\n",
              "    .colab-df-container {\n",
              "      display:flex;\n",
              "      flex-wrap:wrap;\n",
              "      gap: 12px;\n",
              "    }\n",
              "\n",
              "    .colab-df-convert {\n",
              "      background-color: #E8F0FE;\n",
              "      border: none;\n",
              "      border-radius: 50%;\n",
              "      cursor: pointer;\n",
              "      display: none;\n",
              "      fill: #1967D2;\n",
              "      height: 32px;\n",
              "      padding: 0 0 0 0;\n",
              "      width: 32px;\n",
              "    }\n",
              "\n",
              "    .colab-df-convert:hover {\n",
              "      background-color: #E2EBFA;\n",
              "      box-shadow: 0px 1px 2px rgba(60, 64, 67, 0.3), 0px 1px 3px 1px rgba(60, 64, 67, 0.15);\n",
              "      fill: #174EA6;\n",
              "    }\n",
              "\n",
              "    [theme=dark] .colab-df-convert {\n",
              "      background-color: #3B4455;\n",
              "      fill: #D2E3FC;\n",
              "    }\n",
              "\n",
              "    [theme=dark] .colab-df-convert:hover {\n",
              "      background-color: #434B5C;\n",
              "      box-shadow: 0px 1px 3px 1px rgba(0, 0, 0, 0.15);\n",
              "      filter: drop-shadow(0px 1px 2px rgba(0, 0, 0, 0.3));\n",
              "      fill: #FFFFFF;\n",
              "    }\n",
              "  </style>\n",
              "\n",
              "      <script>\n",
              "        const buttonEl =\n",
              "          document.querySelector('#df-164c7968-2f23-403f-b0ba-a6b16e4479fa button.colab-df-convert');\n",
              "        buttonEl.style.display =\n",
              "          google.colab.kernel.accessAllowed ? 'block' : 'none';\n",
              "\n",
              "        async function convertToInteractive(key) {\n",
              "          const element = document.querySelector('#df-164c7968-2f23-403f-b0ba-a6b16e4479fa');\n",
              "          const dataTable =\n",
              "            await google.colab.kernel.invokeFunction('convertToInteractive',\n",
              "                                                     [key], {});\n",
              "          if (!dataTable) return;\n",
              "\n",
              "          const docLinkHtml = 'Like what you see? Visit the ' +\n",
              "            '<a target=\"_blank\" href=https://colab.research.google.com/notebooks/data_table.ipynb>data table notebook</a>'\n",
              "            + ' to learn more about interactive tables.';\n",
              "          element.innerHTML = '';\n",
              "          dataTable['output_type'] = 'display_data';\n",
              "          await google.colab.output.renderOutput(dataTable, element);\n",
              "          const docLink = document.createElement('div');\n",
              "          docLink.innerHTML = docLinkHtml;\n",
              "          element.appendChild(docLink);\n",
              "        }\n",
              "      </script>\n",
              "    </div>\n",
              "  </div>\n",
              "  "
            ]
          },
          "metadata": {},
          "execution_count": 20
        }
      ]
    },
    {
      "cell_type": "code",
      "source": [
        "# build and compile model \n",
        "# Define model -- should change model name\n",
        "model = keras.Sequential([\n",
        "  layers.Dense(256, activation='relu', input_dim = 45),\n",
        "  layers.Dropout(0.5),\n",
        "\n",
        "  layers.Dense(128, activation='sigmoid'), \n",
        "  layers.Dropout(0.5),\n",
        "\n",
        "  layers.Dense(32, activation='sigmoid'), \n",
        "\n",
        "  layers.Dense(2, activation='sigmoid') # 2 categories\n",
        "])\n",
        "\n",
        "# model compile function\n",
        "model.compile(loss = 'binary_crossentropy',\n",
        "              optimizer = tf.keras.optimizers.RMSprop(),\n",
        "              metrics = ['accuracy'])"
      ],
      "metadata": {
        "id": "9qYL11MJHx3N"
      },
      "execution_count": 24,
      "outputs": []
    },
    {
      "cell_type": "code",
      "source": [
        "history = model.fit(X_train, \n",
        "          y_train, \n",
        "          epochs = 50, #change epochs to 100 after testing\n",
        "          batch_size = 200,\n",
        "          validation_data=(X_val, y_val)\n",
        "          )"
      ],
      "metadata": {
        "colab": {
          "base_uri": "https://localhost:8080/"
        },
        "id": "QKECy9GvH6Kl",
        "outputId": "ed49598f-fb6c-40e7-e5f9-2f288d63795e"
      },
      "execution_count": 26,
      "outputs": [
        {
          "output_type": "stream",
          "name": "stdout",
          "text": [
            "Epoch 1/50\n",
            "762/762 [==============================] - 9s 11ms/step - loss: 0.0562 - accuracy: 0.9819 - val_loss: 0.0575 - val_accuracy: 0.9813\n",
            "Epoch 2/50\n",
            "762/762 [==============================] - 5s 7ms/step - loss: 0.0562 - accuracy: 0.9819 - val_loss: 0.0574 - val_accuracy: 0.9813\n",
            "Epoch 3/50\n",
            "762/762 [==============================] - 6s 8ms/step - loss: 0.0561 - accuracy: 0.9819 - val_loss: 0.0576 - val_accuracy: 0.9813\n",
            "Epoch 4/50\n",
            "762/762 [==============================] - 9s 12ms/step - loss: 0.0562 - accuracy: 0.9819 - val_loss: 0.0575 - val_accuracy: 0.9813\n",
            "Epoch 5/50\n",
            "762/762 [==============================] - 9s 12ms/step - loss: 0.0562 - accuracy: 0.9819 - val_loss: 0.0575 - val_accuracy: 0.9813\n",
            "Epoch 6/50\n",
            "762/762 [==============================] - 9s 12ms/step - loss: 0.0561 - accuracy: 0.9819 - val_loss: 0.0574 - val_accuracy: 0.9813\n",
            "Epoch 7/50\n",
            "762/762 [==============================] - 8s 10ms/step - loss: 0.0561 - accuracy: 0.9819 - val_loss: 0.0576 - val_accuracy: 0.9813\n",
            "Epoch 8/50\n",
            "762/762 [==============================] - 8s 10ms/step - loss: 0.0561 - accuracy: 0.9819 - val_loss: 0.0575 - val_accuracy: 0.9813\n",
            "Epoch 9/50\n",
            "762/762 [==============================] - 5s 7ms/step - loss: 0.0562 - accuracy: 0.9819 - val_loss: 0.0574 - val_accuracy: 0.9813\n",
            "Epoch 10/50\n",
            "762/762 [==============================] - 5s 7ms/step - loss: 0.0562 - accuracy: 0.9819 - val_loss: 0.0575 - val_accuracy: 0.9813\n",
            "Epoch 11/50\n",
            "762/762 [==============================] - 5s 7ms/step - loss: 0.0562 - accuracy: 0.9819 - val_loss: 0.0577 - val_accuracy: 0.9813\n",
            "Epoch 12/50\n",
            "762/762 [==============================] - 6s 7ms/step - loss: 0.0564 - accuracy: 0.9819 - val_loss: 0.0581 - val_accuracy: 0.9813\n",
            "Epoch 13/50\n",
            "762/762 [==============================] - 5s 7ms/step - loss: 0.0563 - accuracy: 0.9819 - val_loss: 0.0574 - val_accuracy: 0.9813\n",
            "Epoch 14/50\n",
            "762/762 [==============================] - 5s 7ms/step - loss: 0.0564 - accuracy: 0.9818 - val_loss: 0.0574 - val_accuracy: 0.9813\n",
            "Epoch 15/50\n",
            "762/762 [==============================] - 5s 7ms/step - loss: 0.0564 - accuracy: 0.9819 - val_loss: 0.0575 - val_accuracy: 0.9813\n",
            "Epoch 16/50\n",
            "762/762 [==============================] - 5s 7ms/step - loss: 0.0565 - accuracy: 0.9818 - val_loss: 0.0575 - val_accuracy: 0.9813\n",
            "Epoch 17/50\n",
            "762/762 [==============================] - 5s 7ms/step - loss: 0.0565 - accuracy: 0.9818 - val_loss: 0.0574 - val_accuracy: 0.9813\n",
            "Epoch 18/50\n",
            "762/762 [==============================] - 5s 7ms/step - loss: 0.0565 - accuracy: 0.9818 - val_loss: 0.0573 - val_accuracy: 0.9813\n",
            "Epoch 19/50\n",
            "762/762 [==============================] - 5s 7ms/step - loss: 0.0565 - accuracy: 0.9818 - val_loss: 0.0574 - val_accuracy: 0.9813\n",
            "Epoch 20/50\n",
            "762/762 [==============================] - 5s 7ms/step - loss: 0.0563 - accuracy: 0.9819 - val_loss: 0.0574 - val_accuracy: 0.9813\n",
            "Epoch 21/50\n",
            "762/762 [==============================] - 5s 7ms/step - loss: 0.0563 - accuracy: 0.9819 - val_loss: 0.0575 - val_accuracy: 0.9813\n",
            "Epoch 22/50\n",
            "762/762 [==============================] - 8s 10ms/step - loss: 0.0562 - accuracy: 0.9819 - val_loss: 0.0574 - val_accuracy: 0.9813\n",
            "Epoch 23/50\n",
            "762/762 [==============================] - 9s 11ms/step - loss: 0.0562 - accuracy: 0.9819 - val_loss: 0.0575 - val_accuracy: 0.9813\n",
            "Epoch 24/50\n",
            "762/762 [==============================] - 6s 8ms/step - loss: 0.0562 - accuracy: 0.9819 - val_loss: 0.0574 - val_accuracy: 0.9813\n",
            "Epoch 25/50\n",
            "762/762 [==============================] - 5s 7ms/step - loss: 0.0562 - accuracy: 0.9819 - val_loss: 0.0575 - val_accuracy: 0.9813\n",
            "Epoch 26/50\n",
            "762/762 [==============================] - 6s 8ms/step - loss: 0.0562 - accuracy: 0.9819 - val_loss: 0.0575 - val_accuracy: 0.9813\n",
            "Epoch 27/50\n",
            "762/762 [==============================] - 5s 7ms/step - loss: 0.0563 - accuracy: 0.9819 - val_loss: 0.0576 - val_accuracy: 0.9813\n",
            "Epoch 28/50\n",
            "762/762 [==============================] - 9s 12ms/step - loss: 0.0563 - accuracy: 0.9818 - val_loss: 0.0575 - val_accuracy: 0.9813\n",
            "Epoch 29/50\n",
            "762/762 [==============================] - 6s 8ms/step - loss: 0.0564 - accuracy: 0.9818 - val_loss: 0.0575 - val_accuracy: 0.9813\n",
            "Epoch 30/50\n",
            "762/762 [==============================] - 9s 12ms/step - loss: 0.0565 - accuracy: 0.9818 - val_loss: 0.0576 - val_accuracy: 0.9813\n",
            "Epoch 31/50\n",
            "762/762 [==============================] - 8s 10ms/step - loss: 0.0565 - accuracy: 0.9818 - val_loss: 0.0574 - val_accuracy: 0.9813\n",
            "Epoch 32/50\n",
            "762/762 [==============================] - 5s 7ms/step - loss: 0.0563 - accuracy: 0.9818 - val_loss: 0.0574 - val_accuracy: 0.9813\n",
            "Epoch 33/50\n",
            "762/762 [==============================] - 5s 7ms/step - loss: 0.0564 - accuracy: 0.9818 - val_loss: 0.0574 - val_accuracy: 0.9813\n",
            "Epoch 34/50\n",
            "762/762 [==============================] - 5s 7ms/step - loss: 0.0563 - accuracy: 0.9819 - val_loss: 0.0574 - val_accuracy: 0.9813\n",
            "Epoch 35/50\n",
            "762/762 [==============================] - 5s 7ms/step - loss: 0.0564 - accuracy: 0.9818 - val_loss: 0.0575 - val_accuracy: 0.9813\n",
            "Epoch 36/50\n",
            "762/762 [==============================] - 5s 7ms/step - loss: 0.0562 - accuracy: 0.9819 - val_loss: 0.0575 - val_accuracy: 0.9813\n",
            "Epoch 37/50\n",
            "762/762 [==============================] - 5s 7ms/step - loss: 0.0564 - accuracy: 0.9819 - val_loss: 0.0574 - val_accuracy: 0.9813\n",
            "Epoch 38/50\n",
            "762/762 [==============================] - 5s 7ms/step - loss: 0.0563 - accuracy: 0.9819 - val_loss: 0.0574 - val_accuracy: 0.9813\n",
            "Epoch 39/50\n",
            "762/762 [==============================] - 5s 7ms/step - loss: 0.0563 - accuracy: 0.9818 - val_loss: 0.0574 - val_accuracy: 0.9813\n",
            "Epoch 40/50\n",
            "762/762 [==============================] - 5s 7ms/step - loss: 0.0565 - accuracy: 0.9818 - val_loss: 0.0578 - val_accuracy: 0.9813\n",
            "Epoch 41/50\n",
            "762/762 [==============================] - 5s 7ms/step - loss: 0.0566 - accuracy: 0.9818 - val_loss: 0.0575 - val_accuracy: 0.9813\n",
            "Epoch 42/50\n",
            "762/762 [==============================] - 5s 7ms/step - loss: 0.0567 - accuracy: 0.9817 - val_loss: 0.0581 - val_accuracy: 0.9813\n",
            "Epoch 43/50\n",
            "762/762 [==============================] - 5s 7ms/step - loss: 0.0566 - accuracy: 0.9817 - val_loss: 0.0575 - val_accuracy: 0.9813\n",
            "Epoch 44/50\n",
            "762/762 [==============================] - 5s 7ms/step - loss: 0.0567 - accuracy: 0.9818 - val_loss: 0.0574 - val_accuracy: 0.9813\n",
            "Epoch 45/50\n",
            "762/762 [==============================] - 6s 8ms/step - loss: 0.0568 - accuracy: 0.9817 - val_loss: 0.0579 - val_accuracy: 0.9813\n",
            "Epoch 46/50\n",
            "762/762 [==============================] - 5s 7ms/step - loss: 0.0569 - accuracy: 0.9817 - val_loss: 0.0576 - val_accuracy: 0.9813\n",
            "Epoch 47/50\n",
            "762/762 [==============================] - 5s 7ms/step - loss: 0.0568 - accuracy: 0.9817 - val_loss: 0.0578 - val_accuracy: 0.9813\n",
            "Epoch 48/50\n",
            "762/762 [==============================] - 5s 7ms/step - loss: 0.0569 - accuracy: 0.9817 - val_loss: 0.0577 - val_accuracy: 0.9813\n",
            "Epoch 49/50\n",
            "762/762 [==============================] - 5s 7ms/step - loss: 0.0572 - accuracy: 0.9816 - val_loss: 0.0574 - val_accuracy: 0.9813\n",
            "Epoch 50/50\n",
            "762/762 [==============================] - 5s 7ms/step - loss: 0.0566 - accuracy: 0.9817 - val_loss: 0.0575 - val_accuracy: 0.9813\n"
          ]
        }
      ]
    },
    {
      "cell_type": "code",
      "source": [
        "# save model\n",
        "model.save('Drive/diabetes2.h5')"
      ],
      "metadata": {
        "id": "VhBngNuPJrLW"
      },
      "execution_count": 27,
      "outputs": []
    },
    {
      "cell_type": "code",
      "source": [
        "# load model \n",
        "new_model = tf.keras.models.load_model(\"Drive/diabetes2.h5\")\n",
        "\n",
        "# Show the model architecture\n",
        "new_model.summary()"
      ],
      "metadata": {
        "colab": {
          "base_uri": "https://localhost:8080/"
        },
        "id": "QxsFvk1pJtjj",
        "outputId": "f6c45c6d-f58b-40ea-eb9d-800fbe66f31a"
      },
      "execution_count": 28,
      "outputs": [
        {
          "output_type": "stream",
          "name": "stdout",
          "text": [
            "Model: \"sequential_4\"\n",
            "_________________________________________________________________\n",
            " Layer (type)                Output Shape              Param #   \n",
            "=================================================================\n",
            " dense_16 (Dense)            (None, 256)               11776     \n",
            "                                                                 \n",
            " dropout_8 (Dropout)         (None, 256)               0         \n",
            "                                                                 \n",
            " dense_17 (Dense)            (None, 128)               32896     \n",
            "                                                                 \n",
            " dropout_9 (Dropout)         (None, 128)               0         \n",
            "                                                                 \n",
            " dense_18 (Dense)            (None, 32)                4128      \n",
            "                                                                 \n",
            " dense_19 (Dense)            (None, 2)                 66        \n",
            "                                                                 \n",
            "=================================================================\n",
            "Total params: 48,866\n",
            "Trainable params: 48,866\n",
            "Non-trainable params: 0\n",
            "_________________________________________________________________\n"
          ]
        }
      ]
    },
    {
      "cell_type": "code",
      "source": [
        "# plot of validation loss and train loss\n",
        "import seaborn as sns\n",
        "sns.set()\n",
        "\n",
        "train_acc  = history.history['accuracy']\n",
        "train_loss = history.history['loss']\n",
        "val_acc  = history.history['val_accuracy']\n",
        "val_loss = history.history['val_loss']\n",
        "\n",
        "epochs = range(1, len(train_acc) + 1)\n",
        "\n",
        "plt.plot(epochs, train_loss, label = 'Training Loss')\n",
        "plt.plot(epochs, val_loss, label = 'Validation Loss')\n",
        "plt.xlabel('Epochs')\n",
        "plt.ylabel('Loss')\n",
        "plt.legend()"
      ],
      "metadata": {
        "colab": {
          "base_uri": "https://localhost:8080/",
          "height": 303
        },
        "id": "O8TD2E0oJvhw",
        "outputId": "94f770ae-1919-4d82-ec9e-17c21e51c482"
      },
      "execution_count": 29,
      "outputs": [
        {
          "output_type": "execute_result",
          "data": {
            "text/plain": [
              "<matplotlib.legend.Legend at 0x7f662973ced0>"
            ]
          },
          "metadata": {},
          "execution_count": 29
        },
        {
          "output_type": "display_data",
          "data": {
            "text/plain": [
              "<Figure size 432x288 with 1 Axes>"
            ],
            "image/png": "[encoded data removed]"
          },
          "metadata": {}
        }
      ]
    },
    {
      "cell_type": "code",
      "source": [
        "# test set accuracy \n",
        "test_loss, test_acc = new_model.evaluate(X_test, y_test)\n",
        "print(\"The test set accuracy is: \", test_acc)"
      ],
      "metadata": {
        "colab": {
          "base_uri": "https://localhost:8080/"
        },
        "id": "iBDgEoQoJx5p",
        "outputId": "f1290ca6-c92a-4131-a838-70ade69b30d8"
      },
      "execution_count": 30,
      "outputs": [
        {
          "output_type": "stream",
          "name": "stdout",
          "text": [
            "1586/1586 [==============================] - 3s 2ms/step - loss: 0.0569 - accuracy: 0.9816\n",
            "The test set accuracy is:  0.9816303849220276\n"
          ]
        }
      ]
    },
    {
      "cell_type": "code",
      "source": [
        "# check in here \n",
        "\n",
        "y_proba = new_model.predict(X_test)\n",
        "# make values predicted binary and not vector of probs\n",
        "y_pred = y_proba.argmax(axis = 1) # want 0,1 vector\n",
        "y_pred"
      ],
      "metadata": {
        "colab": {
          "base_uri": "https://localhost:8080/"
        },
        "id": "k7Kc-XPQKIMm",
        "outputId": "7ffb596e-c7a2-4c7d-c0ed-e8ce9d608fad"
      },
      "execution_count": 34,
      "outputs": [
        {
          "output_type": "execute_result",
          "data": {
            "text/plain": [
              "array([0, 0, 0, ..., 0, 1, 0])"
            ]
          },
          "metadata": {},
          "execution_count": 34
        }
      ]
    },
    {
      "cell_type": "code",
      "source": [
        "# need to y_test to be single vector of 0,1 again\n",
        "y_test_lab = diabetes.iloc[y_test.index, :][\"Diabetes_012\"] # must check if this actually works as desired\n",
        "y_test_lab[y_test_lab == 1] = 0\n",
        "y_test_lab[y_test_lab == 2] = 1\n",
        "\n",
        "print(y_test_lab)\n",
        "y_pred"
      ],
      "metadata": {
        "colab": {
          "base_uri": "https://localhost:8080/"
        },
        "id": "IcvKeykCLU8A",
        "outputId": "856978f8-afc8-43a2-8aef-3c34ca6583a7"
      },
      "execution_count": 39,
      "outputs": [
        {
          "output_type": "stream",
          "name": "stdout",
          "text": [
            "193256    0.0\n",
            "52416     0.0\n",
            "125094    0.0\n",
            "74892     0.0\n",
            "1357      0.0\n",
            "         ... \n",
            "87225     0.0\n",
            "70127     0.0\n",
            "78535     0.0\n",
            "210913    1.0\n",
            "72847     0.0\n",
            "Name: Diabetes_012, Length: 50736, dtype: float64\n"
          ]
        },
        {
          "output_type": "stream",
          "name": "stderr",
          "text": [
            "/usr/local/lib/python3.7/dist-packages/pandas/core/generic.py:8870: SettingWithCopyWarning: \n",
            "A value is trying to be set on a copy of a slice from a DataFrame\n",
            "\n",
            "See the caveats in the documentation: https://pandas.pydata.org/pandas-docs/stable/user_guide/indexing.html#returning-a-view-versus-a-copy\n",
            "  return self._update_inplace(result)\n",
            "/usr/local/lib/python3.7/dist-packages/pandas/core/series.py:1056: SettingWithCopyWarning: \n",
            "A value is trying to be set on a copy of a slice from a DataFrame\n",
            "\n",
            "See the caveats in the documentation: https://pandas.pydata.org/pandas-docs/stable/user_guide/indexing.html#returning-a-view-versus-a-copy\n",
            "  cacher_needs_updating = self._check_is_chained_assignment_possible()\n"
          ]
        },
        {
          "output_type": "execute_result",
          "data": {
            "text/plain": [
              "array([0, 0, 0, ..., 0, 1, 0])"
            ]
          },
          "metadata": {},
          "execution_count": 39
        }
      ]
    },
    {
      "cell_type": "code",
      "source": [
        "# create accuracy table \n",
        "#importing confusion matrix\n",
        "confusion = confusion_matrix(y_test_lab, y_pred)\n",
        "print('Confusion Matrix\\n')\n",
        "print(confusion)\n",
        "\n",
        "#importing accuracy_score, precision_score, recall_score, f1_score\n",
        "print('\\nAccuracy: {:.2f}\\n'.format(accuracy_score(y_test_lab, y_pred)))\n",
        "\n"
      ],
      "metadata": {
        "colab": {
          "base_uri": "https://localhost:8080/"
        },
        "id": "hMG0pMbaL1O_",
        "outputId": "a181a322-c1c4-48fd-87f3-2e12d2b5d79d"
      },
      "execution_count": 42,
      "outputs": [
        {
          "output_type": "stream",
          "name": "stdout",
          "text": [
            "Confusion Matrix\n",
            "\n",
            "[[42707   932]\n",
            " [    0  7097]]\n",
            "\n",
            "Accuracy: 0.98\n",
            "\n"
          ]
        }
      ]
    },
    {
      "cell_type": "markdown",
      "source": [
        "## **To Do: Add confusion matrix based on income and education split. Decide what split we want for income/education. **\n",
        "\n",
        "\n",
        "\n"
      ],
      "metadata": {
        "id": "5JvzRAvkMC35"
      }
    }
  ]
}