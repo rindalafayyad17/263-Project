{
  "nbformat": 4,
  "nbformat_minor": 0,
  "metadata": {
    "colab": {
      "name": "NN_newdata.ipynb",
      "provenance": [],
      "collapsed_sections": []
    },
    "kernelspec": {
      "name": "python3",
      "display_name": "Python 3"
    },
    "language_info": {
      "name": "python"
    }
  },
  "cells": [
    {
      "cell_type": "code",
      "execution_count": null,
      "metadata": {
        "colab": {
          "base_uri": "https://localhost:8080/"
        },
        "id": "_GEDsIaMGY_5",
        "outputId": "6b8bfd4e-2cbe-4fc5-bfc1-3c1e18a428bd"
      },
      "outputs": [
        {
          "output_type": "stream",
          "name": "stdout",
          "text": [
            "Collecting category_encoders\n",
            "  Downloading category_encoders-2.4.0-py2.py3-none-any.whl (86 kB)\n",
            "\u001b[?25l\r\u001b[K     |███▉                            | 10 kB 22.5 MB/s eta 0:00:01\r\u001b[K     |███████▋                        | 20 kB 26.8 MB/s eta 0:00:01\r\u001b[K     |███████████▍                    | 30 kB 31.9 MB/s eta 0:00:01\r\u001b[K     |███████████████▏                | 40 kB 32.7 MB/s eta 0:00:01\r\u001b[K     |███████████████████             | 51 kB 24.5 MB/s eta 0:00:01\r\u001b[K     |██████████████████████▊         | 61 kB 27.4 MB/s eta 0:00:01\r\u001b[K     |██████████████████████████▌     | 71 kB 24.8 MB/s eta 0:00:01\r\u001b[K     |██████████████████████████████▎ | 81 kB 25.7 MB/s eta 0:00:01\r\u001b[K     |████████████████████████████████| 86 kB 4.4 MB/s \n",
            "\u001b[?25hRequirement already satisfied: numpy>=1.14.0 in /usr/local/lib/python3.7/dist-packages (from category_encoders) (1.21.6)\n",
            "Requirement already satisfied: scipy>=1.0.0 in /usr/local/lib/python3.7/dist-packages (from category_encoders) (1.4.1)\n",
            "Requirement already satisfied: scikit-learn>=0.20.0 in /usr/local/lib/python3.7/dist-packages (from category_encoders) (1.0.2)\n",
            "Requirement already satisfied: patsy>=0.5.1 in /usr/local/lib/python3.7/dist-packages (from category_encoders) (0.5.2)\n",
            "Requirement already satisfied: statsmodels>=0.9.0 in /usr/local/lib/python3.7/dist-packages (from category_encoders) (0.10.2)\n",
            "Requirement already satisfied: pandas>=0.21.1 in /usr/local/lib/python3.7/dist-packages (from category_encoders) (1.3.5)\n",
            "Requirement already satisfied: python-dateutil>=2.7.3 in /usr/local/lib/python3.7/dist-packages (from pandas>=0.21.1->category_encoders) (2.8.2)\n",
            "Requirement already satisfied: pytz>=2017.3 in /usr/local/lib/python3.7/dist-packages (from pandas>=0.21.1->category_encoders) (2022.1)\n",
            "Requirement already satisfied: six in /usr/local/lib/python3.7/dist-packages (from patsy>=0.5.1->category_encoders) (1.15.0)\n",
            "Requirement already satisfied: joblib>=0.11 in /usr/local/lib/python3.7/dist-packages (from scikit-learn>=0.20.0->category_encoders) (1.1.0)\n",
            "Requirement already satisfied: threadpoolctl>=2.0.0 in /usr/local/lib/python3.7/dist-packages (from scikit-learn>=0.20.0->category_encoders) (3.1.0)\n",
            "Installing collected packages: category-encoders\n",
            "Successfully installed category-encoders-2.4.0\n"
          ]
        },
        {
          "output_type": "stream",
          "name": "stderr",
          "text": [
            "/usr/local/lib/python3.7/dist-packages/statsmodels/tools/_testing.py:19: FutureWarning: pandas.util.testing is deprecated. Use the functions in the public API at pandas.testing instead.\n",
            "  import pandas.util.testing as tm\n"
          ]
        }
      ],
      "source": [
        "import os\n",
        "import pandas as pd\n",
        "import numpy as np\n",
        "import random\n",
        "import matplotlib.pyplot as plt\n",
        "from sklearn import preprocessing\n",
        "from scipy import stats\n",
        "from scipy.stats import zscore\n",
        "from math import radians, cos, sin, asin, sqrt\n",
        "import pydot\n",
        "import seaborn as sns\n",
        "import keras\n",
        "import tensorflow as tf\n",
        "from tensorflow.keras import backend as K\n",
        "from tensorflow.keras import datasets, layers, models\n",
        "import os, shutil\n",
        "from tensorflow.keras.utils import to_categorical\n",
        "from sklearn.preprocessing import OneHotEncoder\n",
        "from sklearn.model_selection import train_test_split\n",
        "!pip install category_encoders\n",
        "import category_encoders as ce\n",
        "from sklearn.metrics import confusion_matrix, ConfusionMatrixDisplay\n",
        "from sklearn.metrics import accuracy_score, precision_score, recall_score, f1_score\n",
        "from sklearn.metrics import classification_report"
      ]
    },
    {
      "cell_type": "code",
      "source": [
        "# load in data \n",
        "url = 'https://raw.githubusercontent.com/rindalafayyad17/263-Project/main/diabetes_012_health_indicators_BRFSS2015.csv'\n",
        "diabetes = pd.read_csv(url)"
      ],
      "metadata": {
        "id": "T_tnBUyVGgL7"
      },
      "execution_count": null,
      "outputs": []
    },
    {
      "cell_type": "code",
      "source": [
        "diabetes.shape"
      ],
      "metadata": {
        "colab": {
          "base_uri": "https://localhost:8080/"
        },
        "id": "wS65xYKSGk3H",
        "outputId": "74b92af8-7737-4fdd-a234-5c1d338b7df3"
      },
      "execution_count": null,
      "outputs": [
        {
          "output_type": "execute_result",
          "data": {
            "text/plain": [
              "(253680, 22)"
            ]
          },
          "metadata": {},
          "execution_count": 4
        }
      ]
    },
    {
      "cell_type": "code",
      "source": [
        "pd.crosstab(diabetes.Income, diabetes.Diabetes_012,margins=False)\n",
        "print(diabetes['Income'].value_counts())"
      ],
      "metadata": {
        "colab": {
          "base_uri": "https://localhost:8080/"
        },
        "id": "EBvOc7kAWLDy",
        "outputId": "22f538f0-aec2-4546-926e-fb687207ad1d"
      },
      "execution_count": null,
      "outputs": [
        {
          "output_type": "stream",
          "name": "stdout",
          "text": [
            "8.0    90385\n",
            "7.0    43219\n",
            "6.0    36470\n",
            "5.0    25883\n",
            "4.0    20135\n",
            "3.0    15994\n",
            "2.0    11783\n",
            "1.0     9811\n",
            "Name: Income, dtype: int64\n"
          ]
        }
      ]
    },
    {
      "cell_type": "code",
      "source": [
        "diabetes.head()"
      ],
      "metadata": {
        "colab": {
          "base_uri": "https://localhost:8080/",
          "height": 299
        },
        "id": "ZiZm1xkxyblo",
        "outputId": "1e2290c9-831a-4ef9-e5f9-2fc12769c4af"
      },
      "execution_count": null,
      "outputs": [
        {
          "output_type": "execute_result",
          "data": {
            "text/plain": [
              "   Diabetes_012  HighBP  HighChol  CholCheck   BMI  Smoker  Stroke  \\\n",
              "0           0.0     1.0       1.0        1.0  40.0     1.0     0.0   \n",
              "1           0.0     0.0       0.0        0.0  25.0     1.0     0.0   \n",
              "2           0.0     1.0       1.0        1.0  28.0     0.0     0.0   \n",
              "3           0.0     1.0       0.0        1.0  27.0     0.0     0.0   \n",
              "4           0.0     1.0       1.0        1.0  24.0     0.0     0.0   \n",
              "\n",
              "   HeartDiseaseorAttack  PhysActivity  Fruits  ...  AnyHealthcare  \\\n",
              "0                   0.0           0.0     0.0  ...            1.0   \n",
              "1                   0.0           1.0     0.0  ...            0.0   \n",
              "2                   0.0           0.0     1.0  ...            1.0   \n",
              "3                   0.0           1.0     1.0  ...            1.0   \n",
              "4                   0.0           1.0     1.0  ...            1.0   \n",
              "\n",
              "   NoDocbcCost  GenHlth  MentHlth  PhysHlth  DiffWalk  Sex   Age  Education  \\\n",
              "0          0.0      5.0      18.0      15.0       1.0  0.0   9.0        4.0   \n",
              "1          1.0      3.0       0.0       0.0       0.0  0.0   7.0        6.0   \n",
              "2          1.0      5.0      30.0      30.0       1.0  0.0   9.0        4.0   \n",
              "3          0.0      2.0       0.0       0.0       0.0  0.0  11.0        3.0   \n",
              "4          0.0      2.0       3.0       0.0       0.0  0.0  11.0        5.0   \n",
              "\n",
              "   Income  \n",
              "0     3.0  \n",
              "1     1.0  \n",
              "2     8.0  \n",
              "3     6.0  \n",
              "4     4.0  \n",
              "\n",
              "[5 rows x 22 columns]"
            ],
            "text/html": [
              "\n",
              "  <div id=\"df-8944524f-17d9-45c3-b05e-4cd7054249b0\">\n",
              "    <div class=\"colab-df-container\">\n",
              "      <div>\n",
              "<style scoped>\n",
              "    .dataframe tbody tr th:only-of-type {\n",
              "        vertical-align: middle;\n",
              "    }\n",
              "\n",
              "    .dataframe tbody tr th {\n",
              "        vertical-align: top;\n",
              "    }\n",
              "\n",
              "    .dataframe thead th {\n",
              "        text-align: right;\n",
              "    }\n",
              "</style>\n",
              "<table border=\"1\" class=\"dataframe\">\n",
              "  <thead>\n",
              "    <tr style=\"text-align: right;\">\n",
              "      <th></th>\n",
              "      <th>Diabetes_012</th>\n",
              "      <th>HighBP</th>\n",
              "      <th>HighChol</th>\n",
              "      <th>CholCheck</th>\n",
              "      <th>BMI</th>\n",
              "      <th>Smoker</th>\n",
              "      <th>Stroke</th>\n",
              "      <th>HeartDiseaseorAttack</th>\n",
              "      <th>PhysActivity</th>\n",
              "      <th>Fruits</th>\n",
              "      <th>...</th>\n",
              "      <th>AnyHealthcare</th>\n",
              "      <th>NoDocbcCost</th>\n",
              "      <th>GenHlth</th>\n",
              "      <th>MentHlth</th>\n",
              "      <th>PhysHlth</th>\n",
              "      <th>DiffWalk</th>\n",
              "      <th>Sex</th>\n",
              "      <th>Age</th>\n",
              "      <th>Education</th>\n",
              "      <th>Income</th>\n",
              "    </tr>\n",
              "  </thead>\n",
              "  <tbody>\n",
              "    <tr>\n",
              "      <th>0</th>\n",
              "      <td>0.0</td>\n",
              "      <td>1.0</td>\n",
              "      <td>1.0</td>\n",
              "      <td>1.0</td>\n",
              "      <td>40.0</td>\n",
              "      <td>1.0</td>\n",
              "      <td>0.0</td>\n",
              "      <td>0.0</td>\n",
              "      <td>0.0</td>\n",
              "      <td>0.0</td>\n",
              "      <td>...</td>\n",
              "      <td>1.0</td>\n",
              "      <td>0.0</td>\n",
              "      <td>5.0</td>\n",
              "      <td>18.0</td>\n",
              "      <td>15.0</td>\n",
              "      <td>1.0</td>\n",
              "      <td>0.0</td>\n",
              "      <td>9.0</td>\n",
              "      <td>4.0</td>\n",
              "      <td>3.0</td>\n",
              "    </tr>\n",
              "    <tr>\n",
              "      <th>1</th>\n",
              "      <td>0.0</td>\n",
              "      <td>0.0</td>\n",
              "      <td>0.0</td>\n",
              "      <td>0.0</td>\n",
              "      <td>25.0</td>\n",
              "      <td>1.0</td>\n",
              "      <td>0.0</td>\n",
              "      <td>0.0</td>\n",
              "      <td>1.0</td>\n",
              "      <td>0.0</td>\n",
              "      <td>...</td>\n",
              "      <td>0.0</td>\n",
              "      <td>1.0</td>\n",
              "      <td>3.0</td>\n",
              "      <td>0.0</td>\n",
              "      <td>0.0</td>\n",
              "      <td>0.0</td>\n",
              "      <td>0.0</td>\n",
              "      <td>7.0</td>\n",
              "      <td>6.0</td>\n",
              "      <td>1.0</td>\n",
              "    </tr>\n",
              "    <tr>\n",
              "      <th>2</th>\n",
              "      <td>0.0</td>\n",
              "      <td>1.0</td>\n",
              "      <td>1.0</td>\n",
              "      <td>1.0</td>\n",
              "      <td>28.0</td>\n",
              "      <td>0.0</td>\n",
              "      <td>0.0</td>\n",
              "      <td>0.0</td>\n",
              "      <td>0.0</td>\n",
              "      <td>1.0</td>\n",
              "      <td>...</td>\n",
              "      <td>1.0</td>\n",
              "      <td>1.0</td>\n",
              "      <td>5.0</td>\n",
              "      <td>30.0</td>\n",
              "      <td>30.0</td>\n",
              "      <td>1.0</td>\n",
              "      <td>0.0</td>\n",
              "      <td>9.0</td>\n",
              "      <td>4.0</td>\n",
              "      <td>8.0</td>\n",
              "    </tr>\n",
              "    <tr>\n",
              "      <th>3</th>\n",
              "      <td>0.0</td>\n",
              "      <td>1.0</td>\n",
              "      <td>0.0</td>\n",
              "      <td>1.0</td>\n",
              "      <td>27.0</td>\n",
              "      <td>0.0</td>\n",
              "      <td>0.0</td>\n",
              "      <td>0.0</td>\n",
              "      <td>1.0</td>\n",
              "      <td>1.0</td>\n",
              "      <td>...</td>\n",
              "      <td>1.0</td>\n",
              "      <td>0.0</td>\n",
              "      <td>2.0</td>\n",
              "      <td>0.0</td>\n",
              "      <td>0.0</td>\n",
              "      <td>0.0</td>\n",
              "      <td>0.0</td>\n",
              "      <td>11.0</td>\n",
              "      <td>3.0</td>\n",
              "      <td>6.0</td>\n",
              "    </tr>\n",
              "    <tr>\n",
              "      <th>4</th>\n",
              "      <td>0.0</td>\n",
              "      <td>1.0</td>\n",
              "      <td>1.0</td>\n",
              "      <td>1.0</td>\n",
              "      <td>24.0</td>\n",
              "      <td>0.0</td>\n",
              "      <td>0.0</td>\n",
              "      <td>0.0</td>\n",
              "      <td>1.0</td>\n",
              "      <td>1.0</td>\n",
              "      <td>...</td>\n",
              "      <td>1.0</td>\n",
              "      <td>0.0</td>\n",
              "      <td>2.0</td>\n",
              "      <td>3.0</td>\n",
              "      <td>0.0</td>\n",
              "      <td>0.0</td>\n",
              "      <td>0.0</td>\n",
              "      <td>11.0</td>\n",
              "      <td>5.0</td>\n",
              "      <td>4.0</td>\n",
              "    </tr>\n",
              "  </tbody>\n",
              "</table>\n",
              "<p>5 rows × 22 columns</p>\n",
              "</div>\n",
              "      <button class=\"colab-df-convert\" onclick=\"convertToInteractive('df-8944524f-17d9-45c3-b05e-4cd7054249b0')\"\n",
              "              title=\"Convert this dataframe to an interactive table.\"\n",
              "              style=\"display:none;\">\n",
              "        \n",
              "  <svg xmlns=\"http://www.w3.org/2000/svg\" height=\"24px\"viewBox=\"0 0 24 24\"\n",
              "       width=\"24px\">\n",
              "    <path d=\"M0 0h24v24H0V0z\" fill=\"none\"/>\n",
              "    <path d=\"M18.56 5.44l.94 2.06.94-2.06 2.06-.94-2.06-.94-.94-2.06-.94 2.06-2.06.94zm-11 1L8.5 8.5l.94-2.06 2.06-.94-2.06-.94L8.5 2.5l-.94 2.06-2.06.94zm10 10l.94 2.06.94-2.06 2.06-.94-2.06-.94-.94-2.06-.94 2.06-2.06.94z\"/><path d=\"M17.41 7.96l-1.37-1.37c-.4-.4-.92-.59-1.43-.59-.52 0-1.04.2-1.43.59L10.3 9.45l-7.72 7.72c-.78.78-.78 2.05 0 2.83L4 21.41c.39.39.9.59 1.41.59.51 0 1.02-.2 1.41-.59l7.78-7.78 2.81-2.81c.8-.78.8-2.07 0-2.86zM5.41 20L4 18.59l7.72-7.72 1.47 1.35L5.41 20z\"/>\n",
              "  </svg>\n",
              "      </button>\n",
              "      \n",
              "  <style>\n",
              "    .colab-df-container {\n",
              "      display:flex;\n",
              "      flex-wrap:wrap;\n",
              "      gap: 12px;\n",
              "    }\n",
              "\n",
              "    .colab-df-convert {\n",
              "      background-color: #E8F0FE;\n",
              "      border: none;\n",
              "      border-radius: 50%;\n",
              "      cursor: pointer;\n",
              "      display: none;\n",
              "      fill: #1967D2;\n",
              "      height: 32px;\n",
              "      padding: 0 0 0 0;\n",
              "      width: 32px;\n",
              "    }\n",
              "\n",
              "    .colab-df-convert:hover {\n",
              "      background-color: #E2EBFA;\n",
              "      box-shadow: 0px 1px 2px rgba(60, 64, 67, 0.3), 0px 1px 3px 1px rgba(60, 64, 67, 0.15);\n",
              "      fill: #174EA6;\n",
              "    }\n",
              "\n",
              "    [theme=dark] .colab-df-convert {\n",
              "      background-color: #3B4455;\n",
              "      fill: #D2E3FC;\n",
              "    }\n",
              "\n",
              "    [theme=dark] .colab-df-convert:hover {\n",
              "      background-color: #434B5C;\n",
              "      box-shadow: 0px 1px 3px 1px rgba(0, 0, 0, 0.15);\n",
              "      filter: drop-shadow(0px 1px 2px rgba(0, 0, 0, 0.3));\n",
              "      fill: #FFFFFF;\n",
              "    }\n",
              "  </style>\n",
              "\n",
              "      <script>\n",
              "        const buttonEl =\n",
              "          document.querySelector('#df-8944524f-17d9-45c3-b05e-4cd7054249b0 button.colab-df-convert');\n",
              "        buttonEl.style.display =\n",
              "          google.colab.kernel.accessAllowed ? 'block' : 'none';\n",
              "\n",
              "        async function convertToInteractive(key) {\n",
              "          const element = document.querySelector('#df-8944524f-17d9-45c3-b05e-4cd7054249b0');\n",
              "          const dataTable =\n",
              "            await google.colab.kernel.invokeFunction('convertToInteractive',\n",
              "                                                     [key], {});\n",
              "          if (!dataTable) return;\n",
              "\n",
              "          const docLinkHtml = 'Like what you see? Visit the ' +\n",
              "            '<a target=\"_blank\" href=https://colab.research.google.com/notebooks/data_table.ipynb>data table notebook</a>'\n",
              "            + ' to learn more about interactive tables.';\n",
              "          element.innerHTML = '';\n",
              "          dataTable['output_type'] = 'display_data';\n",
              "          await google.colab.output.renderOutput(dataTable, element);\n",
              "          const docLink = document.createElement('div');\n",
              "          docLink.innerHTML = docLinkHtml;\n",
              "          element.appendChild(docLink);\n",
              "        }\n",
              "      </script>\n",
              "    </div>\n",
              "  </div>\n",
              "  "
            ]
          },
          "metadata": {},
          "execution_count": 6
        }
      ]
    },
    {
      "cell_type": "code",
      "source": [
        "# one hot encoder from sklearn was problematic in ordering\n",
        "# income\n",
        "one_hot = pd.get_dummies(diabetes['Income'])\n",
        "one_hot.rename(columns = {1.0 : 'income1',\n",
        "                          2.0 : 'income2',\n",
        "                          3.0 : 'income3',\n",
        "                          4.0 : 'income4',\n",
        "                          5.0 : 'income5',\n",
        "                          6.0 : 'income6',\n",
        "                          7.0 : 'income7',\n",
        "                          8.0 : 'income8'}, inplace = True)\n",
        "                          \n",
        "diabetes_final = pd.concat([diabetes,one_hot], axis = 1)\n",
        "\n",
        "# education\n",
        "one_hot = pd.get_dummies(diabetes['Education'])\n",
        "one_hot.rename(columns = {1.0 : 'education1',\n",
        "                          2.0 : 'education2',\n",
        "                          3.0 : 'education3',\n",
        "                          4.0 : 'education4',\n",
        "                          5.0 : 'education5',\n",
        "                          6.0 : 'education6'},\n",
        "                          inplace = True)\n",
        "                          \n",
        "diabetes_final = pd.concat([diabetes_final,one_hot], axis = 1)\n",
        "\n",
        "# age\n",
        "one_hot = pd.get_dummies(diabetes['Age'])\n",
        "one_hot.rename(columns = {1.0 : 'age1',\n",
        "                          2.0 : 'age2',\n",
        "                          3.0 : 'age3',\n",
        "                          4.0 : 'age4',\n",
        "                          5.0 : 'age5',\n",
        "                          6.0 : 'age6',\n",
        "                          7.0 : 'age7',\n",
        "                          8.0 : 'age8', \n",
        "                          9.0 : 'age9',\n",
        "                          10.0 : 'age10',\n",
        "                          11.0 : 'age11',\n",
        "                          12.0 : 'age12',\n",
        "                          13.0 : 'age13'}, inplace = True)\n",
        "\n",
        "diabetes_final = pd.concat([diabetes_final,one_hot], axis = 1)\n",
        "\n",
        "# drop vars\n",
        "diabetes_final.drop(['Income', 'Age', 'Education'], axis = 1)"
      ],
      "metadata": {
        "colab": {
          "base_uri": "https://localhost:8080/",
          "height": 487
        },
        "id": "vtFkZfYIzI24",
        "outputId": "cf42a6c8-f8e3-48ee-d294-8a7d1bdc10e5"
      },
      "execution_count": null,
      "outputs": [
        {
          "output_type": "execute_result",
          "data": {
            "text/plain": [
              "        Diabetes_012  HighBP  HighChol  CholCheck   BMI  Smoker  Stroke  \\\n",
              "0                0.0     1.0       1.0        1.0  40.0     1.0     0.0   \n",
              "1                0.0     0.0       0.0        0.0  25.0     1.0     0.0   \n",
              "2                0.0     1.0       1.0        1.0  28.0     0.0     0.0   \n",
              "3                0.0     1.0       0.0        1.0  27.0     0.0     0.0   \n",
              "4                0.0     1.0       1.0        1.0  24.0     0.0     0.0   \n",
              "...              ...     ...       ...        ...   ...     ...     ...   \n",
              "253675           0.0     1.0       1.0        1.0  45.0     0.0     0.0   \n",
              "253676           2.0     1.0       1.0        1.0  18.0     0.0     0.0   \n",
              "253677           0.0     0.0       0.0        1.0  28.0     0.0     0.0   \n",
              "253678           0.0     1.0       0.0        1.0  23.0     0.0     0.0   \n",
              "253679           2.0     1.0       1.0        1.0  25.0     0.0     0.0   \n",
              "\n",
              "        HeartDiseaseorAttack  PhysActivity  Fruits  ...  age4  age5  age6  \\\n",
              "0                        0.0           0.0     0.0  ...     0     0     0   \n",
              "1                        0.0           1.0     0.0  ...     0     0     0   \n",
              "2                        0.0           0.0     1.0  ...     0     0     0   \n",
              "3                        0.0           1.0     1.0  ...     0     0     0   \n",
              "4                        0.0           1.0     1.0  ...     0     0     0   \n",
              "...                      ...           ...     ...  ...   ...   ...   ...   \n",
              "253675                   0.0           0.0     1.0  ...     0     1     0   \n",
              "253676                   0.0           0.0     0.0  ...     0     0     0   \n",
              "253677                   0.0           1.0     1.0  ...     0     0     0   \n",
              "253678                   0.0           0.0     1.0  ...     0     0     0   \n",
              "253679                   1.0           1.0     1.0  ...     0     0     0   \n",
              "\n",
              "        age7  age8  age9  age10  age11  age12  age13  \n",
              "0          0     0     1      0      0      0      0  \n",
              "1          1     0     0      0      0      0      0  \n",
              "2          0     0     1      0      0      0      0  \n",
              "3          0     0     0      0      1      0      0  \n",
              "4          0     0     0      0      1      0      0  \n",
              "...      ...   ...   ...    ...    ...    ...    ...  \n",
              "253675     0     0     0      0      0      0      0  \n",
              "253676     0     0     0      0      1      0      0  \n",
              "253677     0     0     0      0      0      0      0  \n",
              "253678     1     0     0      0      0      0      0  \n",
              "253679     0     0     1      0      0      0      0  \n",
              "\n",
              "[253680 rows x 46 columns]"
            ],
            "text/html": [
              "\n",
              "  <div id=\"df-e7cacc42-c706-4f55-b071-819347c034f7\">\n",
              "    <div class=\"colab-df-container\">\n",
              "      <div>\n",
              "<style scoped>\n",
              "    .dataframe tbody tr th:only-of-type {\n",
              "        vertical-align: middle;\n",
              "    }\n",
              "\n",
              "    .dataframe tbody tr th {\n",
              "        vertical-align: top;\n",
              "    }\n",
              "\n",
              "    .dataframe thead th {\n",
              "        text-align: right;\n",
              "    }\n",
              "</style>\n",
              "<table border=\"1\" class=\"dataframe\">\n",
              "  <thead>\n",
              "    <tr style=\"text-align: right;\">\n",
              "      <th></th>\n",
              "      <th>Diabetes_012</th>\n",
              "      <th>HighBP</th>\n",
              "      <th>HighChol</th>\n",
              "      <th>CholCheck</th>\n",
              "      <th>BMI</th>\n",
              "      <th>Smoker</th>\n",
              "      <th>Stroke</th>\n",
              "      <th>HeartDiseaseorAttack</th>\n",
              "      <th>PhysActivity</th>\n",
              "      <th>Fruits</th>\n",
              "      <th>...</th>\n",
              "      <th>age4</th>\n",
              "      <th>age5</th>\n",
              "      <th>age6</th>\n",
              "      <th>age7</th>\n",
              "      <th>age8</th>\n",
              "      <th>age9</th>\n",
              "      <th>age10</th>\n",
              "      <th>age11</th>\n",
              "      <th>age12</th>\n",
              "      <th>age13</th>\n",
              "    </tr>\n",
              "  </thead>\n",
              "  <tbody>\n",
              "    <tr>\n",
              "      <th>0</th>\n",
              "      <td>0.0</td>\n",
              "      <td>1.0</td>\n",
              "      <td>1.0</td>\n",
              "      <td>1.0</td>\n",
              "      <td>40.0</td>\n",
              "      <td>1.0</td>\n",
              "      <td>0.0</td>\n",
              "      <td>0.0</td>\n",
              "      <td>0.0</td>\n",
              "      <td>0.0</td>\n",
              "      <td>...</td>\n",
              "      <td>0</td>\n",
              "      <td>0</td>\n",
              "      <td>0</td>\n",
              "      <td>0</td>\n",
              "      <td>0</td>\n",
              "      <td>1</td>\n",
              "      <td>0</td>\n",
              "      <td>0</td>\n",
              "      <td>0</td>\n",
              "      <td>0</td>\n",
              "    </tr>\n",
              "    <tr>\n",
              "      <th>1</th>\n",
              "      <td>0.0</td>\n",
              "      <td>0.0</td>\n",
              "      <td>0.0</td>\n",
              "      <td>0.0</td>\n",
              "      <td>25.0</td>\n",
              "      <td>1.0</td>\n",
              "      <td>0.0</td>\n",
              "      <td>0.0</td>\n",
              "      <td>1.0</td>\n",
              "      <td>0.0</td>\n",
              "      <td>...</td>\n",
              "      <td>0</td>\n",
              "      <td>0</td>\n",
              "      <td>0</td>\n",
              "      <td>1</td>\n",
              "      <td>0</td>\n",
              "      <td>0</td>\n",
              "      <td>0</td>\n",
              "      <td>0</td>\n",
              "      <td>0</td>\n",
              "      <td>0</td>\n",
              "    </tr>\n",
              "    <tr>\n",
              "      <th>2</th>\n",
              "      <td>0.0</td>\n",
              "      <td>1.0</td>\n",
              "      <td>1.0</td>\n",
              "      <td>1.0</td>\n",
              "      <td>28.0</td>\n",
              "      <td>0.0</td>\n",
              "      <td>0.0</td>\n",
              "      <td>0.0</td>\n",
              "      <td>0.0</td>\n",
              "      <td>1.0</td>\n",
              "      <td>...</td>\n",
              "      <td>0</td>\n",
              "      <td>0</td>\n",
              "      <td>0</td>\n",
              "      <td>0</td>\n",
              "      <td>0</td>\n",
              "      <td>1</td>\n",
              "      <td>0</td>\n",
              "      <td>0</td>\n",
              "      <td>0</td>\n",
              "      <td>0</td>\n",
              "    </tr>\n",
              "    <tr>\n",
              "      <th>3</th>\n",
              "      <td>0.0</td>\n",
              "      <td>1.0</td>\n",
              "      <td>0.0</td>\n",
              "      <td>1.0</td>\n",
              "      <td>27.0</td>\n",
              "      <td>0.0</td>\n",
              "      <td>0.0</td>\n",
              "      <td>0.0</td>\n",
              "      <td>1.0</td>\n",
              "      <td>1.0</td>\n",
              "      <td>...</td>\n",
              "      <td>0</td>\n",
              "      <td>0</td>\n",
              "      <td>0</td>\n",
              "      <td>0</td>\n",
              "      <td>0</td>\n",
              "      <td>0</td>\n",
              "      <td>0</td>\n",
              "      <td>1</td>\n",
              "      <td>0</td>\n",
              "      <td>0</td>\n",
              "    </tr>\n",
              "    <tr>\n",
              "      <th>4</th>\n",
              "      <td>0.0</td>\n",
              "      <td>1.0</td>\n",
              "      <td>1.0</td>\n",
              "      <td>1.0</td>\n",
              "      <td>24.0</td>\n",
              "      <td>0.0</td>\n",
              "      <td>0.0</td>\n",
              "      <td>0.0</td>\n",
              "      <td>1.0</td>\n",
              "      <td>1.0</td>\n",
              "      <td>...</td>\n",
              "      <td>0</td>\n",
              "      <td>0</td>\n",
              "      <td>0</td>\n",
              "      <td>0</td>\n",
              "      <td>0</td>\n",
              "      <td>0</td>\n",
              "      <td>0</td>\n",
              "      <td>1</td>\n",
              "      <td>0</td>\n",
              "      <td>0</td>\n",
              "    </tr>\n",
              "    <tr>\n",
              "      <th>...</th>\n",
              "      <td>...</td>\n",
              "      <td>...</td>\n",
              "      <td>...</td>\n",
              "      <td>...</td>\n",
              "      <td>...</td>\n",
              "      <td>...</td>\n",
              "      <td>...</td>\n",
              "      <td>...</td>\n",
              "      <td>...</td>\n",
              "      <td>...</td>\n",
              "      <td>...</td>\n",
              "      <td>...</td>\n",
              "      <td>...</td>\n",
              "      <td>...</td>\n",
              "      <td>...</td>\n",
              "      <td>...</td>\n",
              "      <td>...</td>\n",
              "      <td>...</td>\n",
              "      <td>...</td>\n",
              "      <td>...</td>\n",
              "      <td>...</td>\n",
              "    </tr>\n",
              "    <tr>\n",
              "      <th>253675</th>\n",
              "      <td>0.0</td>\n",
              "      <td>1.0</td>\n",
              "      <td>1.0</td>\n",
              "      <td>1.0</td>\n",
              "      <td>45.0</td>\n",
              "      <td>0.0</td>\n",
              "      <td>0.0</td>\n",
              "      <td>0.0</td>\n",
              "      <td>0.0</td>\n",
              "      <td>1.0</td>\n",
              "      <td>...</td>\n",
              "      <td>0</td>\n",
              "      <td>1</td>\n",
              "      <td>0</td>\n",
              "      <td>0</td>\n",
              "      <td>0</td>\n",
              "      <td>0</td>\n",
              "      <td>0</td>\n",
              "      <td>0</td>\n",
              "      <td>0</td>\n",
              "      <td>0</td>\n",
              "    </tr>\n",
              "    <tr>\n",
              "      <th>253676</th>\n",
              "      <td>2.0</td>\n",
              "      <td>1.0</td>\n",
              "      <td>1.0</td>\n",
              "      <td>1.0</td>\n",
              "      <td>18.0</td>\n",
              "      <td>0.0</td>\n",
              "      <td>0.0</td>\n",
              "      <td>0.0</td>\n",
              "      <td>0.0</td>\n",
              "      <td>0.0</td>\n",
              "      <td>...</td>\n",
              "      <td>0</td>\n",
              "      <td>0</td>\n",
              "      <td>0</td>\n",
              "      <td>0</td>\n",
              "      <td>0</td>\n",
              "      <td>0</td>\n",
              "      <td>0</td>\n",
              "      <td>1</td>\n",
              "      <td>0</td>\n",
              "      <td>0</td>\n",
              "    </tr>\n",
              "    <tr>\n",
              "      <th>253677</th>\n",
              "      <td>0.0</td>\n",
              "      <td>0.0</td>\n",
              "      <td>0.0</td>\n",
              "      <td>1.0</td>\n",
              "      <td>28.0</td>\n",
              "      <td>0.0</td>\n",
              "      <td>0.0</td>\n",
              "      <td>0.0</td>\n",
              "      <td>1.0</td>\n",
              "      <td>1.0</td>\n",
              "      <td>...</td>\n",
              "      <td>0</td>\n",
              "      <td>0</td>\n",
              "      <td>0</td>\n",
              "      <td>0</td>\n",
              "      <td>0</td>\n",
              "      <td>0</td>\n",
              "      <td>0</td>\n",
              "      <td>0</td>\n",
              "      <td>0</td>\n",
              "      <td>0</td>\n",
              "    </tr>\n",
              "    <tr>\n",
              "      <th>253678</th>\n",
              "      <td>0.0</td>\n",
              "      <td>1.0</td>\n",
              "      <td>0.0</td>\n",
              "      <td>1.0</td>\n",
              "      <td>23.0</td>\n",
              "      <td>0.0</td>\n",
              "      <td>0.0</td>\n",
              "      <td>0.0</td>\n",
              "      <td>0.0</td>\n",
              "      <td>1.0</td>\n",
              "      <td>...</td>\n",
              "      <td>0</td>\n",
              "      <td>0</td>\n",
              "      <td>0</td>\n",
              "      <td>1</td>\n",
              "      <td>0</td>\n",
              "      <td>0</td>\n",
              "      <td>0</td>\n",
              "      <td>0</td>\n",
              "      <td>0</td>\n",
              "      <td>0</td>\n",
              "    </tr>\n",
              "    <tr>\n",
              "      <th>253679</th>\n",
              "      <td>2.0</td>\n",
              "      <td>1.0</td>\n",
              "      <td>1.0</td>\n",
              "      <td>1.0</td>\n",
              "      <td>25.0</td>\n",
              "      <td>0.0</td>\n",
              "      <td>0.0</td>\n",
              "      <td>1.0</td>\n",
              "      <td>1.0</td>\n",
              "      <td>1.0</td>\n",
              "      <td>...</td>\n",
              "      <td>0</td>\n",
              "      <td>0</td>\n",
              "      <td>0</td>\n",
              "      <td>0</td>\n",
              "      <td>0</td>\n",
              "      <td>1</td>\n",
              "      <td>0</td>\n",
              "      <td>0</td>\n",
              "      <td>0</td>\n",
              "      <td>0</td>\n",
              "    </tr>\n",
              "  </tbody>\n",
              "</table>\n",
              "<p>253680 rows × 46 columns</p>\n",
              "</div>\n",
              "      <button class=\"colab-df-convert\" onclick=\"convertToInteractive('df-e7cacc42-c706-4f55-b071-819347c034f7')\"\n",
              "              title=\"Convert this dataframe to an interactive table.\"\n",
              "              style=\"display:none;\">\n",
              "        \n",
              "  <svg xmlns=\"http://www.w3.org/2000/svg\" height=\"24px\"viewBox=\"0 0 24 24\"\n",
              "       width=\"24px\">\n",
              "    <path d=\"M0 0h24v24H0V0z\" fill=\"none\"/>\n",
              "    <path d=\"M18.56 5.44l.94 2.06.94-2.06 2.06-.94-2.06-.94-.94-2.06-.94 2.06-2.06.94zm-11 1L8.5 8.5l.94-2.06 2.06-.94-2.06-.94L8.5 2.5l-.94 2.06-2.06.94zm10 10l.94 2.06.94-2.06 2.06-.94-2.06-.94-.94-2.06-.94 2.06-2.06.94z\"/><path d=\"M17.41 7.96l-1.37-1.37c-.4-.4-.92-.59-1.43-.59-.52 0-1.04.2-1.43.59L10.3 9.45l-7.72 7.72c-.78.78-.78 2.05 0 2.83L4 21.41c.39.39.9.59 1.41.59.51 0 1.02-.2 1.41-.59l7.78-7.78 2.81-2.81c.8-.78.8-2.07 0-2.86zM5.41 20L4 18.59l7.72-7.72 1.47 1.35L5.41 20z\"/>\n",
              "  </svg>\n",
              "      </button>\n",
              "      \n",
              "  <style>\n",
              "    .colab-df-container {\n",
              "      display:flex;\n",
              "      flex-wrap:wrap;\n",
              "      gap: 12px;\n",
              "    }\n",
              "\n",
              "    .colab-df-convert {\n",
              "      background-color: #E8F0FE;\n",
              "      border: none;\n",
              "      border-radius: 50%;\n",
              "      cursor: pointer;\n",
              "      display: none;\n",
              "      fill: #1967D2;\n",
              "      height: 32px;\n",
              "      padding: 0 0 0 0;\n",
              "      width: 32px;\n",
              "    }\n",
              "\n",
              "    .colab-df-convert:hover {\n",
              "      background-color: #E2EBFA;\n",
              "      box-shadow: 0px 1px 2px rgba(60, 64, 67, 0.3), 0px 1px 3px 1px rgba(60, 64, 67, 0.15);\n",
              "      fill: #174EA6;\n",
              "    }\n",
              "\n",
              "    [theme=dark] .colab-df-convert {\n",
              "      background-color: #3B4455;\n",
              "      fill: #D2E3FC;\n",
              "    }\n",
              "\n",
              "    [theme=dark] .colab-df-convert:hover {\n",
              "      background-color: #434B5C;\n",
              "      box-shadow: 0px 1px 3px 1px rgba(0, 0, 0, 0.15);\n",
              "      filter: drop-shadow(0px 1px 2px rgba(0, 0, 0, 0.3));\n",
              "      fill: #FFFFFF;\n",
              "    }\n",
              "  </style>\n",
              "\n",
              "      <script>\n",
              "        const buttonEl =\n",
              "          document.querySelector('#df-e7cacc42-c706-4f55-b071-819347c034f7 button.colab-df-convert');\n",
              "        buttonEl.style.display =\n",
              "          google.colab.kernel.accessAllowed ? 'block' : 'none';\n",
              "\n",
              "        async function convertToInteractive(key) {\n",
              "          const element = document.querySelector('#df-e7cacc42-c706-4f55-b071-819347c034f7');\n",
              "          const dataTable =\n",
              "            await google.colab.kernel.invokeFunction('convertToInteractive',\n",
              "                                                     [key], {});\n",
              "          if (!dataTable) return;\n",
              "\n",
              "          const docLinkHtml = 'Like what you see? Visit the ' +\n",
              "            '<a target=\"_blank\" href=https://colab.research.google.com/notebooks/data_table.ipynb>data table notebook</a>'\n",
              "            + ' to learn more about interactive tables.';\n",
              "          element.innerHTML = '';\n",
              "          dataTable['output_type'] = 'display_data';\n",
              "          await google.colab.output.renderOutput(dataTable, element);\n",
              "          const docLink = document.createElement('div');\n",
              "          docLink.innerHTML = docLinkHtml;\n",
              "          element.appendChild(docLink);\n",
              "        }\n",
              "      </script>\n",
              "    </div>\n",
              "  </div>\n",
              "  "
            ]
          },
          "metadata": {},
          "execution_count": 7
        }
      ]
    },
    {
      "cell_type": "code",
      "source": [
        "# check the counts for 0 no diabetes, 1 prediabetic, 2 diabetic\n",
        "diabetes['Diabetes_012'].value_counts()"
      ],
      "metadata": {
        "colab": {
          "base_uri": "https://localhost:8080/"
        },
        "id": "Kzfh5ABuGoAl",
        "outputId": "85ff2595-9436-4cb0-a4ed-8510adca8a3b"
      },
      "execution_count": null,
      "outputs": [
        {
          "output_type": "execute_result",
          "data": {
            "text/plain": [
              "0.0    213703\n",
              "2.0     35346\n",
              "1.0      4631\n",
              "Name: Diabetes_012, dtype: int64"
            ]
          },
          "metadata": {},
          "execution_count": 8
        }
      ]
    },
    {
      "cell_type": "code",
      "source": [
        "# merge the prediabetic and not diabetic  \n",
        "diabetes.loc[diabetes['Diabetes_012'] == 0.0, \"Diabetes_012\"] = 1\n",
        "\n"
      ],
      "metadata": {
        "id": "dzOv8anwG6TZ"
      },
      "execution_count": null,
      "outputs": []
    },
    {
      "cell_type": "code",
      "source": [
        "# check the counts for 0 no diabetes, 1 diabetic\n",
        "diabetes['Diabetes_012'].value_counts()"
      ],
      "metadata": {
        "colab": {
          "base_uri": "https://localhost:8080/"
        },
        "id": "v1VhAyXSHSez",
        "outputId": "5dfc0c08-25b6-4aab-c751-68b777281c18"
      },
      "execution_count": null,
      "outputs": [
        {
          "output_type": "execute_result",
          "data": {
            "text/plain": [
              "1.0    218334\n",
              "2.0     35346\n",
              "Name: Diabetes_012, dtype: int64"
            ]
          },
          "metadata": {},
          "execution_count": 10
        }
      ]
    },
    {
      "cell_type": "code",
      "source": [
        "print(diabetes['Age'].value_counts())\n"
      ],
      "metadata": {
        "colab": {
          "base_uri": "https://localhost:8080/"
        },
        "id": "arMZu1BeUNJs",
        "outputId": "7ec3fab4-c74b-4f16-a946-28fae2180e96"
      },
      "execution_count": null,
      "outputs": [
        {
          "output_type": "stream",
          "name": "stdout",
          "text": [
            "9.0     33244\n",
            "10.0    32194\n",
            "8.0     30832\n",
            "7.0     26314\n",
            "11.0    23533\n",
            "6.0     19819\n",
            "13.0    17363\n",
            "5.0     16157\n",
            "12.0    15980\n",
            "4.0     13823\n",
            "3.0     11123\n",
            "2.0      7598\n",
            "1.0      5700\n",
            "Name: Age, dtype: int64\n"
          ]
        }
      ]
    },
    {
      "cell_type": "markdown",
      "source": [
        "\n",
        "\n"
      ],
      "metadata": {
        "id": "-t9NIIHPcpgh"
      }
    },
    {
      "cell_type": "code",
      "source": [
        "# need to make training, validation and test split\n",
        "features = diabetes_final.drop(['Diabetes_012', 'Income', 'Education', 'Age'], axis = 1)\n",
        "print(features.head())\n"
      ],
      "metadata": {
        "id": "ThwRU9U-Hap4",
        "colab": {
          "base_uri": "https://localhost:8080/"
        },
        "outputId": "59a94bf9-af17-4c30-ac10-697d838dfbc0"
      },
      "execution_count": null,
      "outputs": [
        {
          "output_type": "stream",
          "name": "stdout",
          "text": [
            "   HighBP  HighChol  CholCheck   BMI  Smoker  Stroke  HeartDiseaseorAttack  \\\n",
            "0     1.0       1.0        1.0  40.0     1.0     0.0                   0.0   \n",
            "1     0.0       0.0        0.0  25.0     1.0     0.0                   0.0   \n",
            "2     1.0       1.0        1.0  28.0     0.0     0.0                   0.0   \n",
            "3     1.0       0.0        1.0  27.0     0.0     0.0                   0.0   \n",
            "4     1.0       1.0        1.0  24.0     0.0     0.0                   0.0   \n",
            "\n",
            "   PhysActivity  Fruits  Veggies  ...  age4  age5  age6  age7  age8  age9  \\\n",
            "0           0.0     0.0      1.0  ...     0     0     0     0     0     1   \n",
            "1           1.0     0.0      0.0  ...     0     0     0     1     0     0   \n",
            "2           0.0     1.0      0.0  ...     0     0     0     0     0     1   \n",
            "3           1.0     1.0      1.0  ...     0     0     0     0     0     0   \n",
            "4           1.0     1.0      1.0  ...     0     0     0     0     0     0   \n",
            "\n",
            "   age10  age11  age12  age13  \n",
            "0      0      0      0      0  \n",
            "1      0      0      0      0  \n",
            "2      0      0      0      0  \n",
            "3      0      1      0      0  \n",
            "4      0      1      0      0  \n",
            "\n",
            "[5 rows x 45 columns]\n"
          ]
        }
      ]
    },
    {
      "cell_type": "code",
      "source": [
        "print(diabetes['Age'].value_counts())\n"
      ],
      "metadata": {
        "colab": {
          "base_uri": "https://localhost:8080/"
        },
        "id": "-M-cBvy0UD4g",
        "outputId": "b8f30bd1-f161-4542-f3aa-7205bf5ab356"
      },
      "execution_count": null,
      "outputs": [
        {
          "output_type": "stream",
          "name": "stdout",
          "text": [
            "9.0     33244\n",
            "10.0    32194\n",
            "8.0     30832\n",
            "7.0     26314\n",
            "11.0    23533\n",
            "6.0     19819\n",
            "13.0    17363\n",
            "5.0     16157\n",
            "12.0    15980\n",
            "4.0     13823\n",
            "3.0     11123\n",
            "2.0      7598\n",
            "1.0      5700\n",
            "Name: Age, dtype: int64\n"
          ]
        }
      ]
    },
    {
      "cell_type": "code",
      "source": [
        "# reshape labels and encode them\n",
        "ce_OHE = ce.OneHotEncoder(cols=['Diabetes_012'])\n",
        "labels = ce_OHE.fit_transform(diabetes)\n",
        "labels = labels.iloc[:,0:2]\n"
      ],
      "metadata": {
        "id": "UKa0ceFP4UYt"
      },
      "execution_count": null,
      "outputs": []
    },
    {
      "cell_type": "code",
      "source": [
        "print(diabetes['Age'].value_counts())\n"
      ],
      "metadata": {
        "colab": {
          "base_uri": "https://localhost:8080/"
        },
        "id": "5cvhuxZ0Tx5T",
        "outputId": "4d89c715-8dc7-4821-f95c-bc1562bfffea"
      },
      "execution_count": null,
      "outputs": [
        {
          "output_type": "stream",
          "name": "stdout",
          "text": [
            "9.0     33244\n",
            "10.0    32194\n",
            "8.0     30832\n",
            "7.0     26314\n",
            "11.0    23533\n",
            "6.0     19819\n",
            "13.0    17363\n",
            "5.0     16157\n",
            "12.0    15980\n",
            "4.0     13823\n",
            "3.0     11123\n",
            "2.0      7598\n",
            "1.0      5700\n",
            "Name: Age, dtype: int64\n"
          ]
        }
      ]
    },
    {
      "cell_type": "code",
      "source": [
        "# split into training and testing set \n",
        "X_train, X_test, y_train, y_test = train_test_split(features, labels,\n",
        "    test_size=0.2, shuffle = True, random_state = 356)\n",
        "\n",
        "# Use the same function above to spliut the training into train and validation set\n",
        "X_train, X_val, y_train, y_val = train_test_split(X_train, y_train, \n",
        "    test_size=0.25, random_state= 356) # 0.25 x 0.8 = 0.2"
      ],
      "metadata": {
        "id": "tqKYTUoAHeRa"
      },
      "execution_count": null,
      "outputs": []
    },
    {
      "cell_type": "code",
      "source": [
        "print(X_train.shape, X_val.shape, X_test.shape)"
      ],
      "metadata": {
        "colab": {
          "base_uri": "https://localhost:8080/"
        },
        "id": "WiD9pXpXIEEp",
        "outputId": "7ee41445-a5ea-49c4-bf24-d98408a26272"
      },
      "execution_count": null,
      "outputs": [
        {
          "output_type": "stream",
          "name": "stdout",
          "text": [
            "(152208, 45) (50736, 45) (50736, 45)\n"
          ]
        }
      ]
    },
    {
      "cell_type": "code",
      "source": [
        "# build and compile model \n",
        "# Define model -- should change model name\n",
        "model = keras.Sequential([\n",
        "  layers.Dense(256, activation='relu', input_dim = 45),\n",
        "  layers.Dropout(0.5),\n",
        "\n",
        "  layers.Dense(128, activation='sigmoid'), \n",
        "  layers.Dropout(0.5),\n",
        "\n",
        "  layers.Dense(32, activation='sigmoid'), \n",
        "\n",
        "  layers.Dense(2, activation='sigmoid') # 2 categories\n",
        "])\n",
        "\n",
        "# model compile function\n",
        "model.compile(loss = 'binary_crossentropy',\n",
        "              optimizer = tf.keras.optimizers.RMSprop(),\n",
        "              metrics = ['accuracy'])"
      ],
      "metadata": {
        "id": "9qYL11MJHx3N"
      },
      "execution_count": null,
      "outputs": []
    },
    {
      "cell_type": "code",
      "source": [
        "history = model.fit(X_train, \n",
        "          y_train, \n",
        "          epochs = 30, #change epochs to 100 after testing\n",
        "          batch_size = 200,\n",
        "          validation_data=(X_val, y_val)\n",
        "          )"
      ],
      "metadata": {
        "colab": {
          "base_uri": "https://localhost:8080/"
        },
        "id": "QKECy9GvH6Kl",
        "outputId": "f2287b09-2afe-4b4d-929d-a890a5430e27"
      },
      "execution_count": null,
      "outputs": [
        {
          "output_type": "stream",
          "name": "stdout",
          "text": [
            "Epoch 1/30\n",
            "762/762 [==============================] - 6s 8ms/step - loss: 0.3244 - accuracy: 0.8629 - val_loss: 0.3215 - val_accuracy: 0.8670\n",
            "Epoch 2/30\n",
            "762/762 [==============================] - 5s 6ms/step - loss: 0.3242 - accuracy: 0.8631 - val_loss: 0.3197 - val_accuracy: 0.8636\n",
            "Epoch 3/30\n",
            "762/762 [==============================] - 5s 6ms/step - loss: 0.3242 - accuracy: 0.8626 - val_loss: 0.3222 - val_accuracy: 0.8667\n",
            "Epoch 4/30\n",
            "762/762 [==============================] - 5s 6ms/step - loss: 0.3248 - accuracy: 0.8623 - val_loss: 0.3215 - val_accuracy: 0.8618\n",
            "Epoch 5/30\n",
            "762/762 [==============================] - 5s 7ms/step - loss: 0.3252 - accuracy: 0.8633 - val_loss: 0.3215 - val_accuracy: 0.8664\n",
            "Epoch 6/30\n",
            "762/762 [==============================] - 5s 6ms/step - loss: 0.3262 - accuracy: 0.8628 - val_loss: 0.3209 - val_accuracy: 0.8656\n",
            "Epoch 7/30\n",
            "762/762 [==============================] - 6s 7ms/step - loss: 0.3263 - accuracy: 0.8628 - val_loss: 0.3222 - val_accuracy: 0.8658\n",
            "Epoch 8/30\n",
            "762/762 [==============================] - 5s 7ms/step - loss: 0.3265 - accuracy: 0.8620 - val_loss: 0.3228 - val_accuracy: 0.8655\n",
            "Epoch 9/30\n",
            "762/762 [==============================] - 5s 6ms/step - loss: 0.3271 - accuracy: 0.8620 - val_loss: 0.3220 - val_accuracy: 0.8651\n",
            "Epoch 10/30\n",
            "762/762 [==============================] - 5s 7ms/step - loss: 0.3279 - accuracy: 0.8630 - val_loss: 0.3233 - val_accuracy: 0.8673\n",
            "Epoch 11/30\n",
            "762/762 [==============================] - 5s 6ms/step - loss: 0.3285 - accuracy: 0.8625 - val_loss: 0.3257 - val_accuracy: 0.8642\n",
            "Epoch 12/30\n",
            "762/762 [==============================] - 5s 6ms/step - loss: 0.3289 - accuracy: 0.8618 - val_loss: 0.3232 - val_accuracy: 0.8640\n",
            "Epoch 13/30\n",
            "762/762 [==============================] - 5s 6ms/step - loss: 0.3297 - accuracy: 0.8617 - val_loss: 0.3265 - val_accuracy: 0.8656\n",
            "Epoch 14/30\n",
            "762/762 [==============================] - 5s 6ms/step - loss: 0.3310 - accuracy: 0.8625 - val_loss: 0.3279 - val_accuracy: 0.8667\n",
            "Epoch 15/30\n",
            "762/762 [==============================] - 5s 6ms/step - loss: 0.3328 - accuracy: 0.8624 - val_loss: 0.3262 - val_accuracy: 0.8669\n",
            "Epoch 16/30\n",
            "762/762 [==============================] - 5s 6ms/step - loss: 0.3317 - accuracy: 0.8621 - val_loss: 0.3271 - val_accuracy: 0.8665\n",
            "Epoch 17/30\n",
            "762/762 [==============================] - 5s 6ms/step - loss: 0.3323 - accuracy: 0.8618 - val_loss: 0.3250 - val_accuracy: 0.8658\n",
            "Epoch 18/30\n",
            "762/762 [==============================] - 6s 7ms/step - loss: 0.3328 - accuracy: 0.8617 - val_loss: 0.3288 - val_accuracy: 0.8641\n",
            "Epoch 19/30\n",
            "762/762 [==============================] - 5s 6ms/step - loss: 0.3353 - accuracy: 0.8619 - val_loss: 0.3278 - val_accuracy: 0.8645\n",
            "Epoch 20/30\n",
            "762/762 [==============================] - 5s 6ms/step - loss: 0.3328 - accuracy: 0.8624 - val_loss: 0.3272 - val_accuracy: 0.8635\n",
            "Epoch 21/30\n",
            "762/762 [==============================] - 5s 6ms/step - loss: 0.3353 - accuracy: 0.8619 - val_loss: 0.3294 - val_accuracy: 0.8664\n",
            "Epoch 22/30\n",
            "762/762 [==============================] - 5s 6ms/step - loss: 0.3363 - accuracy: 0.8617 - val_loss: 0.3297 - val_accuracy: 0.8662\n",
            "Epoch 23/30\n",
            "762/762 [==============================] - 5s 6ms/step - loss: 0.3355 - accuracy: 0.8620 - val_loss: 0.3311 - val_accuracy: 0.8670\n",
            "Epoch 24/30\n",
            "762/762 [==============================] - 5s 6ms/step - loss: 0.3353 - accuracy: 0.8617 - val_loss: 0.3287 - val_accuracy: 0.8630\n",
            "Epoch 25/30\n",
            "762/762 [==============================] - 5s 6ms/step - loss: 0.3350 - accuracy: 0.8615 - val_loss: 0.3283 - val_accuracy: 0.8609\n",
            "Epoch 26/30\n",
            "762/762 [==============================] - 5s 6ms/step - loss: 0.3361 - accuracy: 0.8615 - val_loss: 0.3314 - val_accuracy: 0.8626\n",
            "Epoch 27/30\n",
            "762/762 [==============================] - 5s 6ms/step - loss: 0.3366 - accuracy: 0.8616 - val_loss: 0.3266 - val_accuracy: 0.8612\n",
            "Epoch 28/30\n",
            "762/762 [==============================] - 5s 6ms/step - loss: 0.3341 - accuracy: 0.8615 - val_loss: 0.3268 - val_accuracy: 0.8646\n",
            "Epoch 29/30\n",
            "762/762 [==============================] - 5s 6ms/step - loss: 0.3368 - accuracy: 0.8617 - val_loss: 0.3304 - val_accuracy: 0.8666\n",
            "Epoch 30/30\n",
            "762/762 [==============================] - 5s 6ms/step - loss: 0.3357 - accuracy: 0.8617 - val_loss: 0.3307 - val_accuracy: 0.8665\n"
          ]
        }
      ]
    },
    {
      "cell_type": "code",
      "source": [
        "from google.colab import drive\n",
        "drive.mount('/gdrive')"
      ],
      "metadata": {
        "colab": {
          "base_uri": "https://localhost:8080/"
        },
        "id": "7ioNeLaD0OmK",
        "outputId": "2aab340e-cc12-4da0-df6c-72933480a895"
      },
      "execution_count": null,
      "outputs": [
        {
          "output_type": "stream",
          "name": "stdout",
          "text": [
            "Mounted at /gdrive\n"
          ]
        }
      ]
    },
    {
      "cell_type": "code",
      "source": [
        "model.save('/MyDrive/diabetes2.h5')\n"
      ],
      "metadata": {
        "id": "k4a3vYhC0a1s"
      },
      "execution_count": null,
      "outputs": []
    },
    {
      "cell_type": "code",
      "source": [
        "# load model\n",
        "new_model = tf.keras.models.load_model('/MyDrive/diabetes2.h5')\n",
        "\n",
        "\n",
        "\n"
      ],
      "metadata": {
        "id": "VhBngNuPJrLW"
      },
      "execution_count": null,
      "outputs": []
    },
    {
      "cell_type": "code",
      "source": [
        "# Show the model architecture\n",
        "new_model.summary()"
      ],
      "metadata": {
        "colab": {
          "base_uri": "https://localhost:8080/"
        },
        "id": "QxsFvk1pJtjj",
        "outputId": "2bfdf62d-d4aa-4ddc-b77b-180aa60d1437"
      },
      "execution_count": null,
      "outputs": [
        {
          "output_type": "stream",
          "name": "stdout",
          "text": [
            "Model: \"sequential\"\n",
            "_________________________________________________________________\n",
            " Layer (type)                Output Shape              Param #   \n",
            "=================================================================\n",
            " dense (Dense)               (None, 256)               11776     \n",
            "                                                                 \n",
            " dropout (Dropout)           (None, 256)               0         \n",
            "                                                                 \n",
            " dense_1 (Dense)             (None, 128)               32896     \n",
            "                                                                 \n",
            " dropout_1 (Dropout)         (None, 128)               0         \n",
            "                                                                 \n",
            " dense_2 (Dense)             (None, 32)                4128      \n",
            "                                                                 \n",
            " dense_3 (Dense)             (None, 2)                 66        \n",
            "                                                                 \n",
            "=================================================================\n",
            "Total params: 48,866\n",
            "Trainable params: 48,866\n",
            "Non-trainable params: 0\n",
            "_________________________________________________________________\n"
          ]
        }
      ]
    },
    {
      "cell_type": "code",
      "source": [
        "# plot of validation loss and train loss\n",
        "import seaborn as sns\n",
        "sns.set()\n",
        "\n",
        "train_acc  = history.history['accuracy']\n",
        "train_loss = history.history['loss']\n",
        "val_acc  = history.history['val_accuracy']\n",
        "val_loss = history.history['val_loss']\n",
        "\n",
        "epochs = range(1, len(train_acc) + 1)\n",
        "\n",
        "plt.plot(epochs, train_loss, label = 'Training Loss')\n",
        "plt.plot(epochs, val_loss, label = 'Validation Loss')\n",
        "plt.xlabel('Epochs')\n",
        "plt.ylabel('Loss')\n",
        "plt.legend()"
      ],
      "metadata": {
        "colab": {
          "base_uri": "https://localhost:8080/",
          "height": 304
        },
        "id": "O8TD2E0oJvhw",
        "outputId": "8138c3d4-fc59-4e63-ab3f-ba0eb34fd962"
      },
      "execution_count": null,
      "outputs": [
        {
          "output_type": "execute_result",
          "data": {
            "text/plain": [
              "<matplotlib.legend.Legend at 0x7f599f2824d0>"
            ]
          },
          "metadata": {},
          "execution_count": 28
        },
        {
          "output_type": "display_data",
          "data": {
            "text/plain": [
              "<Figure size 432x288 with 1 Axes>"
            ],
            "image/png": "[encoded data removed]"
          },
          "metadata": {}
        }
      ]
    },
    {
      "cell_type": "code",
      "source": [
        "# test set accuracy \n",
        "test_loss, test_acc = new_model.evaluate(X_test, y_test)\n",
        "print(\"The test set accuracy is: \", test_acc)"
      ],
      "metadata": {
        "colab": {
          "base_uri": "https://localhost:8080/"
        },
        "id": "iBDgEoQoJx5p",
        "outputId": "dcbadc6e-b2e8-48a0-d44a-e3c34270a759"
      },
      "execution_count": null,
      "outputs": [
        {
          "output_type": "stream",
          "name": "stdout",
          "text": [
            "1586/1586 [==============================] - 2s 1ms/step - loss: 0.3305 - accuracy: 0.8647\n",
            "The test set accuracy is:  0.8647311329841614\n"
          ]
        }
      ]
    },
    {
      "cell_type": "code",
      "source": [
        "# predictions on test set held out\n",
        "y_proba = new_model.predict(X_test)\n",
        "# make values predicted binary and not vector of probs\n",
        "y_pred = y_proba.argmax(axis = 1) # want 0,1 vector\n",
        "y_pred"
      ],
      "metadata": {
        "colab": {
          "base_uri": "https://localhost:8080/"
        },
        "id": "k7Kc-XPQKIMm",
        "outputId": "b9dedbfd-8f19-451a-dd2b-3dffe2fb936c"
      },
      "execution_count": null,
      "outputs": [
        {
          "output_type": "execute_result",
          "data": {
            "text/plain": [
              "array([0, 0, 0, ..., 0, 0, 0])"
            ]
          },
          "metadata": {},
          "execution_count": 30
        }
      ]
    },
    {
      "cell_type": "code",
      "source": [
        "# need to y_test to be single vector of 0,1 again\n",
        "y_test_lab = diabetes.iloc[y_test.index, :][\"Diabetes_012\"] # must check if this actually works as desired\n",
        "y_test_lab # need to change these so 2 and 1 make sense, 2 is diabetic, 0 is prediabetic\n",
        "y_test_lab[y_test_lab == 1] = 0\n",
        "y_test_lab[y_test_lab == 2] = 1"
      ],
      "metadata": {
        "colab": {
          "base_uri": "https://localhost:8080/"
        },
        "id": "IcvKeykCLU8A",
        "outputId": "5fd5bb8c-5bfb-4f7a-8670-19dcf82b52f5"
      },
      "execution_count": null,
      "outputs": [
        {
          "output_type": "stream",
          "name": "stderr",
          "text": [
            "/usr/local/lib/python3.7/dist-packages/pandas/core/generic.py:8870: SettingWithCopyWarning: \n",
            "A value is trying to be set on a copy of a slice from a DataFrame\n",
            "\n",
            "See the caveats in the documentation: https://pandas.pydata.org/pandas-docs/stable/user_guide/indexing.html#returning-a-view-versus-a-copy\n",
            "  return self._update_inplace(result)\n",
            "/usr/local/lib/python3.7/dist-packages/pandas/core/series.py:1056: SettingWithCopyWarning: \n",
            "A value is trying to be set on a copy of a slice from a DataFrame\n",
            "\n",
            "See the caveats in the documentation: https://pandas.pydata.org/pandas-docs/stable/user_guide/indexing.html#returning-a-view-versus-a-copy\n",
            "  cacher_needs_updating = self._check_is_chained_assignment_possible()\n"
          ]
        }
      ]
    },
    {
      "cell_type": "code",
      "source": [
        "# create accuracy table \n",
        "#importing confusion matrix\n",
        "confusion = confusion_matrix(y_test_lab, y_pred)\n",
        "print('Confusion Matrix\\n')\n",
        "print(confusion)\n",
        "cmd = ConfusionMatrixDisplay(confusion, display_labels=['Not Diabetes','Diabetic'])\n",
        "cmd.plot()\n",
        "\n",
        "#importing accuracy_score, precision_score, recall_score, f1_score\n",
        "print('\\nAccuracy: {:.3f}\\n'.format(accuracy_score(y_test_lab, y_pred)))\n",
        "\n"
      ],
      "metadata": {
        "colab": {
          "base_uri": "https://localhost:8080/",
          "height": 406
        },
        "id": "hMG0pMbaL1O_",
        "outputId": "f432979f-03c5-4130-d9b9-27cf93f5715a"
      },
      "execution_count": null,
      "outputs": [
        {
          "output_type": "stream",
          "name": "stdout",
          "text": [
            "Confusion Matrix\n",
            "\n",
            "[[42769   870]\n",
            " [ 5993  1104]]\n",
            "\n",
            "Accuracy: 0.865\n",
            "\n"
          ]
        },
        {
          "output_type": "display_data",
          "data": {
            "text/plain": [
              "<Figure size 432x288 with 2 Axes>"
            ],
            "image/png": "[encoded data removed]"
          },
          "metadata": {}
        }
      ]
    },
    {
      "cell_type": "markdown",
      "source": [
        "##Subset Data by Income, Education, Gender, Age\n",
        "\n",
        "### I.Income\n",
        "\n",
        "When we subset by income we split into those under and over $35,000. However, a majority of the survey respondents reported lower than $10,000 income. \n",
        "\n",
        "\n",
        "\n",
        "\n",
        "\n",
        "\n",
        "\n",
        "\n"
      ],
      "metadata": {
        "id": "5JvzRAvkMC35"
      }
    },
    {
      "cell_type": "code",
      "source": [
        "# 8 is above $75,000, 5 is below 35,000\n",
        " # maybe start with split of below 5 and above 5 \n",
        "diabetes['Income'].value_counts()"
      ],
      "metadata": {
        "colab": {
          "base_uri": "https://localhost:8080/"
        },
        "id": "-E98bIgWWksj",
        "outputId": "8acaf6a1-9714-41c2-ddb5-32f8d61f98f3"
      },
      "execution_count": null,
      "outputs": [
        {
          "output_type": "execute_result",
          "data": {
            "text/plain": [
              "8.0    90385\n",
              "7.0    43219\n",
              "6.0    36470\n",
              "5.0    25883\n",
              "4.0    20135\n",
              "3.0    15994\n",
              "2.0    11783\n",
              "1.0     9811\n",
              "Name: Income, dtype: int64"
            ]
          },
          "metadata": {},
          "execution_count": 33
        }
      ]
    },
    {
      "cell_type": "markdown",
      "source": [
        "**Note: we are not going to refit the models to the training data but instead want to observe how well it fits to the testing dataset.**"
      ],
      "metadata": {
        "id": "AVwM90EXXglZ"
      }
    },
    {
      "cell_type": "code",
      "source": [
        "# function to subset which incomes you want\n",
        "X_test.head()"
      ],
      "metadata": {
        "colab": {
          "base_uri": "https://localhost:8080/",
          "height": 299
        },
        "id": "S6DrTWChXRQ6",
        "outputId": "f1e697bf-a7f2-42d1-f88a-836efa1feb89"
      },
      "execution_count": null,
      "outputs": [
        {
          "output_type": "execute_result",
          "data": {
            "text/plain": [
              "        HighBP  HighChol  CholCheck   BMI  Smoker  Stroke  \\\n",
              "193256     0.0       0.0        1.0  23.0     0.0     0.0   \n",
              "52416      0.0       0.0        1.0  29.0     0.0     0.0   \n",
              "125094     1.0       1.0        1.0  27.0     0.0     0.0   \n",
              "74892      0.0       0.0        1.0  35.0     0.0     0.0   \n",
              "1357       0.0       1.0        1.0  19.0     0.0     0.0   \n",
              "\n",
              "        HeartDiseaseorAttack  PhysActivity  Fruits  Veggies  ...  age4  age5  \\\n",
              "193256                   0.0           1.0     1.0      1.0  ...     0     0   \n",
              "52416                    0.0           1.0     0.0      1.0  ...     0     1   \n",
              "125094                   0.0           1.0     0.0      1.0  ...     0     0   \n",
              "74892                    0.0           1.0     1.0      1.0  ...     0     0   \n",
              "1357                     0.0           1.0     0.0      0.0  ...     0     0   \n",
              "\n",
              "        age6  age7  age8  age9  age10  age11  age12  age13  \n",
              "193256     0     0     0     1      0      0      0      0  \n",
              "52416      0     0     0     0      0      0      0      0  \n",
              "125094     0     1     0     0      0      0      0      0  \n",
              "74892      0     0     0     0      0      0      0      0  \n",
              "1357       0     0     0     0      0      0      0      1  \n",
              "\n",
              "[5 rows x 45 columns]"
            ],
            "text/html": [
              "\n",
              "  <div id=\"df-990f0bff-518b-456c-81f4-a5fe90a355cc\">\n",
              "    <div class=\"colab-df-container\">\n",
              "      <div>\n",
              "<style scoped>\n",
              "    .dataframe tbody tr th:only-of-type {\n",
              "        vertical-align: middle;\n",
              "    }\n",
              "\n",
              "    .dataframe tbody tr th {\n",
              "        vertical-align: top;\n",
              "    }\n",
              "\n",
              "    .dataframe thead th {\n",
              "        text-align: right;\n",
              "    }\n",
              "</style>\n",
              "<table border=\"1\" class=\"dataframe\">\n",
              "  <thead>\n",
              "    <tr style=\"text-align: right;\">\n",
              "      <th></th>\n",
              "      <th>HighBP</th>\n",
              "      <th>HighChol</th>\n",
              "      <th>CholCheck</th>\n",
              "      <th>BMI</th>\n",
              "      <th>Smoker</th>\n",
              "      <th>Stroke</th>\n",
              "      <th>HeartDiseaseorAttack</th>\n",
              "      <th>PhysActivity</th>\n",
              "      <th>Fruits</th>\n",
              "      <th>Veggies</th>\n",
              "      <th>...</th>\n",
              "      <th>age4</th>\n",
              "      <th>age5</th>\n",
              "      <th>age6</th>\n",
              "      <th>age7</th>\n",
              "      <th>age8</th>\n",
              "      <th>age9</th>\n",
              "      <th>age10</th>\n",
              "      <th>age11</th>\n",
              "      <th>age12</th>\n",
              "      <th>age13</th>\n",
              "    </tr>\n",
              "  </thead>\n",
              "  <tbody>\n",
              "    <tr>\n",
              "      <th>193256</th>\n",
              "      <td>0.0</td>\n",
              "      <td>0.0</td>\n",
              "      <td>1.0</td>\n",
              "      <td>23.0</td>\n",
              "      <td>0.0</td>\n",
              "      <td>0.0</td>\n",
              "      <td>0.0</td>\n",
              "      <td>1.0</td>\n",
              "      <td>1.0</td>\n",
              "      <td>1.0</td>\n",
              "      <td>...</td>\n",
              "      <td>0</td>\n",
              "      <td>0</td>\n",
              "      <td>0</td>\n",
              "      <td>0</td>\n",
              "      <td>0</td>\n",
              "      <td>1</td>\n",
              "      <td>0</td>\n",
              "      <td>0</td>\n",
              "      <td>0</td>\n",
              "      <td>0</td>\n",
              "    </tr>\n",
              "    <tr>\n",
              "      <th>52416</th>\n",
              "      <td>0.0</td>\n",
              "      <td>0.0</td>\n",
              "      <td>1.0</td>\n",
              "      <td>29.0</td>\n",
              "      <td>0.0</td>\n",
              "      <td>0.0</td>\n",
              "      <td>0.0</td>\n",
              "      <td>1.0</td>\n",
              "      <td>0.0</td>\n",
              "      <td>1.0</td>\n",
              "      <td>...</td>\n",
              "      <td>0</td>\n",
              "      <td>1</td>\n",
              "      <td>0</td>\n",
              "      <td>0</td>\n",
              "      <td>0</td>\n",
              "      <td>0</td>\n",
              "      <td>0</td>\n",
              "      <td>0</td>\n",
              "      <td>0</td>\n",
              "      <td>0</td>\n",
              "    </tr>\n",
              "    <tr>\n",
              "      <th>125094</th>\n",
              "      <td>1.0</td>\n",
              "      <td>1.0</td>\n",
              "      <td>1.0</td>\n",
              "      <td>27.0</td>\n",
              "      <td>0.0</td>\n",
              "      <td>0.0</td>\n",
              "      <td>0.0</td>\n",
              "      <td>1.0</td>\n",
              "      <td>0.0</td>\n",
              "      <td>1.0</td>\n",
              "      <td>...</td>\n",
              "      <td>0</td>\n",
              "      <td>0</td>\n",
              "      <td>0</td>\n",
              "      <td>1</td>\n",
              "      <td>0</td>\n",
              "      <td>0</td>\n",
              "      <td>0</td>\n",
              "      <td>0</td>\n",
              "      <td>0</td>\n",
              "      <td>0</td>\n",
              "    </tr>\n",
              "    <tr>\n",
              "      <th>74892</th>\n",
              "      <td>0.0</td>\n",
              "      <td>0.0</td>\n",
              "      <td>1.0</td>\n",
              "      <td>35.0</td>\n",
              "      <td>0.0</td>\n",
              "      <td>0.0</td>\n",
              "      <td>0.0</td>\n",
              "      <td>1.0</td>\n",
              "      <td>1.0</td>\n",
              "      <td>1.0</td>\n",
              "      <td>...</td>\n",
              "      <td>0</td>\n",
              "      <td>0</td>\n",
              "      <td>0</td>\n",
              "      <td>0</td>\n",
              "      <td>0</td>\n",
              "      <td>0</td>\n",
              "      <td>0</td>\n",
              "      <td>0</td>\n",
              "      <td>0</td>\n",
              "      <td>0</td>\n",
              "    </tr>\n",
              "    <tr>\n",
              "      <th>1357</th>\n",
              "      <td>0.0</td>\n",
              "      <td>1.0</td>\n",
              "      <td>1.0</td>\n",
              "      <td>19.0</td>\n",
              "      <td>0.0</td>\n",
              "      <td>0.0</td>\n",
              "      <td>0.0</td>\n",
              "      <td>1.0</td>\n",
              "      <td>0.0</td>\n",
              "      <td>0.0</td>\n",
              "      <td>...</td>\n",
              "      <td>0</td>\n",
              "      <td>0</td>\n",
              "      <td>0</td>\n",
              "      <td>0</td>\n",
              "      <td>0</td>\n",
              "      <td>0</td>\n",
              "      <td>0</td>\n",
              "      <td>0</td>\n",
              "      <td>0</td>\n",
              "      <td>1</td>\n",
              "    </tr>\n",
              "  </tbody>\n",
              "</table>\n",
              "<p>5 rows × 45 columns</p>\n",
              "</div>\n",
              "      <button class=\"colab-df-convert\" onclick=\"convertToInteractive('df-990f0bff-518b-456c-81f4-a5fe90a355cc')\"\n",
              "              title=\"Convert this dataframe to an interactive table.\"\n",
              "              style=\"display:none;\">\n",
              "        \n",
              "  <svg xmlns=\"http://www.w3.org/2000/svg\" height=\"24px\"viewBox=\"0 0 24 24\"\n",
              "       width=\"24px\">\n",
              "    <path d=\"M0 0h24v24H0V0z\" fill=\"none\"/>\n",
              "    <path d=\"M18.56 5.44l.94 2.06.94-2.06 2.06-.94-2.06-.94-.94-2.06-.94 2.06-2.06.94zm-11 1L8.5 8.5l.94-2.06 2.06-.94-2.06-.94L8.5 2.5l-.94 2.06-2.06.94zm10 10l.94 2.06.94-2.06 2.06-.94-2.06-.94-.94-2.06-.94 2.06-2.06.94z\"/><path d=\"M17.41 7.96l-1.37-1.37c-.4-.4-.92-.59-1.43-.59-.52 0-1.04.2-1.43.59L10.3 9.45l-7.72 7.72c-.78.78-.78 2.05 0 2.83L4 21.41c.39.39.9.59 1.41.59.51 0 1.02-.2 1.41-.59l7.78-7.78 2.81-2.81c.8-.78.8-2.07 0-2.86zM5.41 20L4 18.59l7.72-7.72 1.47 1.35L5.41 20z\"/>\n",
              "  </svg>\n",
              "      </button>\n",
              "      \n",
              "  <style>\n",
              "    .colab-df-container {\n",
              "      display:flex;\n",
              "      flex-wrap:wrap;\n",
              "      gap: 12px;\n",
              "    }\n",
              "\n",
              "    .colab-df-convert {\n",
              "      background-color: #E8F0FE;\n",
              "      border: none;\n",
              "      border-radius: 50%;\n",
              "      cursor: pointer;\n",
              "      display: none;\n",
              "      fill: #1967D2;\n",
              "      height: 32px;\n",
              "      padding: 0 0 0 0;\n",
              "      width: 32px;\n",
              "    }\n",
              "\n",
              "    .colab-df-convert:hover {\n",
              "      background-color: #E2EBFA;\n",
              "      box-shadow: 0px 1px 2px rgba(60, 64, 67, 0.3), 0px 1px 3px 1px rgba(60, 64, 67, 0.15);\n",
              "      fill: #174EA6;\n",
              "    }\n",
              "\n",
              "    [theme=dark] .colab-df-convert {\n",
              "      background-color: #3B4455;\n",
              "      fill: #D2E3FC;\n",
              "    }\n",
              "\n",
              "    [theme=dark] .colab-df-convert:hover {\n",
              "      background-color: #434B5C;\n",
              "      box-shadow: 0px 1px 3px 1px rgba(0, 0, 0, 0.15);\n",
              "      filter: drop-shadow(0px 1px 2px rgba(0, 0, 0, 0.3));\n",
              "      fill: #FFFFFF;\n",
              "    }\n",
              "  </style>\n",
              "\n",
              "      <script>\n",
              "        const buttonEl =\n",
              "          document.querySelector('#df-990f0bff-518b-456c-81f4-a5fe90a355cc button.colab-df-convert');\n",
              "        buttonEl.style.display =\n",
              "          google.colab.kernel.accessAllowed ? 'block' : 'none';\n",
              "\n",
              "        async function convertToInteractive(key) {\n",
              "          const element = document.querySelector('#df-990f0bff-518b-456c-81f4-a5fe90a355cc');\n",
              "          const dataTable =\n",
              "            await google.colab.kernel.invokeFunction('convertToInteractive',\n",
              "                                                     [key], {});\n",
              "          if (!dataTable) return;\n",
              "\n",
              "          const docLinkHtml = 'Like what you see? Visit the ' +\n",
              "            '<a target=\"_blank\" href=https://colab.research.google.com/notebooks/data_table.ipynb>data table notebook</a>'\n",
              "            + ' to learn more about interactive tables.';\n",
              "          element.innerHTML = '';\n",
              "          dataTable['output_type'] = 'display_data';\n",
              "          await google.colab.output.renderOutput(dataTable, element);\n",
              "          const docLink = document.createElement('div');\n",
              "          docLink.innerHTML = docLinkHtml;\n",
              "          element.appendChild(docLink);\n",
              "        }\n",
              "      </script>\n",
              "    </div>\n",
              "  </div>\n",
              "  "
            ]
          },
          "metadata": {},
          "execution_count": 34
        }
      ]
    },
    {
      "cell_type": "code",
      "source": [
        "def subset_income(test_features,test_target, split):\n",
        "  # pretty sure i coudl have done minus indx below and been shorter, oh well\n",
        "  # X test of only > 5 income \n",
        "  if split == 5: \n",
        "\n",
        "    # X test of only <= 5 income \n",
        "    features_high = test_features[(test_features[\"income6\"] == 1.0) | (test_features[\"income7\"] == 1.0) | (test_features[\"income8\"] == 1.0)]\n",
        "    high_indx = features_high.index\n",
        "    features_low = test_features[~test_features.index.isin(high_indx)]\n",
        "\n",
        "    # y test of only same subsets above\n",
        "    y_test_high = test_target[y_test.index.isin(high_indx)]\n",
        "    y_test_low = test_target[~y_test.index.isin(high_indx)]\n",
        "\n",
        "  elif split == 6: \n",
        "    # X test of only <= 6 income \n",
        "    features_high = test_features[(test_features[\"income7\"] == 1.0) | (test_features[\"income8\"] == 1.0)]\n",
        "    high_indx = features_high.index\n",
        "    features_low = test_features[~test_features.index.isin(high_indx)]\n",
        "\n",
        "    # y test of only same subsets above\n",
        "    y_test_high = test_target[test_target.index.isin(high_indx)]\n",
        "    y_test_low = test_target[~test_target.index.isin(high_indx)]\n",
        "\n",
        "  return(features_high, features_low, y_test_high, y_test_low)\n"
      ],
      "metadata": {
        "id": "3s2p0tanYOrp"
      },
      "execution_count": null,
      "outputs": []
    },
    {
      "cell_type": "code",
      "source": [
        "features_high,features_low, y_test_high, y_test_low = subset_income(X_test,y_test,5)\n",
        "\n",
        "# check sizes of datasets, why are these os small\n",
        "print(features_high.shape,features_low.shape,y_test_high.shape, y_test_low.shape)"
      ],
      "metadata": {
        "id": "yPucLfkYZrRM",
        "colab": {
          "base_uri": "https://localhost:8080/"
        },
        "outputId": "9e14a0b9-3183-4d7f-9c55-8ec05917112a"
      },
      "execution_count": null,
      "outputs": [
        {
          "output_type": "stream",
          "name": "stdout",
          "text": [
            "(33831, 45) (16905, 45) (33831, 2) (16905, 2)\n"
          ]
        }
      ]
    },
    {
      "cell_type": "code",
      "source": [
        "# predict probabilities for high income\n",
        "y_proba_high = new_model.predict(features_high)\n",
        "y_pred_high = y_proba_high.argmax(axis = 1) # want 0,1 vector\n",
        "\n",
        "\n",
        "\n",
        "\n",
        "y_test_lab_high = diabetes.iloc[y_test_high.index, :]['Diabetes_012']\n",
        "y_test_lab_high # need to change labels to be 0,1 instead of 1,2 currently\n",
        "y_test_lab_high[y_test_lab_high == 1] = 0\n",
        "y_test_lab_high[y_test_lab_high == 2] = 1\n",
        "print(y_test_lab_high.value_counts())\n",
        "\n",
        "\n",
        "# create accuracy table \n",
        "#importing confusion matrix\n",
        "confusion = confusion_matrix(y_test_lab_high, y_pred_high)\n",
        "print('Confusion Matrix\\n')\n",
        "print(confusion)\n",
        "\n",
        "cmd = ConfusionMatrixDisplay(confusion, display_labels=['Not Diabetes','Diabetic'])\n",
        "cmd.plot()\n",
        "\n",
        "\n",
        "#importing accuracy_score, precision_score, recall_score, f1_score\n",
        "print('\\nAccuracy: {:.3f}\\n'.format(accuracy_score(y_test_lab_high, y_pred_high)))\n"
      ],
      "metadata": {
        "colab": {
          "base_uri": "https://localhost:8080/",
          "height": 635
        },
        "id": "GWm9pxTNhrzM",
        "outputId": "341c81f2-e829-476e-abc6-f360badec6a7"
      },
      "execution_count": null,
      "outputs": [
        {
          "output_type": "stream",
          "name": "stderr",
          "text": [
            "/usr/local/lib/python3.7/dist-packages/pandas/core/generic.py:8870: SettingWithCopyWarning: \n",
            "A value is trying to be set on a copy of a slice from a DataFrame\n",
            "\n",
            "See the caveats in the documentation: https://pandas.pydata.org/pandas-docs/stable/user_guide/indexing.html#returning-a-view-versus-a-copy\n",
            "  return self._update_inplace(result)\n",
            "/usr/local/lib/python3.7/dist-packages/pandas/core/series.py:1056: SettingWithCopyWarning: \n",
            "A value is trying to be set on a copy of a slice from a DataFrame\n",
            "\n",
            "See the caveats in the documentation: https://pandas.pydata.org/pandas-docs/stable/user_guide/indexing.html#returning-a-view-versus-a-copy\n",
            "  cacher_needs_updating = self._check_is_chained_assignment_possible()\n"
          ]
        },
        {
          "output_type": "stream",
          "name": "stdout",
          "text": [
            "0.0    30278\n",
            "1.0     3553\n",
            "Name: Diabetes_012, dtype: int64\n",
            "Confusion Matrix\n",
            "\n",
            "[[30111   167]\n",
            " [ 3279   274]]\n",
            "\n",
            "Accuracy: 0.898\n",
            "\n"
          ]
        },
        {
          "output_type": "display_data",
          "data": {
            "text/plain": [
              "<Figure size 432x288 with 2 Axes>"
            ],
            "image/png": "[encoded data removed]"
          },
          "metadata": {}
        }
      ]
    },
    {
      "cell_type": "code",
      "source": [
        "# predict probabilities for low income\n",
        "y_proba_low = new_model.predict(features_low)\n",
        "y_pred_low = y_proba_low.argmax(axis = 1) # want 0,1,2 vector\n",
        "\n",
        "y_test_lab_low = diabetes.iloc[y_test_low.index, :]['Diabetes_012']\n",
        "y_test_lab_low # need to change labels to be 0,1 instead of 1,2 currently\n",
        "y_test_lab_low[y_test_lab_low == 1] = 0\n",
        "y_test_lab_low[y_test_lab_low == 2] = 1\n",
        "\n",
        "\n",
        "# create accuracy table \n",
        "#importing confusion matrix\n",
        "confusion = confusion_matrix(y_test_lab_low, y_pred_low)\n",
        "print('Confusion Matrix\\n')\n",
        "print(confusion)\n",
        "\n",
        "cmd = ConfusionMatrixDisplay(confusion, display_labels=['Not Diabetes','Diabetic'])\n",
        "cmd.plot()\n",
        "\n",
        "#importing accuracy_score, precision_score, recall_score, f1_score\n",
        "print('\\nAccuracy: {:.3f}\\n'.format(accuracy_score(y_test_lab_low, y_pred_low)))"
      ],
      "metadata": {
        "colab": {
          "base_uri": "https://localhost:8080/",
          "height": 580
        },
        "id": "wFy-ujUTmM9U",
        "outputId": "e074c3e9-a987-4de9-a78e-763ad018b49c"
      },
      "execution_count": null,
      "outputs": [
        {
          "output_type": "stream",
          "name": "stderr",
          "text": [
            "/usr/local/lib/python3.7/dist-packages/pandas/core/generic.py:8870: SettingWithCopyWarning: \n",
            "A value is trying to be set on a copy of a slice from a DataFrame\n",
            "\n",
            "See the caveats in the documentation: https://pandas.pydata.org/pandas-docs/stable/user_guide/indexing.html#returning-a-view-versus-a-copy\n",
            "  return self._update_inplace(result)\n",
            "/usr/local/lib/python3.7/dist-packages/pandas/core/series.py:1056: SettingWithCopyWarning: \n",
            "A value is trying to be set on a copy of a slice from a DataFrame\n",
            "\n",
            "See the caveats in the documentation: https://pandas.pydata.org/pandas-docs/stable/user_guide/indexing.html#returning-a-view-versus-a-copy\n",
            "  cacher_needs_updating = self._check_is_chained_assignment_possible()\n"
          ]
        },
        {
          "output_type": "stream",
          "name": "stdout",
          "text": [
            "Confusion Matrix\n",
            "\n",
            "[[12658   703]\n",
            " [ 2714   830]]\n",
            "\n",
            "Accuracy: 0.798\n",
            "\n"
          ]
        },
        {
          "output_type": "display_data",
          "data": {
            "text/plain": [
              "<Figure size 432x288 with 2 Axes>"
            ],
            "image/png": "[encoded data removed]"
          },
          "metadata": {}
        }
      ]
    },
    {
      "cell_type": "markdown",
      "source": [
        "##2. Education"
      ],
      "metadata": {
        "id": "Xu6Q3ZAMmxml"
      }
    },
    {
      "cell_type": "code",
      "source": [
        "# 4 is education of high school grad, so split at 4\n",
        "print(diabetes['Education'].value_counts())\n",
        "\n",
        "# X test of only <= 4 education \n",
        "features_high_edu = X_test[(X_test[\"education5\"] == 1.0) | (X_test[\"education6\"] == 1.0)]\n",
        "high_edu_indx = features_high_edu.index\n",
        "features_low_edu = X_test[~X_test.index.isin(high_edu_indx)]\n",
        "\n",
        "\n",
        "# y test of only same subsets above\n",
        "y_test_high = y_test[y_test.index.isin(high_edu_indx)]\n",
        "y_test_low = y_test[~y_test.index.isin(high_edu_indx)]\n",
        "\n",
        "print(features_high_edu.shape, y_test_high.shape, features_low_edu.shape, y_test_low.shape)\n"
      ],
      "metadata": {
        "colab": {
          "base_uri": "https://localhost:8080/"
        },
        "id": "ab0YvRZbDkkL",
        "outputId": "c7d9eca6-cb15-4629-902b-50c9ba719cfb"
      },
      "execution_count": null,
      "outputs": [
        {
          "output_type": "stream",
          "name": "stdout",
          "text": [
            "6.0    107325\n",
            "5.0     69910\n",
            "4.0     62750\n",
            "3.0      9478\n",
            "2.0      4043\n",
            "1.0       174\n",
            "Name: Education, dtype: int64\n",
            "(35466, 45) (35466, 2) (15270, 45) (15270, 2)\n"
          ]
        }
      ]
    },
    {
      "cell_type": "code",
      "source": [
        "# predict probabilities for high education\n",
        "y_proba_high = new_model.predict(features_high_edu)\n",
        "y_pred_high = y_proba_high.argmax(axis = 1) # want 0,1 vector\n",
        "y_pred_high.shape\n",
        "\n",
        "y_test_lab_high = diabetes.iloc[y_test_high.index, :]['Diabetes_012']\n",
        "y_test_lab_high # need to change labels to be 0,1 instead of 1,2 currently\n",
        "y_test_lab_high[y_test_lab_high == 1] = 0\n",
        "y_test_lab_high[y_test_lab_high == 2] = 1\n",
        "print(y_test_lab_high.value_counts())\n",
        "\n",
        "\n",
        "# create accuracy table \n",
        "#importing confusion matrix\n",
        "confusion = confusion_matrix(y_test_lab_high, y_pred_high)\n",
        "print('Confusion Matrix\\n')\n",
        "print(confusion)\n",
        "\n",
        "cmd = ConfusionMatrixDisplay(confusion, display_labels=['Not Diabetes','Diabetic'])\n",
        "cmd.plot()\n",
        "\n",
        "\n",
        "#importing accuracy_score, precision_score, recall_score, f1_score\n",
        "print('\\nAccuracy: {:.3f}\\n'.format(accuracy_score(y_test_lab_high, y_pred_high)))\n"
      ],
      "metadata": {
        "colab": {
          "base_uri": "https://localhost:8080/",
          "height": 632
        },
        "id": "Xib9iF2RGu6J",
        "outputId": "2e57acf0-25ad-4b21-b8ed-6c37f3ab4637"
      },
      "execution_count": null,
      "outputs": [
        {
          "output_type": "stream",
          "name": "stderr",
          "text": [
            "/usr/local/lib/python3.7/dist-packages/pandas/core/generic.py:8870: SettingWithCopyWarning: \n",
            "A value is trying to be set on a copy of a slice from a DataFrame\n",
            "\n",
            "See the caveats in the documentation: https://pandas.pydata.org/pandas-docs/stable/user_guide/indexing.html#returning-a-view-versus-a-copy\n",
            "  return self._update_inplace(result)\n",
            "/usr/local/lib/python3.7/dist-packages/pandas/core/series.py:1056: SettingWithCopyWarning: \n",
            "A value is trying to be set on a copy of a slice from a DataFrame\n",
            "\n",
            "See the caveats in the documentation: https://pandas.pydata.org/pandas-docs/stable/user_guide/indexing.html#returning-a-view-versus-a-copy\n",
            "  cacher_needs_updating = self._check_is_chained_assignment_possible()\n"
          ]
        },
        {
          "output_type": "stream",
          "name": "stdout",
          "text": [
            "0.0    31361\n",
            "1.0     4105\n",
            "Name: Diabetes_012, dtype: int64\n",
            "Confusion Matrix\n",
            "\n",
            "[[30953   408]\n",
            " [ 3595   510]]\n",
            "\n",
            "Accuracy: 0.887\n",
            "\n"
          ]
        },
        {
          "output_type": "display_data",
          "data": {
            "text/plain": [
              "<Figure size 432x288 with 2 Axes>"
            ],
            "image/png": "[encoded data removed]"
          },
          "metadata": {}
        }
      ]
    },
    {
      "cell_type": "code",
      "source": [
        "# predict probabilities for high education\n",
        "y_proba_low = new_model.predict(features_low_edu)\n",
        "y_pred_low = y_proba_low.argmax(axis = 1) # want 0,1 vector\n",
        "\n",
        "y_test_lab_low = diabetes.iloc[y_test_low.index, :]['Diabetes_012']\n",
        "y_test_lab_low # need to change labels to be 0,1 instead of 1,2 currently\n",
        "y_test_lab_low[y_test_lab_low == 1] = 0\n",
        "y_test_lab_low[y_test_lab_low == 2] = 1\n",
        "print(y_test_lab_low.value_counts())\n",
        "\n",
        "\n",
        "# create accuracy table \n",
        "#importing confusion matrix\n",
        "confusion = confusion_matrix(y_test_lab_low, y_pred_low)\n",
        "print('Confusion Matrix\\n')\n",
        "print(confusion)\n",
        "\n",
        "cmd = ConfusionMatrixDisplay(confusion, display_labels=['Not Diabetes','Diabetic'])\n",
        "cmd.plot()\n",
        "\n",
        "\n",
        "#importing accuracy_score, precision_score, recall_score, f1_score\n",
        "print('\\nAccuracy: {:.3f}\\n'.format(accuracy_score(y_test_lab_low, y_pred_low)))"
      ],
      "metadata": {
        "colab": {
          "base_uri": "https://localhost:8080/",
          "height": 632
        },
        "id": "wgj6W0nAL-pX",
        "outputId": "d5dd623d-01d2-40d9-8b6e-87fbcf0d6462"
      },
      "execution_count": null,
      "outputs": [
        {
          "output_type": "stream",
          "name": "stderr",
          "text": [
            "/usr/local/lib/python3.7/dist-packages/pandas/core/generic.py:8870: SettingWithCopyWarning: \n",
            "A value is trying to be set on a copy of a slice from a DataFrame\n",
            "\n",
            "See the caveats in the documentation: https://pandas.pydata.org/pandas-docs/stable/user_guide/indexing.html#returning-a-view-versus-a-copy\n",
            "  return self._update_inplace(result)\n",
            "/usr/local/lib/python3.7/dist-packages/pandas/core/series.py:1056: SettingWithCopyWarning: \n",
            "A value is trying to be set on a copy of a slice from a DataFrame\n",
            "\n",
            "See the caveats in the documentation: https://pandas.pydata.org/pandas-docs/stable/user_guide/indexing.html#returning-a-view-versus-a-copy\n",
            "  cacher_needs_updating = self._check_is_chained_assignment_possible()\n"
          ]
        },
        {
          "output_type": "stream",
          "name": "stdout",
          "text": [
            "0.0    12278\n",
            "1.0     2992\n",
            "Name: Diabetes_012, dtype: int64\n",
            "Confusion Matrix\n",
            "\n",
            "[[11816   462]\n",
            " [ 2398   594]]\n",
            "\n",
            "Accuracy: 0.813\n",
            "\n"
          ]
        },
        {
          "output_type": "display_data",
          "data": {
            "text/plain": [
              "<Figure size 432x288 with 2 Axes>"
            ],
            "image/png": "[encoded data removed]"
          },
          "metadata": {}
        }
      ]
    },
    {
      "cell_type": "markdown",
      "source": [
        "## 3. Age"
      ],
      "metadata": {
        "id": "ZVijgl6XPHaj"
      }
    },
    {
      "cell_type": "code",
      "source": [
        "# split into binary above 8 and below 8 where 8 is 55 to 59 years old\n",
        "print(diabetes['Age'].value_counts())\n",
        "\n",
        "# X test of only <= 4 education \n",
        "features_old = X_test[(X_test[\"age9\"] == 1.0) | (X_test[\"age10\"] == 1.0)| (X_test[\"age11\"] == 1.0)| (X_test[\"age12\"] == 1.0)| (X_test[\"age13\"] == 1.0)]\n",
        "old_index = features_old.index\n",
        "features_young = X_test[~X_test.index.isin(old_index)]\n",
        "\n",
        "\n",
        "# y test of only same subsets above\n",
        "y_test_old = y_test[y_test.index.isin(old_index)]\n",
        "y_test_young = y_test[~y_test.index.isin(old_index)]\n",
        "\n",
        "print(features_old.shape, y_test_old.shape, features_young.shape, y_test_young.shape)\n"
      ],
      "metadata": {
        "colab": {
          "base_uri": "https://localhost:8080/"
        },
        "id": "HvQYRhiHPMIy",
        "outputId": "3c2ee88d-4d5f-4d60-fdd0-7b1f495c96cd"
      },
      "execution_count": null,
      "outputs": [
        {
          "output_type": "stream",
          "name": "stdout",
          "text": [
            "9.0     33244\n",
            "10.0    32194\n",
            "8.0     30832\n",
            "7.0     26314\n",
            "11.0    23533\n",
            "6.0     19819\n",
            "13.0    17363\n",
            "5.0     16157\n",
            "12.0    15980\n",
            "4.0     13823\n",
            "3.0     11123\n",
            "2.0      7598\n",
            "1.0      5700\n",
            "Name: Age, dtype: int64\n",
            "(24579, 45) (24579, 2) (26157, 45) (26157, 2)\n"
          ]
        }
      ]
    },
    {
      "cell_type": "code",
      "source": [
        "# predict probabilities for older\n",
        "y_proba_old = new_model.predict(features_old)\n",
        "y_pred_old = y_proba_old.argmax(axis = 1) # want 0,1 vector\n",
        "y_pred_old.shape\n",
        "\n",
        "y_test_lab_old = diabetes.iloc[y_test_old.index, :]['Diabetes_012']\n",
        "y_test_lab_old # need to change labels to be 0,1 instead of 1,2 currently\n",
        "y_test_lab_old[y_test_lab_old == 1] = 0\n",
        "y_test_lab_old[y_test_lab_old == 2] = 1\n",
        "print(y_test_lab_old.value_counts())\n",
        "\n",
        "\n",
        "# create accuracy table \n",
        "#importing confusion matrix\n",
        "confusion = confusion_matrix(y_test_lab_old, y_pred_old)\n",
        "print('Confusion Matrix\\n')\n",
        "print(confusion)\n",
        "\n",
        "cmd = ConfusionMatrixDisplay(confusion, display_labels=['Not Diabetes','Diabetic'])\n",
        "cmd.plot()\n",
        "\n",
        "\n",
        "#importing accuracy_score, precision_score, recall_score, f1_score\n",
        "print('\\nAccuracy: {:.3f}\\n'.format(accuracy_score(y_test_lab_old, y_pred_old)))\n"
      ],
      "metadata": {
        "colab": {
          "base_uri": "https://localhost:8080/",
          "height": 632
        },
        "id": "EpoTJCLadN-r",
        "outputId": "4809dff2-3270-40c6-c116-e102c7454a42"
      },
      "execution_count": null,
      "outputs": [
        {
          "output_type": "stream",
          "name": "stderr",
          "text": [
            "/usr/local/lib/python3.7/dist-packages/pandas/core/generic.py:8870: SettingWithCopyWarning: \n",
            "A value is trying to be set on a copy of a slice from a DataFrame\n",
            "\n",
            "See the caveats in the documentation: https://pandas.pydata.org/pandas-docs/stable/user_guide/indexing.html#returning-a-view-versus-a-copy\n",
            "  return self._update_inplace(result)\n",
            "/usr/local/lib/python3.7/dist-packages/pandas/core/series.py:1056: SettingWithCopyWarning: \n",
            "A value is trying to be set on a copy of a slice from a DataFrame\n",
            "\n",
            "See the caveats in the documentation: https://pandas.pydata.org/pandas-docs/stable/user_guide/indexing.html#returning-a-view-versus-a-copy\n",
            "  cacher_needs_updating = self._check_is_chained_assignment_possible()\n"
          ]
        },
        {
          "output_type": "stream",
          "name": "stdout",
          "text": [
            "0.0    19726\n",
            "1.0     4853\n",
            "Name: Diabetes_012, dtype: int64\n",
            "Confusion Matrix\n",
            "\n",
            "[[19040   686]\n",
            " [ 3968   885]]\n",
            "\n",
            "Accuracy: 0.811\n",
            "\n"
          ]
        },
        {
          "output_type": "display_data",
          "data": {
            "text/plain": [
              "<Figure size 432x288 with 2 Axes>"
            ],
            "image/png": "[encoded data removed]"
          },
          "metadata": {}
        }
      ]
    },
    {
      "cell_type": "code",
      "source": [
        "# predict probabilities for younger\n",
        "y_proba_young = new_model.predict(features_young)\n",
        "y_pred_young = y_proba_young.argmax(axis = 1) # want 0,1 vector\n",
        "y_pred_young.shape\n",
        "\n",
        "y_test_lab_young = diabetes.iloc[y_test_young.index, :]['Diabetes_012']\n",
        "y_test_lab_young # need to change labels to be 0,1 instead of 1,2 currently\n",
        "y_test_lab_young[y_test_lab_young == 1] = 0\n",
        "y_test_lab_young[y_test_lab_young == 2] = 1\n",
        "print(y_test_lab_young.value_counts())\n",
        "\n",
        "\n",
        "# create accuracy table \n",
        "#importing confusion matrix\n",
        "confusion = confusion_matrix(y_test_lab_young, y_pred_young)\n",
        "print('Confusion Matrix\\n')\n",
        "print(confusion)\n",
        "\n",
        "cmd = ConfusionMatrixDisplay(confusion, display_labels=['Not Diabetes','Diabetic'])\n",
        "cmd.plot()\n",
        "\n",
        "\n",
        "#importing accuracy_score, precision_score, recall_score, f1_score\n",
        "print('\\nAccuracy: {:.3f}\\n'.format(accuracy_score(y_test_lab_young, y_pred_young)))"
      ],
      "metadata": {
        "colab": {
          "base_uri": "https://localhost:8080/",
          "height": 632
        },
        "id": "982nli8cdp6X",
        "outputId": "c8639a3d-fdb0-4580-8448-e953eab8235b"
      },
      "execution_count": null,
      "outputs": [
        {
          "output_type": "stream",
          "name": "stderr",
          "text": [
            "/usr/local/lib/python3.7/dist-packages/pandas/core/generic.py:8870: SettingWithCopyWarning: \n",
            "A value is trying to be set on a copy of a slice from a DataFrame\n",
            "\n",
            "See the caveats in the documentation: https://pandas.pydata.org/pandas-docs/stable/user_guide/indexing.html#returning-a-view-versus-a-copy\n",
            "  return self._update_inplace(result)\n",
            "/usr/local/lib/python3.7/dist-packages/pandas/core/series.py:1056: SettingWithCopyWarning: \n",
            "A value is trying to be set on a copy of a slice from a DataFrame\n",
            "\n",
            "See the caveats in the documentation: https://pandas.pydata.org/pandas-docs/stable/user_guide/indexing.html#returning-a-view-versus-a-copy\n",
            "  cacher_needs_updating = self._check_is_chained_assignment_possible()\n"
          ]
        },
        {
          "output_type": "stream",
          "name": "stdout",
          "text": [
            "0.0    23913\n",
            "1.0     2244\n",
            "Name: Diabetes_012, dtype: int64\n",
            "Confusion Matrix\n",
            "\n",
            "[[23729   184]\n",
            " [ 2025   219]]\n",
            "\n",
            "Accuracy: 0.916\n",
            "\n"
          ]
        },
        {
          "output_type": "display_data",
          "data": {
            "text/plain": [
              "<Figure size 432x288 with 2 Axes>"
            ],
            "image/png": "[encoded data removed]"
          },
          "metadata": {}
        }
      ]
    },
    {
      "cell_type": "code",
      "source": [
        "## 4. Gender\n",
        "\n",
        "# 0 female, 1 is male\n",
        "print(diabetes['Sex'].value_counts())\n",
        "\n",
        "# X test split\n",
        "features_female = X_test[(X_test[\"Sex\"] == 0.0)]\n",
        "female_index = features_female.index\n",
        "features_male = X_test[~X_test.index.isin(female_index)]\n",
        "\n",
        "\n",
        "# y test of only same subsets above\n",
        "y_test_female = y_test[y_test.index.isin(female_index)]\n",
        "y_test_male = y_test[~y_test.index.isin(female_index)]\n",
        "\n",
        "print(features_female.shape, y_test_female.shape, features_male.shape, y_test_male.shape)"
      ],
      "metadata": {
        "colab": {
          "base_uri": "https://localhost:8080/"
        },
        "id": "880jwP4seRYL",
        "outputId": "3ecd8401-e9d0-4fe2-f712-d477bbba882a"
      },
      "execution_count": null,
      "outputs": [
        {
          "output_type": "stream",
          "name": "stdout",
          "text": [
            "0.0    141974\n",
            "1.0    111706\n",
            "Name: Sex, dtype: int64\n",
            "(28463, 45) (28463, 2) (22273, 45) (22273, 2)\n"
          ]
        }
      ]
    },
    {
      "cell_type": "code",
      "source": [
        "# predict probabilities for female\n",
        "y_proba_female = new_model.predict(features_female)\n",
        "y_pred_female = y_proba_female.argmax(axis = 1) # want 0,1 vector\n",
        "y_pred_female.shape\n",
        "\n",
        "y_test_lab_female = diabetes.iloc[y_test_female.index, :]['Diabetes_012']\n",
        "y_test_lab_female # need to change labels to be 0,1 instead of 1,2 currently\n",
        "y_test_lab_female[y_test_lab_female == 1] = 0\n",
        "y_test_lab_female[y_test_lab_female == 2] = 1\n",
        "print(y_test_lab_female.value_counts())\n",
        "\n",
        "\n",
        "# create accuracy table \n",
        "#importing confusion matrix\n",
        "confusion = confusion_matrix(y_test_lab_female, y_pred_female)\n",
        "print('Confusion Matrix\\n')\n",
        "print(confusion)\n",
        "\n",
        "cmd = ConfusionMatrixDisplay(confusion, display_labels=['Not Diabetes','Diabetic'])\n",
        "cmd.plot()\n",
        "\n",
        "\n",
        "#importing accuracy_score, precision_score, recall_score, f1_score\n",
        "print('\\nAccuracy: {:.3f}\\n'.format(accuracy_score(y_test_lab_female, y_pred_female)))\n"
      ],
      "metadata": {
        "colab": {
          "base_uri": "https://localhost:8080/",
          "height": 632
        },
        "id": "dvzh9Hp6o6_n",
        "outputId": "4977cbdd-06e7-46c0-c14b-5135a49b28b7"
      },
      "execution_count": null,
      "outputs": [
        {
          "output_type": "stream",
          "name": "stderr",
          "text": [
            "/usr/local/lib/python3.7/dist-packages/pandas/core/generic.py:8870: SettingWithCopyWarning: \n",
            "A value is trying to be set on a copy of a slice from a DataFrame\n",
            "\n",
            "See the caveats in the documentation: https://pandas.pydata.org/pandas-docs/stable/user_guide/indexing.html#returning-a-view-versus-a-copy\n",
            "  return self._update_inplace(result)\n",
            "/usr/local/lib/python3.7/dist-packages/pandas/core/series.py:1056: SettingWithCopyWarning: \n",
            "A value is trying to be set on a copy of a slice from a DataFrame\n",
            "\n",
            "See the caveats in the documentation: https://pandas.pydata.org/pandas-docs/stable/user_guide/indexing.html#returning-a-view-versus-a-copy\n",
            "  cacher_needs_updating = self._check_is_chained_assignment_possible()\n"
          ]
        },
        {
          "output_type": "stream",
          "name": "stdout",
          "text": [
            "0.0    24784\n",
            "1.0     3679\n",
            "Name: Diabetes_012, dtype: int64\n",
            "Confusion Matrix\n",
            "\n",
            "[[24208   576]\n",
            " [ 3042   637]]\n",
            "\n",
            "Accuracy: 0.873\n",
            "\n"
          ]
        },
        {
          "output_type": "display_data",
          "data": {
            "text/plain": [
              "<Figure size 432x288 with 2 Axes>"
            ],
            "image/png": "[encoded data removed]"
          },
          "metadata": {}
        }
      ]
    },
    {
      "cell_type": "code",
      "source": [
        "# predict probabilities for male\n",
        "y_proba_male = new_model.predict(features_male)\n",
        "y_pred_male = y_proba_male.argmax(axis = 1) # want 0,1 vector\n",
        "y_pred_male.shape\n",
        "\n",
        "y_test_lab_male = diabetes.iloc[y_test_male.index, :]['Diabetes_012']\n",
        "y_test_lab_male # need to change labels to be 0,1 instead of 1,2 currently\n",
        "y_test_lab_male[y_test_lab_male == 1] = 0\n",
        "y_test_lab_male[y_test_lab_male == 2] = 1\n",
        "print(y_test_lab_male.value_counts())\n",
        "\n",
        "\n",
        "# create accuracy table \n",
        "#importing confusion matrix\n",
        "confusion = confusion_matrix(y_test_lab_male, y_pred_male)\n",
        "print('Confusion Matrix\\n')\n",
        "print(confusion)\n",
        "\n",
        "cmd = ConfusionMatrixDisplay(confusion, display_labels=['Not Diabetes','Diabetic'])\n",
        "cmd.plot()\n",
        "\n",
        "\n",
        "#importing accuracy_score, precision_score, recall_score, f1_score\n",
        "print('\\nAccuracy: {:.3f}\\n'.format(accuracy_score(y_test_lab_male, y_pred_male)))"
      ],
      "metadata": {
        "colab": {
          "base_uri": "https://localhost:8080/",
          "height": 632
        },
        "id": "wl9XoKj2qWGZ",
        "outputId": "ebcc6e72-658b-43cb-8568-20dd4f2e4ea7"
      },
      "execution_count": null,
      "outputs": [
        {
          "output_type": "stream",
          "name": "stderr",
          "text": [
            "/usr/local/lib/python3.7/dist-packages/pandas/core/generic.py:8870: SettingWithCopyWarning: \n",
            "A value is trying to be set on a copy of a slice from a DataFrame\n",
            "\n",
            "See the caveats in the documentation: https://pandas.pydata.org/pandas-docs/stable/user_guide/indexing.html#returning-a-view-versus-a-copy\n",
            "  return self._update_inplace(result)\n",
            "/usr/local/lib/python3.7/dist-packages/pandas/core/series.py:1056: SettingWithCopyWarning: \n",
            "A value is trying to be set on a copy of a slice from a DataFrame\n",
            "\n",
            "See the caveats in the documentation: https://pandas.pydata.org/pandas-docs/stable/user_guide/indexing.html#returning-a-view-versus-a-copy\n",
            "  cacher_needs_updating = self._check_is_chained_assignment_possible()\n"
          ]
        },
        {
          "output_type": "stream",
          "name": "stdout",
          "text": [
            "0.0    18855\n",
            "1.0     3418\n",
            "Name: Diabetes_012, dtype: int64\n",
            "Confusion Matrix\n",
            "\n",
            "[[18561   294]\n",
            " [ 2951   467]]\n",
            "\n",
            "Accuracy: 0.854\n",
            "\n"
          ]
        },
        {
          "output_type": "display_data",
          "data": {
            "text/plain": [
              "<Figure size 432x288 with 2 Axes>"
            ],
            "image/png": "[encoded data removed]"
          },
          "metadata": {}
        }
      ]
    },
    {
      "cell_type": "code",
      "source": [
        "## LIME? "
      ],
      "metadata": {
        "id": "iFIhKGzueT6M"
      },
      "execution_count": null,
      "outputs": []
    }
  ]
}