{
  "nbformat": 4,
  "nbformat_minor": 0,
  "metadata": {
    "colab": {
      "name": "neuralnetwork_263.ipynb",
      "provenance": [],
      "collapsed_sections": []
    },
    "kernelspec": {
      "name": "python3",
      "display_name": "Python 3"
    },
    "language_info": {
      "name": "python"
    }
  },
  "cells": [
    {
      "cell_type": "code",
      "execution_count": 4,
      "metadata": {
        "colab": {
          "base_uri": "https://localhost:8080/"
        },
        "id": "rZIMc6RlOliE",
        "outputId": "a1b02f5b-275f-42d3-cf3c-fdc7103842c2"
      },
      "outputs": [
        {
          "output_type": "stream",
          "name": "stdout",
          "text": [
            "Requirement already satisfied: category_encoders in /usr/local/lib/python3.7/dist-packages (2.4.0)\n",
            "Requirement already satisfied: numpy>=1.14.0 in /usr/local/lib/python3.7/dist-packages (from category_encoders) (1.21.5)\n",
            "Requirement already satisfied: statsmodels>=0.9.0 in /usr/local/lib/python3.7/dist-packages (from category_encoders) (0.10.2)\n",
            "Requirement already satisfied: scipy>=1.0.0 in /usr/local/lib/python3.7/dist-packages (from category_encoders) (1.4.1)\n",
            "Requirement already satisfied: scikit-learn>=0.20.0 in /usr/local/lib/python3.7/dist-packages (from category_encoders) (1.0.2)\n",
            "Requirement already satisfied: pandas>=0.21.1 in /usr/local/lib/python3.7/dist-packages (from category_encoders) (1.3.5)\n",
            "Requirement already satisfied: patsy>=0.5.1 in /usr/local/lib/python3.7/dist-packages (from category_encoders) (0.5.2)\n",
            "Requirement already satisfied: python-dateutil>=2.7.3 in /usr/local/lib/python3.7/dist-packages (from pandas>=0.21.1->category_encoders) (2.8.2)\n",
            "Requirement already satisfied: pytz>=2017.3 in /usr/local/lib/python3.7/dist-packages (from pandas>=0.21.1->category_encoders) (2018.9)\n",
            "Requirement already satisfied: six in /usr/local/lib/python3.7/dist-packages (from patsy>=0.5.1->category_encoders) (1.15.0)\n",
            "Requirement already satisfied: joblib>=0.11 in /usr/local/lib/python3.7/dist-packages (from scikit-learn>=0.20.0->category_encoders) (1.1.0)\n",
            "Requirement already satisfied: threadpoolctl>=2.0.0 in /usr/local/lib/python3.7/dist-packages (from scikit-learn>=0.20.0->category_encoders) (3.1.0)\n"
          ]
        }
      ],
      "source": [
        "import os\n",
        "import pandas as pd\n",
        "import numpy as np\n",
        "import random\n",
        "import matplotlib.pyplot as plt\n",
        "from sklearn import preprocessing\n",
        "from scipy import stats\n",
        "from scipy.stats import zscore\n",
        "from math import radians, cos, sin, asin, sqrt\n",
        "import pydot\n",
        "import seaborn as sns\n",
        "import keras\n",
        "import tensorflow as tf\n",
        "from tensorflow.keras import backend as K\n",
        "from tensorflow.keras import datasets, layers, models\n",
        "import os, shutil\n",
        "from sklearn.preprocessing import OneHotEncoder\n",
        "from sklearn.model_selection import train_test_split\n",
        "!pip install category_encoders\n",
        "import category_encoders as ce\n",
        "from sklearn.metrics import confusion_matrix\n",
        "from sklearn.metrics import accuracy_score, precision_score, recall_score, f1_score\n",
        "from sklearn.metrics import classification_report"
      ]
    },
    {
      "cell_type": "code",
      "source": [
        "# load in data \n",
        "url = 'https://raw.githubusercontent.com/rindalafayyad17/263-Project/main/diabetes_012_health_indicators_BRFSS2015.csv'\n",
        "diabetes = pd.read_csv(url)\n"
      ],
      "metadata": {
        "id": "3guvcIgbOmkk"
      },
      "execution_count": 5,
      "outputs": []
    },
    {
      "cell_type": "code",
      "source": [
        "diabetes.shape"
      ],
      "metadata": {
        "colab": {
          "base_uri": "https://localhost:8080/"
        },
        "id": "WpybOz6jPJNq",
        "outputId": "da28052a-2fc2-45f9-a597-737f120b56ce"
      },
      "execution_count": 6,
      "outputs": [
        {
          "output_type": "execute_result",
          "data": {
            "text/plain": [
              "(253680, 22)"
            ]
          },
          "metadata": {},
          "execution_count": 6
        }
      ]
    },
    {
      "cell_type": "code",
      "source": [
        "diabetes['Diabetes_012'].value_counts()"
      ],
      "metadata": {
        "colab": {
          "base_uri": "https://localhost:8080/"
        },
        "id": "orwHtmWmhTAr",
        "outputId": "daf73616-4a61-482f-97e5-824fd60f8713"
      },
      "execution_count": 7,
      "outputs": [
        {
          "output_type": "execute_result",
          "data": {
            "text/plain": [
              "0.0    213703\n",
              "2.0     35346\n",
              "1.0      4631\n",
              "Name: Diabetes_012, dtype: int64"
            ]
          },
          "metadata": {},
          "execution_count": 7
        }
      ]
    },
    {
      "cell_type": "code",
      "source": [
        "diabetes.head()\n"
      ],
      "metadata": {
        "colab": {
          "base_uri": "https://localhost:8080/",
          "height": 236
        },
        "id": "iYmraV_zPOCh",
        "outputId": "98f4b92f-c45b-4cda-e53a-d17266341010"
      },
      "execution_count": 8,
      "outputs": [
        {
          "output_type": "execute_result",
          "data": {
            "text/plain": [
              "   Diabetes_012  HighBP  HighChol  CholCheck   BMI  Smoker  Stroke  \\\n",
              "0           0.0     1.0       1.0        1.0  40.0     1.0     0.0   \n",
              "1           0.0     0.0       0.0        0.0  25.0     1.0     0.0   \n",
              "2           0.0     1.0       1.0        1.0  28.0     0.0     0.0   \n",
              "3           0.0     1.0       0.0        1.0  27.0     0.0     0.0   \n",
              "4           0.0     1.0       1.0        1.0  24.0     0.0     0.0   \n",
              "\n",
              "   HeartDiseaseorAttack  PhysActivity  Fruits  ...  AnyHealthcare  \\\n",
              "0                   0.0           0.0     0.0  ...            1.0   \n",
              "1                   0.0           1.0     0.0  ...            0.0   \n",
              "2                   0.0           0.0     1.0  ...            1.0   \n",
              "3                   0.0           1.0     1.0  ...            1.0   \n",
              "4                   0.0           1.0     1.0  ...            1.0   \n",
              "\n",
              "   NoDocbcCost  GenHlth  MentHlth  PhysHlth  DiffWalk  Sex   Age  Education  \\\n",
              "0          0.0      5.0      18.0      15.0       1.0  0.0   9.0        4.0   \n",
              "1          1.0      3.0       0.0       0.0       0.0  0.0   7.0        6.0   \n",
              "2          1.0      5.0      30.0      30.0       1.0  0.0   9.0        4.0   \n",
              "3          0.0      2.0       0.0       0.0       0.0  0.0  11.0        3.0   \n",
              "4          0.0      2.0       3.0       0.0       0.0  0.0  11.0        5.0   \n",
              "\n",
              "   Income  \n",
              "0     3.0  \n",
              "1     1.0  \n",
              "2     8.0  \n",
              "3     6.0  \n",
              "4     4.0  \n",
              "\n",
              "[5 rows x 22 columns]"
            ],
            "text/html": [
              "\n",
              "  <div id=\"df-3fde4fa2-61ef-44ad-a558-26ce473f13fa\">\n",
              "    <div class=\"colab-df-container\">\n",
              "      <div>\n",
              "<style scoped>\n",
              "    .dataframe tbody tr th:only-of-type {\n",
              "        vertical-align: middle;\n",
              "    }\n",
              "\n",
              "    .dataframe tbody tr th {\n",
              "        vertical-align: top;\n",
              "    }\n",
              "\n",
              "    .dataframe thead th {\n",
              "        text-align: right;\n",
              "    }\n",
              "</style>\n",
              "<table border=\"1\" class=\"dataframe\">\n",
              "  <thead>\n",
              "    <tr style=\"text-align: right;\">\n",
              "      <th></th>\n",
              "      <th>Diabetes_012</th>\n",
              "      <th>HighBP</th>\n",
              "      <th>HighChol</th>\n",
              "      <th>CholCheck</th>\n",
              "      <th>BMI</th>\n",
              "      <th>Smoker</th>\n",
              "      <th>Stroke</th>\n",
              "      <th>HeartDiseaseorAttack</th>\n",
              "      <th>PhysActivity</th>\n",
              "      <th>Fruits</th>\n",
              "      <th>...</th>\n",
              "      <th>AnyHealthcare</th>\n",
              "      <th>NoDocbcCost</th>\n",
              "      <th>GenHlth</th>\n",
              "      <th>MentHlth</th>\n",
              "      <th>PhysHlth</th>\n",
              "      <th>DiffWalk</th>\n",
              "      <th>Sex</th>\n",
              "      <th>Age</th>\n",
              "      <th>Education</th>\n",
              "      <th>Income</th>\n",
              "    </tr>\n",
              "  </thead>\n",
              "  <tbody>\n",
              "    <tr>\n",
              "      <th>0</th>\n",
              "      <td>0.0</td>\n",
              "      <td>1.0</td>\n",
              "      <td>1.0</td>\n",
              "      <td>1.0</td>\n",
              "      <td>40.0</td>\n",
              "      <td>1.0</td>\n",
              "      <td>0.0</td>\n",
              "      <td>0.0</td>\n",
              "      <td>0.0</td>\n",
              "      <td>0.0</td>\n",
              "      <td>...</td>\n",
              "      <td>1.0</td>\n",
              "      <td>0.0</td>\n",
              "      <td>5.0</td>\n",
              "      <td>18.0</td>\n",
              "      <td>15.0</td>\n",
              "      <td>1.0</td>\n",
              "      <td>0.0</td>\n",
              "      <td>9.0</td>\n",
              "      <td>4.0</td>\n",
              "      <td>3.0</td>\n",
              "    </tr>\n",
              "    <tr>\n",
              "      <th>1</th>\n",
              "      <td>0.0</td>\n",
              "      <td>0.0</td>\n",
              "      <td>0.0</td>\n",
              "      <td>0.0</td>\n",
              "      <td>25.0</td>\n",
              "      <td>1.0</td>\n",
              "      <td>0.0</td>\n",
              "      <td>0.0</td>\n",
              "      <td>1.0</td>\n",
              "      <td>0.0</td>\n",
              "      <td>...</td>\n",
              "      <td>0.0</td>\n",
              "      <td>1.0</td>\n",
              "      <td>3.0</td>\n",
              "      <td>0.0</td>\n",
              "      <td>0.0</td>\n",
              "      <td>0.0</td>\n",
              "      <td>0.0</td>\n",
              "      <td>7.0</td>\n",
              "      <td>6.0</td>\n",
              "      <td>1.0</td>\n",
              "    </tr>\n",
              "    <tr>\n",
              "      <th>2</th>\n",
              "      <td>0.0</td>\n",
              "      <td>1.0</td>\n",
              "      <td>1.0</td>\n",
              "      <td>1.0</td>\n",
              "      <td>28.0</td>\n",
              "      <td>0.0</td>\n",
              "      <td>0.0</td>\n",
              "      <td>0.0</td>\n",
              "      <td>0.0</td>\n",
              "      <td>1.0</td>\n",
              "      <td>...</td>\n",
              "      <td>1.0</td>\n",
              "      <td>1.0</td>\n",
              "      <td>5.0</td>\n",
              "      <td>30.0</td>\n",
              "      <td>30.0</td>\n",
              "      <td>1.0</td>\n",
              "      <td>0.0</td>\n",
              "      <td>9.0</td>\n",
              "      <td>4.0</td>\n",
              "      <td>8.0</td>\n",
              "    </tr>\n",
              "    <tr>\n",
              "      <th>3</th>\n",
              "      <td>0.0</td>\n",
              "      <td>1.0</td>\n",
              "      <td>0.0</td>\n",
              "      <td>1.0</td>\n",
              "      <td>27.0</td>\n",
              "      <td>0.0</td>\n",
              "      <td>0.0</td>\n",
              "      <td>0.0</td>\n",
              "      <td>1.0</td>\n",
              "      <td>1.0</td>\n",
              "      <td>...</td>\n",
              "      <td>1.0</td>\n",
              "      <td>0.0</td>\n",
              "      <td>2.0</td>\n",
              "      <td>0.0</td>\n",
              "      <td>0.0</td>\n",
              "      <td>0.0</td>\n",
              "      <td>0.0</td>\n",
              "      <td>11.0</td>\n",
              "      <td>3.0</td>\n",
              "      <td>6.0</td>\n",
              "    </tr>\n",
              "    <tr>\n",
              "      <th>4</th>\n",
              "      <td>0.0</td>\n",
              "      <td>1.0</td>\n",
              "      <td>1.0</td>\n",
              "      <td>1.0</td>\n",
              "      <td>24.0</td>\n",
              "      <td>0.0</td>\n",
              "      <td>0.0</td>\n",
              "      <td>0.0</td>\n",
              "      <td>1.0</td>\n",
              "      <td>1.0</td>\n",
              "      <td>...</td>\n",
              "      <td>1.0</td>\n",
              "      <td>0.0</td>\n",
              "      <td>2.0</td>\n",
              "      <td>3.0</td>\n",
              "      <td>0.0</td>\n",
              "      <td>0.0</td>\n",
              "      <td>0.0</td>\n",
              "      <td>11.0</td>\n",
              "      <td>5.0</td>\n",
              "      <td>4.0</td>\n",
              "    </tr>\n",
              "  </tbody>\n",
              "</table>\n",
              "<p>5 rows × 22 columns</p>\n",
              "</div>\n",
              "      <button class=\"colab-df-convert\" onclick=\"convertToInteractive('df-3fde4fa2-61ef-44ad-a558-26ce473f13fa')\"\n",
              "              title=\"Convert this dataframe to an interactive table.\"\n",
              "              style=\"display:none;\">\n",
              "        \n",
              "  <svg xmlns=\"http://www.w3.org/2000/svg\" height=\"24px\"viewBox=\"0 0 24 24\"\n",
              "       width=\"24px\">\n",
              "    <path d=\"M0 0h24v24H0V0z\" fill=\"none\"/>\n",
              "    <path d=\"M18.56 5.44l.94 2.06.94-2.06 2.06-.94-2.06-.94-.94-2.06-.94 2.06-2.06.94zm-11 1L8.5 8.5l.94-2.06 2.06-.94-2.06-.94L8.5 2.5l-.94 2.06-2.06.94zm10 10l.94 2.06.94-2.06 2.06-.94-2.06-.94-.94-2.06-.94 2.06-2.06.94z\"/><path d=\"M17.41 7.96l-1.37-1.37c-.4-.4-.92-.59-1.43-.59-.52 0-1.04.2-1.43.59L10.3 9.45l-7.72 7.72c-.78.78-.78 2.05 0 2.83L4 21.41c.39.39.9.59 1.41.59.51 0 1.02-.2 1.41-.59l7.78-7.78 2.81-2.81c.8-.78.8-2.07 0-2.86zM5.41 20L4 18.59l7.72-7.72 1.47 1.35L5.41 20z\"/>\n",
              "  </svg>\n",
              "      </button>\n",
              "      \n",
              "  <style>\n",
              "    .colab-df-container {\n",
              "      display:flex;\n",
              "      flex-wrap:wrap;\n",
              "      gap: 12px;\n",
              "    }\n",
              "\n",
              "    .colab-df-convert {\n",
              "      background-color: #E8F0FE;\n",
              "      border: none;\n",
              "      border-radius: 50%;\n",
              "      cursor: pointer;\n",
              "      display: none;\n",
              "      fill: #1967D2;\n",
              "      height: 32px;\n",
              "      padding: 0 0 0 0;\n",
              "      width: 32px;\n",
              "    }\n",
              "\n",
              "    .colab-df-convert:hover {\n",
              "      background-color: #E2EBFA;\n",
              "      box-shadow: 0px 1px 2px rgba(60, 64, 67, 0.3), 0px 1px 3px 1px rgba(60, 64, 67, 0.15);\n",
              "      fill: #174EA6;\n",
              "    }\n",
              "\n",
              "    [theme=dark] .colab-df-convert {\n",
              "      background-color: #3B4455;\n",
              "      fill: #D2E3FC;\n",
              "    }\n",
              "\n",
              "    [theme=dark] .colab-df-convert:hover {\n",
              "      background-color: #434B5C;\n",
              "      box-shadow: 0px 1px 3px 1px rgba(0, 0, 0, 0.15);\n",
              "      filter: drop-shadow(0px 1px 2px rgba(0, 0, 0, 0.3));\n",
              "      fill: #FFFFFF;\n",
              "    }\n",
              "  </style>\n",
              "\n",
              "      <script>\n",
              "        const buttonEl =\n",
              "          document.querySelector('#df-3fde4fa2-61ef-44ad-a558-26ce473f13fa button.colab-df-convert');\n",
              "        buttonEl.style.display =\n",
              "          google.colab.kernel.accessAllowed ? 'block' : 'none';\n",
              "\n",
              "        async function convertToInteractive(key) {\n",
              "          const element = document.querySelector('#df-3fde4fa2-61ef-44ad-a558-26ce473f13fa');\n",
              "          const dataTable =\n",
              "            await google.colab.kernel.invokeFunction('convertToInteractive',\n",
              "                                                     [key], {});\n",
              "          if (!dataTable) return;\n",
              "\n",
              "          const docLinkHtml = 'Like what you see? Visit the ' +\n",
              "            '<a target=\"_blank\" href=https://colab.research.google.com/notebooks/data_table.ipynb>data table notebook</a>'\n",
              "            + ' to learn more about interactive tables.';\n",
              "          element.innerHTML = '';\n",
              "          dataTable['output_type'] = 'display_data';\n",
              "          await google.colab.output.renderOutput(dataTable, element);\n",
              "          const docLink = document.createElement('div');\n",
              "          docLink.innerHTML = docLinkHtml;\n",
              "          element.appendChild(docLink);\n",
              "        }\n",
              "      </script>\n",
              "    </div>\n",
              "  </div>\n",
              "  "
            ]
          },
          "metadata": {},
          "execution_count": 8
        }
      ]
    },
    {
      "cell_type": "markdown",
      "source": [
        "We will need several preprocessing steps: \n",
        "\n",
        "0. Remove missing rows. We have tons of data so lets just try to drop any rows with NA values. **Turns out there are no missing values**\n",
        "\n",
        "1. Identify the continuous and catgeorical variables. \n",
        "\n",
        "2. Continuous vairables need to be normalized, that is subtract mean and divide by standard deviation. Look at SCM class notes for assistance as sklearn should have package to do this. '\n",
        "\n",
        "3. Categorical variables will need to be encoded appropriately. \n",
        "\n",
        "Continuous variables: \n",
        "- BMI, MentHlth, PhysHlth\n",
        "\n",
        "\n",
        "Categorical Variables:\n",
        "\n",
        "*Binary:* \n",
        "- HighBp, HighCl, CholCheck, Smoker, Stroke, HeartDiseaseorAttack, PhysActivity, Fruits, Veggies, HvyAlcoholConsumption, AnyHealthcare, NoDocbcCost, GenHlth, DiffWalk, Sex\n",
        "\n",
        "*Ordinal*\n",
        "\n",
        "- Age, Education, Income"
      ],
      "metadata": {
        "id": "iVjfU7SxQvI9"
      }
    },
    {
      "cell_type": "code",
      "source": [
        "#using category encoders instead\n",
        "ce_OHE = ce.OneHotEncoder(cols=['Age','Education', 'Income'])\n",
        "\n",
        "diabetes_final = ce_OHE.fit_transform(diabetes)\n",
        "print(diabetes_final.head())\n",
        "diabetes_final.shape"
      ],
      "metadata": {
        "colab": {
          "base_uri": "https://localhost:8080/"
        },
        "id": "uuz0lPMMn37w",
        "outputId": "181e7565-3b76-43a7-d674-d51c4303b14b"
      },
      "execution_count": 9,
      "outputs": [
        {
          "output_type": "stream",
          "name": "stdout",
          "text": [
            "   Diabetes_012  HighBP  HighChol  CholCheck   BMI  Smoker  Stroke  \\\n",
            "0           0.0     1.0       1.0        1.0  40.0     1.0     0.0   \n",
            "1           0.0     0.0       0.0        0.0  25.0     1.0     0.0   \n",
            "2           0.0     1.0       1.0        1.0  28.0     0.0     0.0   \n",
            "3           0.0     1.0       0.0        1.0  27.0     0.0     0.0   \n",
            "4           0.0     1.0       1.0        1.0  24.0     0.0     0.0   \n",
            "\n",
            "   HeartDiseaseorAttack  PhysActivity  Fruits  ...  Education_5  Education_6  \\\n",
            "0                   0.0           0.0     0.0  ...            0            0   \n",
            "1                   0.0           1.0     0.0  ...            0            0   \n",
            "2                   0.0           0.0     1.0  ...            0            0   \n",
            "3                   0.0           1.0     1.0  ...            0            0   \n",
            "4                   0.0           1.0     1.0  ...            0            0   \n",
            "\n",
            "   Income_1  Income_2  Income_3  Income_4  Income_5  Income_6  Income_7  \\\n",
            "0         1         0         0         0         0         0         0   \n",
            "1         0         1         0         0         0         0         0   \n",
            "2         0         0         1         0         0         0         0   \n",
            "3         0         0         0         1         0         0         0   \n",
            "4         0         0         0         0         1         0         0   \n",
            "\n",
            "   Income_8  \n",
            "0         0  \n",
            "1         0  \n",
            "2         0  \n",
            "3         0  \n",
            "4         0  \n",
            "\n",
            "[5 rows x 46 columns]\n"
          ]
        },
        {
          "output_type": "execute_result",
          "data": {
            "text/plain": [
              "(253680, 46)"
            ]
          },
          "metadata": {},
          "execution_count": 9
        }
      ]
    },
    {
      "cell_type": "code",
      "source": [
        "# need to make training, validation and test split\n",
        "features = diabetes_final.drop('Diabetes_012', axis = 1)\n",
        "\n",
        "# reshape labels and encode them\n",
        "ce_OHE = ce.OneHotEncoder(cols=['Diabetes_012'])\n",
        "labels = ce_OHE.fit_transform(diabetes_final)\n",
        "labels = labels.iloc[:,0:3]"
      ],
      "metadata": {
        "id": "S823aaITo-Gh"
      },
      "execution_count": 10,
      "outputs": []
    },
    {
      "cell_type": "code",
      "source": [
        "# split into training and testing set \n",
        "X_train, X_test, y_train, y_test = train_test_split(features, labels,\n",
        "    test_size=0.2, shuffle = True, random_state = 356)\n",
        "\n",
        "# Use the same function above to spliut the training into train and validation set\n",
        "X_train, X_val, y_train, y_val = train_test_split(X_train, y_train, \n",
        "    test_size=0.25, random_state= 356) # 0.25 x 0.8 = 0.2"
      ],
      "metadata": {
        "id": "SBhNxRz03Hjj"
      },
      "execution_count": 11,
      "outputs": []
    },
    {
      "cell_type": "code",
      "source": [
        "labels.head()"
      ],
      "metadata": {
        "colab": {
          "base_uri": "https://localhost:8080/",
          "height": 206
        },
        "id": "pHU6OFSY187d",
        "outputId": "a91867f0-841f-48e3-ebb0-e19cea0db5b7"
      },
      "execution_count": 12,
      "outputs": [
        {
          "output_type": "execute_result",
          "data": {
            "text/plain": [
              "   Diabetes_012_1  Diabetes_012_2  Diabetes_012_3\n",
              "0               1               0               0\n",
              "1               1               0               0\n",
              "2               1               0               0\n",
              "3               1               0               0\n",
              "4               1               0               0"
            ],
            "text/html": [
              "\n",
              "  <div id=\"df-fe08cd70-5562-4925-8530-c6061882bf48\">\n",
              "    <div class=\"colab-df-container\">\n",
              "      <div>\n",
              "<style scoped>\n",
              "    .dataframe tbody tr th:only-of-type {\n",
              "        vertical-align: middle;\n",
              "    }\n",
              "\n",
              "    .dataframe tbody tr th {\n",
              "        vertical-align: top;\n",
              "    }\n",
              "\n",
              "    .dataframe thead th {\n",
              "        text-align: right;\n",
              "    }\n",
              "</style>\n",
              "<table border=\"1\" class=\"dataframe\">\n",
              "  <thead>\n",
              "    <tr style=\"text-align: right;\">\n",
              "      <th></th>\n",
              "      <th>Diabetes_012_1</th>\n",
              "      <th>Diabetes_012_2</th>\n",
              "      <th>Diabetes_012_3</th>\n",
              "    </tr>\n",
              "  </thead>\n",
              "  <tbody>\n",
              "    <tr>\n",
              "      <th>0</th>\n",
              "      <td>1</td>\n",
              "      <td>0</td>\n",
              "      <td>0</td>\n",
              "    </tr>\n",
              "    <tr>\n",
              "      <th>1</th>\n",
              "      <td>1</td>\n",
              "      <td>0</td>\n",
              "      <td>0</td>\n",
              "    </tr>\n",
              "    <tr>\n",
              "      <th>2</th>\n",
              "      <td>1</td>\n",
              "      <td>0</td>\n",
              "      <td>0</td>\n",
              "    </tr>\n",
              "    <tr>\n",
              "      <th>3</th>\n",
              "      <td>1</td>\n",
              "      <td>0</td>\n",
              "      <td>0</td>\n",
              "    </tr>\n",
              "    <tr>\n",
              "      <th>4</th>\n",
              "      <td>1</td>\n",
              "      <td>0</td>\n",
              "      <td>0</td>\n",
              "    </tr>\n",
              "  </tbody>\n",
              "</table>\n",
              "</div>\n",
              "      <button class=\"colab-df-convert\" onclick=\"convertToInteractive('df-fe08cd70-5562-4925-8530-c6061882bf48')\"\n",
              "              title=\"Convert this dataframe to an interactive table.\"\n",
              "              style=\"display:none;\">\n",
              "        \n",
              "  <svg xmlns=\"http://www.w3.org/2000/svg\" height=\"24px\"viewBox=\"0 0 24 24\"\n",
              "       width=\"24px\">\n",
              "    <path d=\"M0 0h24v24H0V0z\" fill=\"none\"/>\n",
              "    <path d=\"M18.56 5.44l.94 2.06.94-2.06 2.06-.94-2.06-.94-.94-2.06-.94 2.06-2.06.94zm-11 1L8.5 8.5l.94-2.06 2.06-.94-2.06-.94L8.5 2.5l-.94 2.06-2.06.94zm10 10l.94 2.06.94-2.06 2.06-.94-2.06-.94-.94-2.06-.94 2.06-2.06.94z\"/><path d=\"M17.41 7.96l-1.37-1.37c-.4-.4-.92-.59-1.43-.59-.52 0-1.04.2-1.43.59L10.3 9.45l-7.72 7.72c-.78.78-.78 2.05 0 2.83L4 21.41c.39.39.9.59 1.41.59.51 0 1.02-.2 1.41-.59l7.78-7.78 2.81-2.81c.8-.78.8-2.07 0-2.86zM5.41 20L4 18.59l7.72-7.72 1.47 1.35L5.41 20z\"/>\n",
              "  </svg>\n",
              "      </button>\n",
              "      \n",
              "  <style>\n",
              "    .colab-df-container {\n",
              "      display:flex;\n",
              "      flex-wrap:wrap;\n",
              "      gap: 12px;\n",
              "    }\n",
              "\n",
              "    .colab-df-convert {\n",
              "      background-color: #E8F0FE;\n",
              "      border: none;\n",
              "      border-radius: 50%;\n",
              "      cursor: pointer;\n",
              "      display: none;\n",
              "      fill: #1967D2;\n",
              "      height: 32px;\n",
              "      padding: 0 0 0 0;\n",
              "      width: 32px;\n",
              "    }\n",
              "\n",
              "    .colab-df-convert:hover {\n",
              "      background-color: #E2EBFA;\n",
              "      box-shadow: 0px 1px 2px rgba(60, 64, 67, 0.3), 0px 1px 3px 1px rgba(60, 64, 67, 0.15);\n",
              "      fill: #174EA6;\n",
              "    }\n",
              "\n",
              "    [theme=dark] .colab-df-convert {\n",
              "      background-color: #3B4455;\n",
              "      fill: #D2E3FC;\n",
              "    }\n",
              "\n",
              "    [theme=dark] .colab-df-convert:hover {\n",
              "      background-color: #434B5C;\n",
              "      box-shadow: 0px 1px 3px 1px rgba(0, 0, 0, 0.15);\n",
              "      filter: drop-shadow(0px 1px 2px rgba(0, 0, 0, 0.3));\n",
              "      fill: #FFFFFF;\n",
              "    }\n",
              "  </style>\n",
              "\n",
              "      <script>\n",
              "        const buttonEl =\n",
              "          document.querySelector('#df-fe08cd70-5562-4925-8530-c6061882bf48 button.colab-df-convert');\n",
              "        buttonEl.style.display =\n",
              "          google.colab.kernel.accessAllowed ? 'block' : 'none';\n",
              "\n",
              "        async function convertToInteractive(key) {\n",
              "          const element = document.querySelector('#df-fe08cd70-5562-4925-8530-c6061882bf48');\n",
              "          const dataTable =\n",
              "            await google.colab.kernel.invokeFunction('convertToInteractive',\n",
              "                                                     [key], {});\n",
              "          if (!dataTable) return;\n",
              "\n",
              "          const docLinkHtml = 'Like what you see? Visit the ' +\n",
              "            '<a target=\"_blank\" href=https://colab.research.google.com/notebooks/data_table.ipynb>data table notebook</a>'\n",
              "            + ' to learn more about interactive tables.';\n",
              "          element.innerHTML = '';\n",
              "          dataTable['output_type'] = 'display_data';\n",
              "          await google.colab.output.renderOutput(dataTable, element);\n",
              "          const docLink = document.createElement('div');\n",
              "          docLink.innerHTML = docLinkHtml;\n",
              "          element.appendChild(docLink);\n",
              "        }\n",
              "      </script>\n",
              "    </div>\n",
              "  </div>\n",
              "  "
            ]
          },
          "metadata": {},
          "execution_count": 12
        }
      ]
    },
    {
      "cell_type": "code",
      "source": [
        "features.head()"
      ],
      "metadata": {
        "colab": {
          "base_uri": "https://localhost:8080/",
          "height": 236
        },
        "id": "63fiByzQ2TbQ",
        "outputId": "1d808e47-d902-4b50-d070-cc1c145c3712"
      },
      "execution_count": 13,
      "outputs": [
        {
          "output_type": "execute_result",
          "data": {
            "text/plain": [
              "   HighBP  HighChol  CholCheck   BMI  Smoker  Stroke  HeartDiseaseorAttack  \\\n",
              "0     1.0       1.0        1.0  40.0     1.0     0.0                   0.0   \n",
              "1     0.0       0.0        0.0  25.0     1.0     0.0                   0.0   \n",
              "2     1.0       1.0        1.0  28.0     0.0     0.0                   0.0   \n",
              "3     1.0       0.0        1.0  27.0     0.0     0.0                   0.0   \n",
              "4     1.0       1.0        1.0  24.0     0.0     0.0                   0.0   \n",
              "\n",
              "   PhysActivity  Fruits  Veggies  ...  Education_5  Education_6  Income_1  \\\n",
              "0           0.0     0.0      1.0  ...            0            0         1   \n",
              "1           1.0     0.0      0.0  ...            0            0         0   \n",
              "2           0.0     1.0      0.0  ...            0            0         0   \n",
              "3           1.0     1.0      1.0  ...            0            0         0   \n",
              "4           1.0     1.0      1.0  ...            0            0         0   \n",
              "\n",
              "   Income_2  Income_3  Income_4  Income_5  Income_6  Income_7  Income_8  \n",
              "0         0         0         0         0         0         0         0  \n",
              "1         1         0         0         0         0         0         0  \n",
              "2         0         1         0         0         0         0         0  \n",
              "3         0         0         1         0         0         0         0  \n",
              "4         0         0         0         1         0         0         0  \n",
              "\n",
              "[5 rows x 45 columns]"
            ],
            "text/html": [
              "\n",
              "  <div id=\"df-aa2377f4-9131-4d4e-8221-4d0e35886f31\">\n",
              "    <div class=\"colab-df-container\">\n",
              "      <div>\n",
              "<style scoped>\n",
              "    .dataframe tbody tr th:only-of-type {\n",
              "        vertical-align: middle;\n",
              "    }\n",
              "\n",
              "    .dataframe tbody tr th {\n",
              "        vertical-align: top;\n",
              "    }\n",
              "\n",
              "    .dataframe thead th {\n",
              "        text-align: right;\n",
              "    }\n",
              "</style>\n",
              "<table border=\"1\" class=\"dataframe\">\n",
              "  <thead>\n",
              "    <tr style=\"text-align: right;\">\n",
              "      <th></th>\n",
              "      <th>HighBP</th>\n",
              "      <th>HighChol</th>\n",
              "      <th>CholCheck</th>\n",
              "      <th>BMI</th>\n",
              "      <th>Smoker</th>\n",
              "      <th>Stroke</th>\n",
              "      <th>HeartDiseaseorAttack</th>\n",
              "      <th>PhysActivity</th>\n",
              "      <th>Fruits</th>\n",
              "      <th>Veggies</th>\n",
              "      <th>...</th>\n",
              "      <th>Education_5</th>\n",
              "      <th>Education_6</th>\n",
              "      <th>Income_1</th>\n",
              "      <th>Income_2</th>\n",
              "      <th>Income_3</th>\n",
              "      <th>Income_4</th>\n",
              "      <th>Income_5</th>\n",
              "      <th>Income_6</th>\n",
              "      <th>Income_7</th>\n",
              "      <th>Income_8</th>\n",
              "    </tr>\n",
              "  </thead>\n",
              "  <tbody>\n",
              "    <tr>\n",
              "      <th>0</th>\n",
              "      <td>1.0</td>\n",
              "      <td>1.0</td>\n",
              "      <td>1.0</td>\n",
              "      <td>40.0</td>\n",
              "      <td>1.0</td>\n",
              "      <td>0.0</td>\n",
              "      <td>0.0</td>\n",
              "      <td>0.0</td>\n",
              "      <td>0.0</td>\n",
              "      <td>1.0</td>\n",
              "      <td>...</td>\n",
              "      <td>0</td>\n",
              "      <td>0</td>\n",
              "      <td>1</td>\n",
              "      <td>0</td>\n",
              "      <td>0</td>\n",
              "      <td>0</td>\n",
              "      <td>0</td>\n",
              "      <td>0</td>\n",
              "      <td>0</td>\n",
              "      <td>0</td>\n",
              "    </tr>\n",
              "    <tr>\n",
              "      <th>1</th>\n",
              "      <td>0.0</td>\n",
              "      <td>0.0</td>\n",
              "      <td>0.0</td>\n",
              "      <td>25.0</td>\n",
              "      <td>1.0</td>\n",
              "      <td>0.0</td>\n",
              "      <td>0.0</td>\n",
              "      <td>1.0</td>\n",
              "      <td>0.0</td>\n",
              "      <td>0.0</td>\n",
              "      <td>...</td>\n",
              "      <td>0</td>\n",
              "      <td>0</td>\n",
              "      <td>0</td>\n",
              "      <td>1</td>\n",
              "      <td>0</td>\n",
              "      <td>0</td>\n",
              "      <td>0</td>\n",
              "      <td>0</td>\n",
              "      <td>0</td>\n",
              "      <td>0</td>\n",
              "    </tr>\n",
              "    <tr>\n",
              "      <th>2</th>\n",
              "      <td>1.0</td>\n",
              "      <td>1.0</td>\n",
              "      <td>1.0</td>\n",
              "      <td>28.0</td>\n",
              "      <td>0.0</td>\n",
              "      <td>0.0</td>\n",
              "      <td>0.0</td>\n",
              "      <td>0.0</td>\n",
              "      <td>1.0</td>\n",
              "      <td>0.0</td>\n",
              "      <td>...</td>\n",
              "      <td>0</td>\n",
              "      <td>0</td>\n",
              "      <td>0</td>\n",
              "      <td>0</td>\n",
              "      <td>1</td>\n",
              "      <td>0</td>\n",
              "      <td>0</td>\n",
              "      <td>0</td>\n",
              "      <td>0</td>\n",
              "      <td>0</td>\n",
              "    </tr>\n",
              "    <tr>\n",
              "      <th>3</th>\n",
              "      <td>1.0</td>\n",
              "      <td>0.0</td>\n",
              "      <td>1.0</td>\n",
              "      <td>27.0</td>\n",
              "      <td>0.0</td>\n",
              "      <td>0.0</td>\n",
              "      <td>0.0</td>\n",
              "      <td>1.0</td>\n",
              "      <td>1.0</td>\n",
              "      <td>1.0</td>\n",
              "      <td>...</td>\n",
              "      <td>0</td>\n",
              "      <td>0</td>\n",
              "      <td>0</td>\n",
              "      <td>0</td>\n",
              "      <td>0</td>\n",
              "      <td>1</td>\n",
              "      <td>0</td>\n",
              "      <td>0</td>\n",
              "      <td>0</td>\n",
              "      <td>0</td>\n",
              "    </tr>\n",
              "    <tr>\n",
              "      <th>4</th>\n",
              "      <td>1.0</td>\n",
              "      <td>1.0</td>\n",
              "      <td>1.0</td>\n",
              "      <td>24.0</td>\n",
              "      <td>0.0</td>\n",
              "      <td>0.0</td>\n",
              "      <td>0.0</td>\n",
              "      <td>1.0</td>\n",
              "      <td>1.0</td>\n",
              "      <td>1.0</td>\n",
              "      <td>...</td>\n",
              "      <td>0</td>\n",
              "      <td>0</td>\n",
              "      <td>0</td>\n",
              "      <td>0</td>\n",
              "      <td>0</td>\n",
              "      <td>0</td>\n",
              "      <td>1</td>\n",
              "      <td>0</td>\n",
              "      <td>0</td>\n",
              "      <td>0</td>\n",
              "    </tr>\n",
              "  </tbody>\n",
              "</table>\n",
              "<p>5 rows × 45 columns</p>\n",
              "</div>\n",
              "      <button class=\"colab-df-convert\" onclick=\"convertToInteractive('df-aa2377f4-9131-4d4e-8221-4d0e35886f31')\"\n",
              "              title=\"Convert this dataframe to an interactive table.\"\n",
              "              style=\"display:none;\">\n",
              "        \n",
              "  <svg xmlns=\"http://www.w3.org/2000/svg\" height=\"24px\"viewBox=\"0 0 24 24\"\n",
              "       width=\"24px\">\n",
              "    <path d=\"M0 0h24v24H0V0z\" fill=\"none\"/>\n",
              "    <path d=\"M18.56 5.44l.94 2.06.94-2.06 2.06-.94-2.06-.94-.94-2.06-.94 2.06-2.06.94zm-11 1L8.5 8.5l.94-2.06 2.06-.94-2.06-.94L8.5 2.5l-.94 2.06-2.06.94zm10 10l.94 2.06.94-2.06 2.06-.94-2.06-.94-.94-2.06-.94 2.06-2.06.94z\"/><path d=\"M17.41 7.96l-1.37-1.37c-.4-.4-.92-.59-1.43-.59-.52 0-1.04.2-1.43.59L10.3 9.45l-7.72 7.72c-.78.78-.78 2.05 0 2.83L4 21.41c.39.39.9.59 1.41.59.51 0 1.02-.2 1.41-.59l7.78-7.78 2.81-2.81c.8-.78.8-2.07 0-2.86zM5.41 20L4 18.59l7.72-7.72 1.47 1.35L5.41 20z\"/>\n",
              "  </svg>\n",
              "      </button>\n",
              "      \n",
              "  <style>\n",
              "    .colab-df-container {\n",
              "      display:flex;\n",
              "      flex-wrap:wrap;\n",
              "      gap: 12px;\n",
              "    }\n",
              "\n",
              "    .colab-df-convert {\n",
              "      background-color: #E8F0FE;\n",
              "      border: none;\n",
              "      border-radius: 50%;\n",
              "      cursor: pointer;\n",
              "      display: none;\n",
              "      fill: #1967D2;\n",
              "      height: 32px;\n",
              "      padding: 0 0 0 0;\n",
              "      width: 32px;\n",
              "    }\n",
              "\n",
              "    .colab-df-convert:hover {\n",
              "      background-color: #E2EBFA;\n",
              "      box-shadow: 0px 1px 2px rgba(60, 64, 67, 0.3), 0px 1px 3px 1px rgba(60, 64, 67, 0.15);\n",
              "      fill: #174EA6;\n",
              "    }\n",
              "\n",
              "    [theme=dark] .colab-df-convert {\n",
              "      background-color: #3B4455;\n",
              "      fill: #D2E3FC;\n",
              "    }\n",
              "\n",
              "    [theme=dark] .colab-df-convert:hover {\n",
              "      background-color: #434B5C;\n",
              "      box-shadow: 0px 1px 3px 1px rgba(0, 0, 0, 0.15);\n",
              "      filter: drop-shadow(0px 1px 2px rgba(0, 0, 0, 0.3));\n",
              "      fill: #FFFFFF;\n",
              "    }\n",
              "  </style>\n",
              "\n",
              "      <script>\n",
              "        const buttonEl =\n",
              "          document.querySelector('#df-aa2377f4-9131-4d4e-8221-4d0e35886f31 button.colab-df-convert');\n",
              "        buttonEl.style.display =\n",
              "          google.colab.kernel.accessAllowed ? 'block' : 'none';\n",
              "\n",
              "        async function convertToInteractive(key) {\n",
              "          const element = document.querySelector('#df-aa2377f4-9131-4d4e-8221-4d0e35886f31');\n",
              "          const dataTable =\n",
              "            await google.colab.kernel.invokeFunction('convertToInteractive',\n",
              "                                                     [key], {});\n",
              "          if (!dataTable) return;\n",
              "\n",
              "          const docLinkHtml = 'Like what you see? Visit the ' +\n",
              "            '<a target=\"_blank\" href=https://colab.research.google.com/notebooks/data_table.ipynb>data table notebook</a>'\n",
              "            + ' to learn more about interactive tables.';\n",
              "          element.innerHTML = '';\n",
              "          dataTable['output_type'] = 'display_data';\n",
              "          await google.colab.output.renderOutput(dataTable, element);\n",
              "          const docLink = document.createElement('div');\n",
              "          docLink.innerHTML = docLinkHtml;\n",
              "          element.appendChild(docLink);\n",
              "        }\n",
              "      </script>\n",
              "    </div>\n",
              "  </div>\n",
              "  "
            ]
          },
          "metadata": {},
          "execution_count": 13
        }
      ]
    },
    {
      "cell_type": "code",
      "source": [
        "# build and compile model \n",
        "# Define model\n",
        "model = keras.Sequential([\n",
        "  layers.Dense(256, activation='sigmoid', input_dim = 45),\n",
        "  layers.Dropout(0.5),\n",
        "\n",
        "  layers.Dense(128, activation='sigmoid'), \n",
        "  layers.Dropout(0.5),\n",
        "\n",
        "  layers.Dense(32, activation='sigmoid'), \n",
        "\n",
        "  layers.Dense(3, activation='softmax') # 3 categories\n",
        "])\n",
        "\n",
        "# model compile function\n",
        "model.compile(loss = 'categorical_crossentropy',\n",
        "              optimizer = tf.keras.optimizers.RMSprop(),\n",
        "              metrics = ['accuracy'])"
      ],
      "metadata": {
        "id": "mTUhGJyLop-H"
      },
      "execution_count": 14,
      "outputs": []
    },
    {
      "cell_type": "code",
      "source": [
        "history = model.fit(X_train, \n",
        "          y_train, \n",
        "          epochs = 100, #change epochs to 100 after testing\n",
        "          batch_size = 50,\n",
        "          validation_data=(X_val, y_val)\n",
        "          )"
      ],
      "metadata": {
        "colab": {
          "base_uri": "https://localhost:8080/"
        },
        "id": "yCSIy6FVp7Jk",
        "outputId": "8d3f7155-9f79-4935-a40e-08c333efda12"
      },
      "execution_count": 15,
      "outputs": [
        {
          "metadata": {
            "tags": null
          },
          "name": "stdout",
          "output_type": "stream",
          "text": [
            "Epoch 1/100\n",
            "3045/3045 [==============================] - 23s 7ms/step - loss: 0.4196 - accuracy: 0.8440 - val_loss: 0.3999 - val_accuracy: 0.8498\n",
            "Epoch 2/100\n",
            "3045/3045 [==============================] - 17s 6ms/step - loss: 0.4060 - accuracy: 0.8458 - val_loss: 0.3998 - val_accuracy: 0.8481\n",
            "Epoch 3/100\n",
            "3045/3045 [==============================] - 9s 3ms/step - loss: 0.4051 - accuracy: 0.8463 - val_loss: 0.4019 - val_accuracy: 0.8487\n",
            "Epoch 4/100\n",
            "3045/3045 [==============================] - 9s 3ms/step - loss: 0.4042 - accuracy: 0.8467 - val_loss: 0.4065 - val_accuracy: 0.8436\n",
            "Epoch 5/100\n",
            "3045/3045 [==============================] - 9s 3ms/step - loss: 0.4049 - accuracy: 0.8464 - val_loss: 0.3992 - val_accuracy: 0.8503\n",
            "Epoch 6/100\n",
            "3045/3045 [==============================] - 9s 3ms/step - loss: 0.4054 - accuracy: 0.8463 - val_loss: 0.4010 - val_accuracy: 0.8496\n",
            "Epoch 7/100\n",
            "3045/3045 [==============================] - 9s 3ms/step - loss: 0.4059 - accuracy: 0.8458 - val_loss: 0.4038 - val_accuracy: 0.8424\n",
            "Epoch 8/100\n",
            "3045/3045 [==============================] - 9s 3ms/step - loss: 0.4063 - accuracy: 0.8457 - val_loss: 0.4014 - val_accuracy: 0.8446\n",
            "Epoch 9/100\n",
            "3045/3045 [==============================] - 9s 3ms/step - loss: 0.4058 - accuracy: 0.8462 - val_loss: 0.4027 - val_accuracy: 0.8504\n",
            "Epoch 10/100\n",
            "3045/3045 [==============================] - 9s 3ms/step - loss: 0.4056 - accuracy: 0.8459 - val_loss: 0.4025 - val_accuracy: 0.8496\n",
            "Epoch 11/100\n",
            "3045/3045 [==============================] - 9s 3ms/step - loss: 0.4068 - accuracy: 0.8459 - val_loss: 0.4012 - val_accuracy: 0.8501\n",
            "Epoch 12/100\n",
            "3045/3045 [==============================] - 12s 4ms/step - loss: 0.4071 - accuracy: 0.8460 - val_loss: 0.4052 - val_accuracy: 0.8420\n",
            "Epoch 13/100\n",
            "3045/3045 [==============================] - 10s 3ms/step - loss: 0.4067 - accuracy: 0.8457 - val_loss: 0.4012 - val_accuracy: 0.8500\n",
            "Epoch 14/100\n",
            "3045/3045 [==============================] - 9s 3ms/step - loss: 0.4066 - accuracy: 0.8455 - val_loss: 0.4027 - val_accuracy: 0.8505\n",
            "Epoch 15/100\n",
            "3045/3045 [==============================] - 9s 3ms/step - loss: 0.4069 - accuracy: 0.8459 - val_loss: 0.4037 - val_accuracy: 0.8499\n",
            "Epoch 16/100\n",
            "3045/3045 [==============================] - 9s 3ms/step - loss: 0.4082 - accuracy: 0.8463 - val_loss: 0.4047 - val_accuracy: 0.8503\n",
            "Epoch 17/100\n",
            "3045/3045 [==============================] - 9s 3ms/step - loss: 0.4085 - accuracy: 0.8461 - val_loss: 0.4064 - val_accuracy: 0.8496\n",
            "Epoch 18/100\n",
            "3045/3045 [==============================] - 10s 3ms/step - loss: 0.4105 - accuracy: 0.8456 - val_loss: 0.4154 - val_accuracy: 0.8420\n",
            "Epoch 19/100\n",
            "3045/3045 [==============================] - 11s 3ms/step - loss: 0.4095 - accuracy: 0.8459 - val_loss: 0.4058 - val_accuracy: 0.8501\n",
            "Epoch 20/100\n",
            "3045/3045 [==============================] - 9s 3ms/step - loss: 0.4082 - accuracy: 0.8455 - val_loss: 0.4068 - val_accuracy: 0.8504\n",
            "Epoch 21/100\n",
            "3045/3045 [==============================] - 9s 3ms/step - loss: 0.4091 - accuracy: 0.8459 - val_loss: 0.4056 - val_accuracy: 0.8502\n",
            "Epoch 22/100\n",
            "3045/3045 [==============================] - 9s 3ms/step - loss: 0.4105 - accuracy: 0.8462 - val_loss: 0.4047 - val_accuracy: 0.8502\n",
            "Epoch 23/100\n",
            "3045/3045 [==============================] - 10s 3ms/step - loss: 0.4107 - accuracy: 0.8458 - val_loss: 0.4090 - val_accuracy: 0.8505\n",
            "Epoch 24/100\n",
            "3045/3045 [==============================] - 10s 3ms/step - loss: 0.4122 - accuracy: 0.8454 - val_loss: 0.4102 - val_accuracy: 0.8493\n",
            "Epoch 25/100\n",
            "3045/3045 [==============================] - 9s 3ms/step - loss: 0.4141 - accuracy: 0.8454 - val_loss: 0.4104 - val_accuracy: 0.8489\n",
            "Epoch 26/100\n",
            "3045/3045 [==============================] - 9s 3ms/step - loss: 0.4145 - accuracy: 0.8459 - val_loss: 0.4116 - val_accuracy: 0.8484\n",
            "Epoch 27/100\n",
            "3045/3045 [==============================] - 11s 4ms/step - loss: 0.4135 - accuracy: 0.8458 - val_loss: 0.4084 - val_accuracy: 0.8488\n",
            "Epoch 28/100\n",
            "3045/3045 [==============================] - 9s 3ms/step - loss: 0.4109 - accuracy: 0.8454 - val_loss: 0.4094 - val_accuracy: 0.8499\n",
            "Epoch 29/100\n",
            "3045/3045 [==============================] - 9s 3ms/step - loss: 0.4121 - accuracy: 0.8461 - val_loss: 0.4083 - val_accuracy: 0.8496\n",
            "Epoch 30/100\n",
            "3045/3045 [==============================] - 10s 3ms/step - loss: 0.4126 - accuracy: 0.8459 - val_loss: 0.4096 - val_accuracy: 0.8494\n",
            "Epoch 31/100\n",
            "3045/3045 [==============================] - 9s 3ms/step - loss: 0.4147 - accuracy: 0.8462 - val_loss: 0.4112 - val_accuracy: 0.8496\n",
            "Epoch 32/100\n",
            "3045/3045 [==============================] - 9s 3ms/step - loss: 0.4126 - accuracy: 0.8472 - val_loss: 0.4077 - val_accuracy: 0.8489\n",
            "Epoch 33/100\n",
            "3045/3045 [==============================] - 11s 3ms/step - loss: 0.4127 - accuracy: 0.8462 - val_loss: 0.4093 - val_accuracy: 0.8491\n",
            "Epoch 34/100\n",
            "3045/3045 [==============================] - 10s 3ms/step - loss: 0.4130 - accuracy: 0.8470 - val_loss: 0.4117 - val_accuracy: 0.8499\n",
            "Epoch 35/100\n",
            "3045/3045 [==============================] - 11s 3ms/step - loss: 0.4155 - accuracy: 0.8461 - val_loss: 0.4123 - val_accuracy: 0.8499\n",
            "Epoch 36/100\n",
            "3045/3045 [==============================] - 11s 4ms/step - loss: 0.4141 - accuracy: 0.8465 - val_loss: 0.4099 - val_accuracy: 0.8495\n",
            "Epoch 37/100\n",
            "3045/3045 [==============================] - 9s 3ms/step - loss: 0.4126 - accuracy: 0.8466 - val_loss: 0.4128 - val_accuracy: 0.8455\n",
            "Epoch 38/100\n",
            "3045/3045 [==============================] - 9s 3ms/step - loss: 0.4124 - accuracy: 0.8467 - val_loss: 0.4120 - val_accuracy: 0.8498\n",
            "Epoch 39/100\n",
            "3045/3045 [==============================] - 9s 3ms/step - loss: 0.4109 - accuracy: 0.8467 - val_loss: 0.4095 - val_accuracy: 0.8444\n",
            "Epoch 40/100\n",
            "3045/3045 [==============================] - 9s 3ms/step - loss: 0.4096 - accuracy: 0.8472 - val_loss: 0.4093 - val_accuracy: 0.8487\n",
            "Epoch 41/100\n",
            "3045/3045 [==============================] - 10s 3ms/step - loss: 0.4112 - accuracy: 0.8469 - val_loss: 0.4058 - val_accuracy: 0.8495\n",
            "Epoch 42/100\n",
            "3045/3045 [==============================] - 10s 3ms/step - loss: 0.4107 - accuracy: 0.8467 - val_loss: 0.4092 - val_accuracy: 0.8496\n",
            "Epoch 43/100\n",
            "3045/3045 [==============================] - 9s 3ms/step - loss: 0.4111 - accuracy: 0.8465 - val_loss: 0.4094 - val_accuracy: 0.8494\n",
            "Epoch 44/100\n",
            "3045/3045 [==============================] - 9s 3ms/step - loss: 0.4104 - accuracy: 0.8461 - val_loss: 0.4049 - val_accuracy: 0.8480\n",
            "Epoch 45/100\n",
            "3045/3045 [==============================] - 9s 3ms/step - loss: 0.4109 - accuracy: 0.8466 - val_loss: 0.4057 - val_accuracy: 0.8481\n",
            "Epoch 46/100\n",
            "3045/3045 [==============================] - 11s 3ms/step - loss: 0.4119 - accuracy: 0.8462 - val_loss: 0.4045 - val_accuracy: 0.8496\n",
            "Epoch 47/100\n",
            "3045/3045 [==============================] - 9s 3ms/step - loss: 0.4112 - accuracy: 0.8456 - val_loss: 0.4079 - val_accuracy: 0.8496\n",
            "Epoch 48/100\n",
            "3045/3045 [==============================] - 11s 3ms/step - loss: 0.4125 - accuracy: 0.8458 - val_loss: 0.4042 - val_accuracy: 0.8493\n",
            "Epoch 49/100\n",
            "3045/3045 [==============================] - 11s 4ms/step - loss: 0.4107 - accuracy: 0.8467 - val_loss: 0.4070 - val_accuracy: 0.8501\n",
            "Epoch 50/100\n",
            "3045/3045 [==============================] - 9s 3ms/step - loss: 0.4115 - accuracy: 0.8463 - val_loss: 0.4081 - val_accuracy: 0.8488\n",
            "Epoch 51/100\n",
            "3045/3045 [==============================] - 9s 3ms/step - loss: 0.4118 - accuracy: 0.8466 - val_loss: 0.4064 - val_accuracy: 0.8497\n",
            "Epoch 52/100\n",
            "3045/3045 [==============================] - 9s 3ms/step - loss: 0.4124 - accuracy: 0.8466 - val_loss: 0.4071 - val_accuracy: 0.8497\n",
            "Epoch 53/100\n",
            "3045/3045 [==============================] - 11s 4ms/step - loss: 0.4127 - accuracy: 0.8462 - val_loss: 0.4113 - val_accuracy: 0.8475\n",
            "Epoch 54/100\n",
            "3045/3045 [==============================] - 11s 4ms/step - loss: 0.4114 - accuracy: 0.8466 - val_loss: 0.4076 - val_accuracy: 0.8497\n",
            "Epoch 55/100\n",
            "3045/3045 [==============================] - 10s 3ms/step - loss: 0.4131 - accuracy: 0.8464 - val_loss: 0.4087 - val_accuracy: 0.8492\n",
            "Epoch 56/100\n",
            "3045/3045 [==============================] - 11s 4ms/step - loss: 0.4150 - accuracy: 0.8463 - val_loss: 0.4093 - val_accuracy: 0.8492\n",
            "Epoch 57/100\n",
            "3045/3045 [==============================] - 9s 3ms/step - loss: 0.4137 - accuracy: 0.8469 - val_loss: 0.4081 - val_accuracy: 0.8482\n",
            "Epoch 58/100\n",
            "3045/3045 [==============================] - 9s 3ms/step - loss: 0.4140 - accuracy: 0.8462 - val_loss: 0.4110 - val_accuracy: 0.8489\n",
            "Epoch 59/100\n",
            "3045/3045 [==============================] - 9s 3ms/step - loss: 0.4144 - accuracy: 0.8467 - val_loss: 0.4092 - val_accuracy: 0.8484\n",
            "Epoch 60/100\n",
            "3045/3045 [==============================] - 11s 3ms/step - loss: 0.4148 - accuracy: 0.8471 - val_loss: 0.4145 - val_accuracy: 0.8495\n",
            "Epoch 61/100\n",
            "3045/3045 [==============================] - 10s 3ms/step - loss: 0.4158 - accuracy: 0.8469 - val_loss: 0.4154 - val_accuracy: 0.8460\n",
            "Epoch 62/100\n",
            "3045/3045 [==============================] - 9s 3ms/step - loss: 0.4171 - accuracy: 0.8467 - val_loss: 0.4138 - val_accuracy: 0.8492\n",
            "Epoch 63/100\n",
            "3045/3045 [==============================] - 9s 3ms/step - loss: 0.4171 - accuracy: 0.8468 - val_loss: 0.4135 - val_accuracy: 0.8494\n",
            "Epoch 64/100\n",
            "3045/3045 [==============================] - 9s 3ms/step - loss: 0.4181 - accuracy: 0.8465 - val_loss: 0.4146 - val_accuracy: 0.8486\n",
            "Epoch 65/100\n",
            "3045/3045 [==============================] - 10s 3ms/step - loss: 0.4181 - accuracy: 0.8465 - val_loss: 0.4116 - val_accuracy: 0.8494\n",
            "Epoch 66/100\n",
            "3045/3045 [==============================] - 9s 3ms/step - loss: 0.4186 - accuracy: 0.8466 - val_loss: 0.4156 - val_accuracy: 0.8498\n",
            "Epoch 67/100\n",
            "3045/3045 [==============================] - 11s 4ms/step - loss: 0.4194 - accuracy: 0.8468 - val_loss: 0.4172 - val_accuracy: 0.8492\n",
            "Epoch 68/100\n",
            "3045/3045 [==============================] - 9s 3ms/step - loss: 0.4204 - accuracy: 0.8466 - val_loss: 0.4216 - val_accuracy: 0.8489\n",
            "Epoch 69/100\n",
            "3045/3045 [==============================] - 9s 3ms/step - loss: 0.4225 - accuracy: 0.8469 - val_loss: 0.4159 - val_accuracy: 0.8504\n",
            "Epoch 70/100\n",
            "3045/3045 [==============================] - 10s 3ms/step - loss: 0.4207 - accuracy: 0.8476 - val_loss: 0.4179 - val_accuracy: 0.8497\n",
            "Epoch 71/100\n",
            "3045/3045 [==============================] - 10s 3ms/step - loss: 0.4196 - accuracy: 0.8472 - val_loss: 0.4137 - val_accuracy: 0.8503\n",
            "Epoch 72/100\n",
            "3045/3045 [==============================] - 9s 3ms/step - loss: 0.4185 - accuracy: 0.8475 - val_loss: 0.4132 - val_accuracy: 0.8497\n",
            "Epoch 73/100\n",
            "3045/3045 [==============================] - 10s 3ms/step - loss: 0.4176 - accuracy: 0.8465 - val_loss: 0.4130 - val_accuracy: 0.8489\n",
            "Epoch 74/100\n",
            "3045/3045 [==============================] - 10s 3ms/step - loss: 0.4189 - accuracy: 0.8464 - val_loss: 0.4133 - val_accuracy: 0.8495\n",
            "Epoch 75/100\n",
            "3045/3045 [==============================] - 10s 3ms/step - loss: 0.4182 - accuracy: 0.8473 - val_loss: 0.4143 - val_accuracy: 0.8492\n",
            "Epoch 76/100\n",
            "3045/3045 [==============================] - 11s 3ms/step - loss: 0.4193 - accuracy: 0.8470 - val_loss: 0.4175 - val_accuracy: 0.8496\n",
            "Epoch 77/100\n",
            "3045/3045 [==============================] - 9s 3ms/step - loss: 0.4206 - accuracy: 0.8467 - val_loss: 0.4211 - val_accuracy: 0.8476\n",
            "Epoch 78/100\n",
            "3045/3045 [==============================] - 9s 3ms/step - loss: 0.4200 - accuracy: 0.8461 - val_loss: 0.4197 - val_accuracy: 0.8475\n",
            "Epoch 79/100\n",
            "3045/3045 [==============================] - 10s 3ms/step - loss: 0.4189 - accuracy: 0.8461 - val_loss: 0.4186 - val_accuracy: 0.8494\n",
            "Epoch 80/100\n",
            "3045/3045 [==============================] - 11s 4ms/step - loss: 0.4193 - accuracy: 0.8466 - val_loss: 0.4167 - val_accuracy: 0.8499\n",
            "Epoch 81/100\n",
            "3045/3045 [==============================] - 9s 3ms/step - loss: 0.4197 - accuracy: 0.8458 - val_loss: 0.4155 - val_accuracy: 0.8495\n",
            "Epoch 82/100\n",
            "3045/3045 [==============================] - 9s 3ms/step - loss: 0.4197 - accuracy: 0.8463 - val_loss: 0.4121 - val_accuracy: 0.8492\n",
            "Epoch 83/100\n",
            "3045/3045 [==============================] - 11s 3ms/step - loss: 0.4183 - accuracy: 0.8465 - val_loss: 0.4155 - val_accuracy: 0.8490\n",
            "Epoch 84/100\n",
            "3045/3045 [==============================] - 9s 3ms/step - loss: 0.4192 - accuracy: 0.8461 - val_loss: 0.4150 - val_accuracy: 0.8487\n",
            "Epoch 85/100\n",
            "3045/3045 [==============================] - 9s 3ms/step - loss: 0.4194 - accuracy: 0.8461 - val_loss: 0.4196 - val_accuracy: 0.8492\n",
            "Epoch 86/100\n",
            "3045/3045 [==============================] - 10s 3ms/step - loss: 0.4198 - accuracy: 0.8464 - val_loss: 0.4207 - val_accuracy: 0.8481\n",
            "Epoch 87/100\n",
            "3045/3045 [==============================] - 10s 3ms/step - loss: 0.4196 - accuracy: 0.8466 - val_loss: 0.4200 - val_accuracy: 0.8473\n",
            "Epoch 88/100\n",
            "3045/3045 [==============================] - 11s 4ms/step - loss: 0.4200 - accuracy: 0.8459 - val_loss: 0.4227 - val_accuracy: 0.8482\n",
            "Epoch 89/100\n",
            "3045/3045 [==============================] - 9s 3ms/step - loss: 0.4213 - accuracy: 0.8466 - val_loss: 0.4160 - val_accuracy: 0.8497\n",
            "Epoch 90/100\n",
            "3045/3045 [==============================] - 9s 3ms/step - loss: 0.4214 - accuracy: 0.8464 - val_loss: 0.4171 - val_accuracy: 0.8501\n",
            "Epoch 91/100\n",
            "3045/3045 [==============================] - 11s 4ms/step - loss: 0.4232 - accuracy: 0.8466 - val_loss: 0.4182 - val_accuracy: 0.8499\n",
            "Epoch 92/100\n",
            "3045/3045 [==============================] - 11s 4ms/step - loss: 0.4225 - accuracy: 0.8463 - val_loss: 0.4209 - val_accuracy: 0.8464\n",
            "Epoch 93/100\n",
            "3045/3045 [==============================] - 10s 3ms/step - loss: 0.4237 - accuracy: 0.8468 - val_loss: 0.4209 - val_accuracy: 0.8503\n",
            "Epoch 94/100\n",
            "3045/3045 [==============================] - 9s 3ms/step - loss: 0.4239 - accuracy: 0.8468 - val_loss: 0.4230 - val_accuracy: 0.8501\n",
            "Epoch 95/100\n",
            "3045/3045 [==============================] - 9s 3ms/step - loss: 0.4251 - accuracy: 0.8466 - val_loss: 0.4204 - val_accuracy: 0.8497\n",
            "Epoch 96/100\n",
            "3045/3045 [==============================] - 11s 4ms/step - loss: 0.4245 - accuracy: 0.8471 - val_loss: 0.4229 - val_accuracy: 0.8500\n",
            "Epoch 97/100\n",
            "3045/3045 [==============================] - 10s 3ms/step - loss: 0.4265 - accuracy: 0.8464 - val_loss: 0.4229 - val_accuracy: 0.8500\n",
            "Epoch 98/100\n",
            "3045/3045 [==============================] - 11s 4ms/step - loss: 0.4256 - accuracy: 0.8469 - val_loss: 0.4216 - val_accuracy: 0.8498\n",
            "Epoch 99/100\n",
            "3045/3045 [==============================] - 10s 3ms/step - loss: 0.4262 - accuracy: 0.8474 - val_loss: 0.4227 - val_accuracy: 0.8494\n",
            "Epoch 100/100\n",
            "3045/3045 [==============================] - 10s 3ms/step - loss: 0.4263 - accuracy: 0.8473 - val_loss: 0.4254 - val_accuracy: 0.8502\n"
          ]
        }
      ]
    },
    {
      "cell_type": "code",
      "source": [
        "# save model\n",
        "model.save('Drive/diabetes.h5')"
      ],
      "metadata": {
        "id": "iGY_PposvjCO"
      },
      "execution_count": 16,
      "outputs": []
    },
    {
      "cell_type": "code",
      "source": [
        "# load model \n",
        "new_model = tf.keras.models.load_model(\"Drive/diabetes.h5\")\n",
        "\n",
        "# Show the model architecture\n",
        "new_model.summary()"
      ],
      "metadata": {
        "colab": {
          "base_uri": "https://localhost:8080/"
        },
        "id": "TyinEFZogH_k",
        "outputId": "720d1702-7ec2-4a7c-a980-cd98ae8c743f"
      },
      "execution_count": 17,
      "outputs": [
        {
          "output_type": "stream",
          "name": "stdout",
          "text": [
            "Model: \"sequential\"\n",
            "_________________________________________________________________\n",
            " Layer (type)                Output Shape              Param #   \n",
            "=================================================================\n",
            " dense (Dense)               (None, 256)               11776     \n",
            "                                                                 \n",
            " dropout (Dropout)           (None, 256)               0         \n",
            "                                                                 \n",
            " dense_1 (Dense)             (None, 128)               32896     \n",
            "                                                                 \n",
            " dropout_1 (Dropout)         (None, 128)               0         \n",
            "                                                                 \n",
            " dense_2 (Dense)             (None, 32)                4128      \n",
            "                                                                 \n",
            " dense_3 (Dense)             (None, 3)                 99        \n",
            "                                                                 \n",
            "=================================================================\n",
            "Total params: 48,899\n",
            "Trainable params: 48,899\n",
            "Non-trainable params: 0\n",
            "_________________________________________________________________\n"
          ]
        }
      ]
    },
    {
      "cell_type": "code",
      "source": [
        "# plot of validation loss and train loss\n",
        "import seaborn as sns\n",
        "sns.set()\n",
        "\n",
        "train_acc  = history.history['accuracy']\n",
        "train_loss = history.history['loss']\n",
        "val_acc  = history.history['val_accuracy']\n",
        "val_loss = history.history['val_loss']\n",
        "\n",
        "epochs = range(1, len(train_acc) + 1)\n",
        "\n",
        "plt.plot(epochs, train_loss, label = 'Training Loss')\n",
        "plt.plot(epochs, val_loss, label = 'Validation Loss')\n",
        "plt.xlabel('Epochs')\n",
        "plt.ylabel('Loss')\n",
        "plt.legend()"
      ],
      "metadata": {
        "colab": {
          "base_uri": "https://localhost:8080/",
          "height": 303
        },
        "id": "oqjHrLgVn22U",
        "outputId": "44ec5bcb-0abd-45e7-ac95-b5bef449b805"
      },
      "execution_count": 18,
      "outputs": [
        {
          "output_type": "execute_result",
          "data": {
            "text/plain": [
              "<matplotlib.legend.Legend at 0x7f5fcaa07a50>"
            ]
          },
          "metadata": {},
          "execution_count": 18
        },
        {
          "output_type": "display_data",
          "data": {
            "text/plain": [
              "<Figure size 432x288 with 1 Axes>"
            ],
            "image/png": "[encoded data removed]"
          },
          "metadata": {}
        }
      ]
    },
    {
      "cell_type": "code",
      "source": [
        "# test set accuracy \n",
        "test_loss, test_acc = new_model.evaluate(X_test, y_test)\n",
        "print(\"The test set accuracy is: \", test_acc)"
      ],
      "metadata": {
        "colab": {
          "base_uri": "https://localhost:8080/"
        },
        "id": "lblxrHCR4LMH",
        "outputId": "04f77057-e44f-4bdd-9187-7ebc84c2bdba"
      },
      "execution_count": 19,
      "outputs": [
        {
          "output_type": "stream",
          "name": "stdout",
          "text": [
            "1586/1586 [==============================] - 3s 2ms/step - loss: 0.4274 - accuracy: 0.8472\n",
            "The test set accuracy is:  0.847209095954895\n"
          ]
        }
      ]
    },
    {
      "cell_type": "markdown",
      "source": [
        "#Next steps: \n",
        "\n",
        "**Modeling**\n",
        "- normalize the continuous variables and rerun new model\n",
        "- try different parameters (probably not epochs and batch size) such as units in hidden layers, depth of layers, activation functions\n",
        "\n",
        "**Performance Evaluation**\n",
        "- Create 3 by 3 accuracy table (done with reservations -- see below) \n",
        "- Subset data by income level and recreate accuracy tables\n",
        "\n",
        "Unitless measures such as NPV,PPV may be better for classifcation depending on prevalence of diabetes/prediabetes in the dataset. "
      ],
      "metadata": {
        "id": "bFQlGuXo3bP4"
      }
    },
    {
      "cell_type": "code",
      "source": [
        "y_proba = new_model.predict(X_test) # need to make this into a vector again of [0,1,2] values and also make y_test back into vector of [0,1,2] "
      ],
      "metadata": {
        "id": "wDp7Hx3SFdsV"
      },
      "execution_count": 20,
      "outputs": []
    },
    {
      "cell_type": "code",
      "source": [
        "y_pred = y_proba.argmax(axis = 1) # want 0,1,2 vector\n",
        "y_pred"
      ],
      "metadata": {
        "colab": {
          "base_uri": "https://localhost:8080/"
        },
        "id": "c10fLrw-Hey-",
        "outputId": "58547ce0-b61a-4d8e-8229-f04680493a8e"
      },
      "execution_count": 21,
      "outputs": [
        {
          "output_type": "execute_result",
          "data": {
            "text/plain": [
              "array([0, 0, 0, ..., 0, 0, 0])"
            ]
          },
          "metadata": {},
          "execution_count": 21
        }
      ]
    },
    {
      "cell_type": "code",
      "source": [
        "y_proba\n"
      ],
      "metadata": {
        "colab": {
          "base_uri": "https://localhost:8080/"
        },
        "id": "PAqT4JAsH-P0",
        "outputId": "ac7eb146-1bd1-4f8a-a72f-2801106d7de0"
      },
      "execution_count": 22,
      "outputs": [
        {
          "output_type": "execute_result",
          "data": {
            "text/plain": [
              "array([[0.9374004 , 0.05100873, 0.01159085],\n",
              "       [0.93743175, 0.05097095, 0.01159721],\n",
              "       [0.9373997 , 0.05100947, 0.01159079],\n",
              "       ...,\n",
              "       [0.9374195 , 0.05098564, 0.01159484],\n",
              "       [0.9374    , 0.05100929, 0.01159075],\n",
              "       [0.9374002 , 0.05100891, 0.01159084]], dtype=float32)"
            ]
          },
          "metadata": {},
          "execution_count": 22
        }
      ]
    },
    {
      "cell_type": "code",
      "source": [
        "# need to y_test to be single vector of 0,1,2 again\n",
        "y_test_lab = diabetes.iloc[y_test.index, :][\"Diabetes_012\"] # must check if this actually works as desired\n",
        "print(y_test_lab)\n",
        "y_pred"
      ],
      "metadata": {
        "id": "UU_WsErkKlrj",
        "colab": {
          "base_uri": "https://localhost:8080/"
        },
        "outputId": "41afa86c-db50-4283-9579-ce89cc503587"
      },
      "execution_count": 23,
      "outputs": [
        {
          "output_type": "stream",
          "name": "stdout",
          "text": [
            "193256    0.0\n",
            "52416     0.0\n",
            "125094    0.0\n",
            "74892     0.0\n",
            "1357      0.0\n",
            "         ... \n",
            "87225     0.0\n",
            "70127     0.0\n",
            "78535     0.0\n",
            "210913    2.0\n",
            "72847     0.0\n",
            "Name: Diabetes_012, Length: 50736, dtype: float64\n"
          ]
        },
        {
          "output_type": "execute_result",
          "data": {
            "text/plain": [
              "array([0, 0, 0, ..., 0, 0, 0])"
            ]
          },
          "metadata": {},
          "execution_count": 23
        }
      ]
    },
    {
      "cell_type": "code",
      "source": [
        "# create accuracy table \n",
        "#importing confusion matrix\n",
        "confusion = confusion_matrix(y_test_lab, y_pred)\n",
        "print('Confusion Matrix\\n')\n",
        "print(confusion)\n",
        "\n",
        "#importing accuracy_score, precision_score, recall_score, f1_score\n",
        "print('\\nAccuracy: {:.2f}\\n'.format(accuracy_score(y_test_lab, y_pred)))\n",
        "\n",
        "print('\\nClassification Report\\n')\n",
        "print(classification_report(y_test_lab, y_pred, target_names=['No diabetes', 'Prediabetes', 'Diabetes']))"
      ],
      "metadata": {
        "colab": {
          "base_uri": "https://localhost:8080/"
        },
        "id": "KPgbPXfAFE6O",
        "outputId": "6546ebd1-b521-469e-9668-c7acbe2cfc51"
      },
      "execution_count": 24,
      "outputs": [
        {
          "output_type": "stream",
          "name": "stdout",
          "text": [
            "Confusion Matrix\n",
            "\n",
            "[[42018   689     0]\n",
            " [  864    68     0]\n",
            " [ 6131   966     0]]\n",
            "\n",
            "Accuracy: 0.83\n",
            "\n",
            "\n",
            "Classification Report\n",
            "\n",
            "              precision    recall  f1-score   support\n",
            "\n",
            " No diabetes       0.86      0.98      0.92     42707\n",
            " Prediabetes       0.04      0.07      0.05       932\n",
            "    Diabetes       0.00      0.00      0.00      7097\n",
            "\n",
            "    accuracy                           0.83     50736\n",
            "   macro avg       0.30      0.35      0.32     50736\n",
            "weighted avg       0.72      0.83      0.77     50736\n",
            "\n"
          ]
        },
        {
          "output_type": "stream",
          "name": "stderr",
          "text": [
            "/usr/local/lib/python3.7/dist-packages/sklearn/metrics/_classification.py:1318: UndefinedMetricWarning: Precision and F-score are ill-defined and being set to 0.0 in labels with no predicted samples. Use `zero_division` parameter to control this behavior.\n",
            "  _warn_prf(average, modifier, msg_start, len(result))\n",
            "/usr/local/lib/python3.7/dist-packages/sklearn/metrics/_classification.py:1318: UndefinedMetricWarning: Precision and F-score are ill-defined and being set to 0.0 in labels with no predicted samples. Use `zero_division` parameter to control this behavior.\n",
            "  _warn_prf(average, modifier, msg_start, len(result))\n",
            "/usr/local/lib/python3.7/dist-packages/sklearn/metrics/_classification.py:1318: UndefinedMetricWarning: Precision and F-score are ill-defined and being set to 0.0 in labels with no predicted samples. Use `zero_division` parameter to control this behavior.\n",
            "  _warn_prf(average, modifier, msg_start, len(result))\n"
          ]
        }
      ]
    },
    {
      "cell_type": "markdown",
      "source": [
        "## Subset the Data (Income) and Recalculate Accuracy"
      ],
      "metadata": {
        "id": "R_8ztO6jib8r"
      }
    },
    {
      "cell_type": "code",
      "source": [
        " # 8 is above $75,000, 5 is below 35,000\n",
        " # maybe start with split of below 5 and above 5 \n",
        "diabetes['Income'].value_counts()"
      ],
      "metadata": {
        "colab": {
          "base_uri": "https://localhost:8080/"
        },
        "id": "CaPAbHf1iloI",
        "outputId": "df2d64c6-ba1a-4e68-de71-4fc990e0b1d9"
      },
      "execution_count": 25,
      "outputs": [
        {
          "output_type": "execute_result",
          "data": {
            "text/plain": [
              "8.0    90385\n",
              "7.0    43219\n",
              "6.0    36470\n",
              "5.0    25883\n",
              "4.0    20135\n",
              "3.0    15994\n",
              "2.0    11783\n",
              "1.0     9811\n",
              "Name: Income, dtype: int64"
            ]
          },
          "metadata": {},
          "execution_count": 25
        }
      ]
    },
    {
      "cell_type": "code",
      "source": [
        "# X test of only > 5 income \n",
        "X_test_high = X_test[(X_test[\"Income_6\"] == 1.0) | (X_test[\"Income_7\"] == 1.0) | (X_test[\"Income_8\"] == 1.0)]\n",
        "high_indx = X_test_high.index\n",
        "\n",
        "# X test of only <= 5 income \n",
        "X_test_low = X_test[(X_test[\"Income_1\"] == 1.0) | (X_test[\"Income_2\"] == 1.0) | (X_test[\"Income_3\"] == 1.0) | (X_test[\"Income_4\"] == 1.0) | (X_test[\"Income_5\"] == 1.0)]\n",
        "low_indx = X_test_low.index\n",
        "\n",
        "\n",
        "# y test of only same sebsets above\n",
        "y_test_high = y_test[y_test.index.isin(high_indx)]\n",
        "y_test_low = y_test[y_test.index.isin(low_indx)]\n",
        "\n",
        "y_test_high"
      ],
      "metadata": {
        "colab": {
          "base_uri": "https://localhost:8080/",
          "height": 424
        },
        "id": "1o2Zff45lU3c",
        "outputId": "3ad28cd0-ea4e-407c-afd4-553c5c3ecdbd"
      },
      "execution_count": 26,
      "outputs": [
        {
          "output_type": "execute_result",
          "data": {
            "text/plain": [
              "        Diabetes_012_1  Diabetes_012_2  Diabetes_012_3\n",
              "204300               1               0               0\n",
              "187954               1               0               0\n",
              "205236               1               0               0\n",
              "104585               1               0               0\n",
              "113139               1               0               0\n",
              "...                ...             ...             ...\n",
              "252276               1               0               0\n",
              "94259                1               0               0\n",
              "241228               1               0               0\n",
              "62941                1               0               0\n",
              "152849               1               0               0\n",
              "\n",
              "[16133 rows x 3 columns]"
            ],
            "text/html": [
              "\n",
              "  <div id=\"df-7b97b93c-cbf3-4e20-829d-3d7f90aaec1a\">\n",
              "    <div class=\"colab-df-container\">\n",
              "      <div>\n",
              "<style scoped>\n",
              "    .dataframe tbody tr th:only-of-type {\n",
              "        vertical-align: middle;\n",
              "    }\n",
              "\n",
              "    .dataframe tbody tr th {\n",
              "        vertical-align: top;\n",
              "    }\n",
              "\n",
              "    .dataframe thead th {\n",
              "        text-align: right;\n",
              "    }\n",
              "</style>\n",
              "<table border=\"1\" class=\"dataframe\">\n",
              "  <thead>\n",
              "    <tr style=\"text-align: right;\">\n",
              "      <th></th>\n",
              "      <th>Diabetes_012_1</th>\n",
              "      <th>Diabetes_012_2</th>\n",
              "      <th>Diabetes_012_3</th>\n",
              "    </tr>\n",
              "  </thead>\n",
              "  <tbody>\n",
              "    <tr>\n",
              "      <th>204300</th>\n",
              "      <td>1</td>\n",
              "      <td>0</td>\n",
              "      <td>0</td>\n",
              "    </tr>\n",
              "    <tr>\n",
              "      <th>187954</th>\n",
              "      <td>1</td>\n",
              "      <td>0</td>\n",
              "      <td>0</td>\n",
              "    </tr>\n",
              "    <tr>\n",
              "      <th>205236</th>\n",
              "      <td>1</td>\n",
              "      <td>0</td>\n",
              "      <td>0</td>\n",
              "    </tr>\n",
              "    <tr>\n",
              "      <th>104585</th>\n",
              "      <td>1</td>\n",
              "      <td>0</td>\n",
              "      <td>0</td>\n",
              "    </tr>\n",
              "    <tr>\n",
              "      <th>113139</th>\n",
              "      <td>1</td>\n",
              "      <td>0</td>\n",
              "      <td>0</td>\n",
              "    </tr>\n",
              "    <tr>\n",
              "      <th>...</th>\n",
              "      <td>...</td>\n",
              "      <td>...</td>\n",
              "      <td>...</td>\n",
              "    </tr>\n",
              "    <tr>\n",
              "      <th>252276</th>\n",
              "      <td>1</td>\n",
              "      <td>0</td>\n",
              "      <td>0</td>\n",
              "    </tr>\n",
              "    <tr>\n",
              "      <th>94259</th>\n",
              "      <td>1</td>\n",
              "      <td>0</td>\n",
              "      <td>0</td>\n",
              "    </tr>\n",
              "    <tr>\n",
              "      <th>241228</th>\n",
              "      <td>1</td>\n",
              "      <td>0</td>\n",
              "      <td>0</td>\n",
              "    </tr>\n",
              "    <tr>\n",
              "      <th>62941</th>\n",
              "      <td>1</td>\n",
              "      <td>0</td>\n",
              "      <td>0</td>\n",
              "    </tr>\n",
              "    <tr>\n",
              "      <th>152849</th>\n",
              "      <td>1</td>\n",
              "      <td>0</td>\n",
              "      <td>0</td>\n",
              "    </tr>\n",
              "  </tbody>\n",
              "</table>\n",
              "<p>16133 rows × 3 columns</p>\n",
              "</div>\n",
              "      <button class=\"colab-df-convert\" onclick=\"convertToInteractive('df-7b97b93c-cbf3-4e20-829d-3d7f90aaec1a')\"\n",
              "              title=\"Convert this dataframe to an interactive table.\"\n",
              "              style=\"display:none;\">\n",
              "        \n",
              "  <svg xmlns=\"http://www.w3.org/2000/svg\" height=\"24px\"viewBox=\"0 0 24 24\"\n",
              "       width=\"24px\">\n",
              "    <path d=\"M0 0h24v24H0V0z\" fill=\"none\"/>\n",
              "    <path d=\"M18.56 5.44l.94 2.06.94-2.06 2.06-.94-2.06-.94-.94-2.06-.94 2.06-2.06.94zm-11 1L8.5 8.5l.94-2.06 2.06-.94-2.06-.94L8.5 2.5l-.94 2.06-2.06.94zm10 10l.94 2.06.94-2.06 2.06-.94-2.06-.94-.94-2.06-.94 2.06-2.06.94z\"/><path d=\"M17.41 7.96l-1.37-1.37c-.4-.4-.92-.59-1.43-.59-.52 0-1.04.2-1.43.59L10.3 9.45l-7.72 7.72c-.78.78-.78 2.05 0 2.83L4 21.41c.39.39.9.59 1.41.59.51 0 1.02-.2 1.41-.59l7.78-7.78 2.81-2.81c.8-.78.8-2.07 0-2.86zM5.41 20L4 18.59l7.72-7.72 1.47 1.35L5.41 20z\"/>\n",
              "  </svg>\n",
              "      </button>\n",
              "      \n",
              "  <style>\n",
              "    .colab-df-container {\n",
              "      display:flex;\n",
              "      flex-wrap:wrap;\n",
              "      gap: 12px;\n",
              "    }\n",
              "\n",
              "    .colab-df-convert {\n",
              "      background-color: #E8F0FE;\n",
              "      border: none;\n",
              "      border-radius: 50%;\n",
              "      cursor: pointer;\n",
              "      display: none;\n",
              "      fill: #1967D2;\n",
              "      height: 32px;\n",
              "      padding: 0 0 0 0;\n",
              "      width: 32px;\n",
              "    }\n",
              "\n",
              "    .colab-df-convert:hover {\n",
              "      background-color: #E2EBFA;\n",
              "      box-shadow: 0px 1px 2px rgba(60, 64, 67, 0.3), 0px 1px 3px 1px rgba(60, 64, 67, 0.15);\n",
              "      fill: #174EA6;\n",
              "    }\n",
              "\n",
              "    [theme=dark] .colab-df-convert {\n",
              "      background-color: #3B4455;\n",
              "      fill: #D2E3FC;\n",
              "    }\n",
              "\n",
              "    [theme=dark] .colab-df-convert:hover {\n",
              "      background-color: #434B5C;\n",
              "      box-shadow: 0px 1px 3px 1px rgba(0, 0, 0, 0.15);\n",
              "      filter: drop-shadow(0px 1px 2px rgba(0, 0, 0, 0.3));\n",
              "      fill: #FFFFFF;\n",
              "    }\n",
              "  </style>\n",
              "\n",
              "      <script>\n",
              "        const buttonEl =\n",
              "          document.querySelector('#df-7b97b93c-cbf3-4e20-829d-3d7f90aaec1a button.colab-df-convert');\n",
              "        buttonEl.style.display =\n",
              "          google.colab.kernel.accessAllowed ? 'block' : 'none';\n",
              "\n",
              "        async function convertToInteractive(key) {\n",
              "          const element = document.querySelector('#df-7b97b93c-cbf3-4e20-829d-3d7f90aaec1a');\n",
              "          const dataTable =\n",
              "            await google.colab.kernel.invokeFunction('convertToInteractive',\n",
              "                                                     [key], {});\n",
              "          if (!dataTable) return;\n",
              "\n",
              "          const docLinkHtml = 'Like what you see? Visit the ' +\n",
              "            '<a target=\"_blank\" href=https://colab.research.google.com/notebooks/data_table.ipynb>data table notebook</a>'\n",
              "            + ' to learn more about interactive tables.';\n",
              "          element.innerHTML = '';\n",
              "          dataTable['output_type'] = 'display_data';\n",
              "          await google.colab.output.renderOutput(dataTable, element);\n",
              "          const docLink = document.createElement('div');\n",
              "          docLink.innerHTML = docLinkHtml;\n",
              "          element.appendChild(docLink);\n",
              "        }\n",
              "      </script>\n",
              "    </div>\n",
              "  </div>\n",
              "  "
            ]
          },
          "metadata": {},
          "execution_count": 26
        }
      ]
    },
    {
      "cell_type": "code",
      "source": [
        "# high index accuracies \n",
        "y_proba_high = new_model.predict(X_test_high)"
      ],
      "metadata": {
        "id": "dpMDBTB3s_pi"
      },
      "execution_count": 27,
      "outputs": []
    },
    {
      "cell_type": "code",
      "source": [
        "y_proba_high"
      ],
      "metadata": {
        "colab": {
          "base_uri": "https://localhost:8080/"
        },
        "id": "7hl4ZfCTtVip",
        "outputId": "8276f1c4-1631-42d9-b9e4-fd6e236dcd7c"
      },
      "execution_count": 28,
      "outputs": [
        {
          "output_type": "execute_result",
          "data": {
            "text/plain": [
              "array([[0.48920798, 0.4718651 , 0.03892694],\n",
              "       [0.93743175, 0.05097095, 0.01159721],\n",
              "       [0.9374002 , 0.05100911, 0.01159076],\n",
              "       ...,\n",
              "       [0.9374001 , 0.0510091 , 0.0115908 ],\n",
              "       [0.93743175, 0.05097095, 0.01159721],\n",
              "       [0.9374044 , 0.05100388, 0.01159169]], dtype=float32)"
            ]
          },
          "metadata": {},
          "execution_count": 28
        }
      ]
    },
    {
      "cell_type": "code",
      "source": [
        "y_pred_high = y_proba_high.argmax(axis = 1) # want 0,1,2 vector\n",
        "y_pred_high"
      ],
      "metadata": {
        "colab": {
          "base_uri": "https://localhost:8080/"
        },
        "id": "lGT_fSHAtg2V",
        "outputId": "0b85dac8-cbe1-4e4d-b86b-110f2d7fdea9"
      },
      "execution_count": 29,
      "outputs": [
        {
          "output_type": "execute_result",
          "data": {
            "text/plain": [
              "array([0, 0, 0, ..., 0, 0, 0])"
            ]
          },
          "metadata": {},
          "execution_count": 29
        }
      ]
    },
    {
      "cell_type": "code",
      "source": [
        "# need to y_test to be single vector of 0,1,2 again\n",
        "y_test_lab_high = diabetes.iloc[y_test_high.index, :]['Diabetes_012']\n",
        "y_test_lab_high"
      ],
      "metadata": {
        "colab": {
          "base_uri": "https://localhost:8080/"
        },
        "id": "i5fd-H2JtsFb",
        "outputId": "9bfc3d8c-7989-4026-bf40-13a98409a856"
      },
      "execution_count": 30,
      "outputs": [
        {
          "output_type": "execute_result",
          "data": {
            "text/plain": [
              "204300    0.0\n",
              "187954    0.0\n",
              "205236    0.0\n",
              "104585    0.0\n",
              "113139    0.0\n",
              "         ... \n",
              "252276    0.0\n",
              "94259     0.0\n",
              "241228    0.0\n",
              "62941     0.0\n",
              "152849    0.0\n",
              "Name: Diabetes_012, Length: 16133, dtype: float64"
            ]
          },
          "metadata": {},
          "execution_count": 30
        }
      ]
    },
    {
      "cell_type": "code",
      "source": [
        "# create accuracy table \n",
        "#importing confusion matrix\n",
        "confusion = confusion_matrix(y_test_lab_high, y_pred_high)\n",
        "print('Confusion Matrix\\n')\n",
        "print(confusion)\n",
        "\n",
        "#importing accuracy_score, precision_score, recall_score, f1_score\n",
        "print('\\nAccuracy: {:.2f}\\n'.format(accuracy_score(y_test_lab_high, y_pred_high)))\n",
        "\n",
        "print('\\nClassification Report\\n')\n",
        "print(classification_report(y_test_lab_high, y_pred_high, target_names=['No diabetes', 'Prediabetes', 'Diabetes']))"
      ],
      "metadata": {
        "colab": {
          "base_uri": "https://localhost:8080/"
        },
        "id": "DYPe8v1NutTJ",
        "outputId": "dd04b2a1-583e-45f9-8acf-0bd4d45435d9"
      },
      "execution_count": 31,
      "outputs": [
        {
          "output_type": "stream",
          "name": "stdout",
          "text": [
            "Confusion Matrix\n",
            "\n",
            "[[13005   218     0]\n",
            " [  301    23     0]\n",
            " [ 2250   336     0]]\n",
            "\n",
            "Accuracy: 0.81\n",
            "\n",
            "\n",
            "Classification Report\n",
            "\n",
            "              precision    recall  f1-score   support\n",
            "\n",
            " No diabetes       0.84      0.98      0.90     13223\n",
            " Prediabetes       0.04      0.07      0.05       324\n",
            "    Diabetes       0.00      0.00      0.00      2586\n",
            "\n",
            "    accuracy                           0.81     16133\n",
            "   macro avg       0.29      0.35      0.32     16133\n",
            "weighted avg       0.69      0.81      0.74     16133\n",
            "\n"
          ]
        },
        {
          "output_type": "stream",
          "name": "stderr",
          "text": [
            "/usr/local/lib/python3.7/dist-packages/sklearn/metrics/_classification.py:1318: UndefinedMetricWarning: Precision and F-score are ill-defined and being set to 0.0 in labels with no predicted samples. Use `zero_division` parameter to control this behavior.\n",
            "  _warn_prf(average, modifier, msg_start, len(result))\n",
            "/usr/local/lib/python3.7/dist-packages/sklearn/metrics/_classification.py:1318: UndefinedMetricWarning: Precision and F-score are ill-defined and being set to 0.0 in labels with no predicted samples. Use `zero_division` parameter to control this behavior.\n",
            "  _warn_prf(average, modifier, msg_start, len(result))\n",
            "/usr/local/lib/python3.7/dist-packages/sklearn/metrics/_classification.py:1318: UndefinedMetricWarning: Precision and F-score are ill-defined and being set to 0.0 in labels with no predicted samples. Use `zero_division` parameter to control this behavior.\n",
            "  _warn_prf(average, modifier, msg_start, len(result))\n"
          ]
        }
      ]
    },
    {
      "cell_type": "code",
      "source": [
        "# repeat above for low \n",
        "# high index accuracies \n",
        "y_proba_low = new_model.predict(X_test_low)\n",
        "\n",
        "y_pred_low = y_proba_low.argmax(axis = 1) # want 0,1,2 vector\n",
        "\n",
        "# need to y_test to be single vector of 0,1,2 again\n",
        "y_test_lab_low = diabetes.iloc[y_test_low.index, :]['Diabetes_012']\n",
        "y_test_lab_low"
      ],
      "metadata": {
        "colab": {
          "base_uri": "https://localhost:8080/"
        },
        "id": "mj-eVpBSu-Ye",
        "outputId": "a8435053-fdae-4253-9796-42f05fe0a09f"
      },
      "execution_count": 32,
      "outputs": [
        {
          "output_type": "execute_result",
          "data": {
            "text/plain": [
              "193256    0.0\n",
              "52416     0.0\n",
              "125094    0.0\n",
              "74892     0.0\n",
              "1357      0.0\n",
              "         ... \n",
              "87225     0.0\n",
              "70127     0.0\n",
              "78535     0.0\n",
              "210913    2.0\n",
              "72847     0.0\n",
              "Name: Diabetes_012, Length: 34603, dtype: float64"
            ]
          },
          "metadata": {},
          "execution_count": 32
        }
      ]
    },
    {
      "cell_type": "code",
      "source": [
        "# create accuracy table \n",
        "#importing confusion matrix\n",
        "confusion = confusion_matrix(y_test_lab_low, y_pred_low)\n",
        "print('Confusion Matrix\\n')\n",
        "print(confusion)\n",
        "\n",
        "#importing accuracy_score, precision_score, recall_score, f1_score\n",
        "print('\\nAccuracy: {:.2f}\\n'.format(accuracy_score(y_test_lab_low, y_pred_low)))\n",
        "\n",
        "\n",
        "print('\\nClassification Report\\n')\n",
        "print(classification_report(y_test_lab_low, y_pred_low, target_names=['No diabetes', 'Prediabetes', 'Diabetes']))"
      ],
      "metadata": {
        "colab": {
          "base_uri": "https://localhost:8080/"
        },
        "id": "tuhMhS7uvSAH",
        "outputId": "9b88aef3-cb99-4cf8-e1aa-dad79cba8a02"
      },
      "execution_count": 33,
      "outputs": [
        {
          "output_type": "stream",
          "name": "stdout",
          "text": [
            "Confusion Matrix\n",
            "\n",
            "[[29013   471     0]\n",
            " [  563    45     0]\n",
            " [ 3881   630     0]]\n",
            "\n",
            "Accuracy: 0.84\n",
            "\n",
            "\n",
            "Classification Report\n",
            "\n",
            "              precision    recall  f1-score   support\n",
            "\n",
            " No diabetes       0.87      0.98      0.92     29484\n",
            " Prediabetes       0.04      0.07      0.05       608\n",
            "    Diabetes       0.00      0.00      0.00      4511\n",
            "\n",
            "    accuracy                           0.84     34603\n",
            "   macro avg       0.30      0.35      0.32     34603\n",
            "weighted avg       0.74      0.84      0.79     34603\n",
            "\n"
          ]
        },
        {
          "output_type": "stream",
          "name": "stderr",
          "text": [
            "/usr/local/lib/python3.7/dist-packages/sklearn/metrics/_classification.py:1318: UndefinedMetricWarning: Precision and F-score are ill-defined and being set to 0.0 in labels with no predicted samples. Use `zero_division` parameter to control this behavior.\n",
            "  _warn_prf(average, modifier, msg_start, len(result))\n",
            "/usr/local/lib/python3.7/dist-packages/sklearn/metrics/_classification.py:1318: UndefinedMetricWarning: Precision and F-score are ill-defined and being set to 0.0 in labels with no predicted samples. Use `zero_division` parameter to control this behavior.\n",
            "  _warn_prf(average, modifier, msg_start, len(result))\n",
            "/usr/local/lib/python3.7/dist-packages/sklearn/metrics/_classification.py:1318: UndefinedMetricWarning: Precision and F-score are ill-defined and being set to 0.0 in labels with no predicted samples. Use `zero_division` parameter to control this behavior.\n",
            "  _warn_prf(average, modifier, msg_start, len(result))\n"
          ]
        }
      ]
    },
    {
      "cell_type": "markdown",
      "source": [
        "## Next steps: \n",
        "\n",
        "Change the batch size to be larger and then can potentially make the epoch a little bit smaller. (daniel) \n",
        "\n",
        "1) **Look at models and see that the accuracy/test errors make sense**(Bhawesh and Lauren)\n",
        "*instead will look at the binary split dataset*\n",
        "\n",
        "\n",
        "For the R code, make 3 by 3 confusion matrices. (Willow) \n",
        "\n",
        "Calculate the accuracy for these models. (Willow)\n",
        "\n",
        "Look into PPV, NPV and compare these. (look into after?)\n",
        "\n",
        "\n",
        "Look at PCA (Rindala) \n",
        "\n",
        "\n",
        "1. Actually, we will just include a statement about why the unbalanced dataset did not work/issues it had. "
      ],
      "metadata": {
        "id": "161NJO0BhvNb"
      }
    }
  ]
}